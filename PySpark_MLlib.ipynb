{
  "cells": [
    {
      "cell_type": "code",
      "execution_count": 1,
      "metadata": {
        "id": "aAfBJ5OQhcTu",
        "colab": {
          "base_uri": "https://localhost:8080/"
        },
        "outputId": "72d49038-cab2-4b35-8e1c-3c0e663ed94d"
      },
      "outputs": [
        {
          "output_type": "stream",
          "name": "stdout",
          "text": [
            "Looking in indexes: https://pypi.org/simple, https://us-python.pkg.dev/colab-wheels/public/simple/\n",
            "Collecting pyspark\n",
            "  Downloading pyspark-3.3.2.tar.gz (281.4 MB)\n",
            "\u001b[2K     \u001b[90m━━━━━━━━━━━━━━━━━━━━━━━━━━━━━━━━━━━━━━━\u001b[0m \u001b[32m281.4/281.4 MB\u001b[0m \u001b[31m3.4 MB/s\u001b[0m eta \u001b[36m0:00:00\u001b[0m\n",
            "\u001b[?25h  Preparing metadata (setup.py) ... \u001b[?25l\u001b[?25hdone\n",
            "Collecting findspark\n",
            "  Downloading findspark-2.0.1-py2.py3-none-any.whl (4.4 kB)\n",
            "Collecting py4j==0.10.9.5\n",
            "  Downloading py4j-0.10.9.5-py2.py3-none-any.whl (199 kB)\n",
            "\u001b[2K     \u001b[90m━━━━━━━━━━━━━━━━━━━━━━━━━━━━━━━━━━━━━━\u001b[0m \u001b[32m199.7/199.7 KB\u001b[0m \u001b[31m14.1 MB/s\u001b[0m eta \u001b[36m0:00:00\u001b[0m\n",
            "\u001b[?25hBuilding wheels for collected packages: pyspark\n",
            "  Created wheel for pyspark: filename=pyspark-3.3.2-py2.py3-none-any.whl size=281824025 sha256=d9f32c7159b22811a8378dd4133ee54d96da79b88486bde081c89d9f41ed4708\n",
            "  Stored in directory: /root/.cache/pip/wheels/6c/e3/9b/0525ce8a69478916513509d43693511463c6468db0de237c86\n",
            "Successfully built pyspark\n",
            "Installing collected packages: py4j, findspark, pyspark\n",
            "Successfully installed findspark-2.0.1 py4j-0.10.9.5 pyspark-3.3.2\n"
          ]
        }
      ],
      "source": [
        "!pip install pyspark findspark"
      ]
    },
    {
      "cell_type": "code",
      "execution_count": 2,
      "metadata": {
        "id": "BNdat6SPhiEH"
      },
      "outputs": [],
      "source": [
        "from pyspark.sql import SparkSession\n",
        "from pyspark import SparkContext, SparkConf\n",
        "\n",
        "conf = SparkConf().set('spark.ui.port', '4050').set('spark.serializer', 'org.apache.spark.serializer.KryoSerializer')\\\n",
        "                  .set('spark.dynamicAllocation.enabled', 'true')\\\n",
        "                  .set('spark.shuffle.service.enabled', 'true') #трекер, чтобы возвращать ресурсы\n",
        "sc = SparkContext(conf=conf)\n",
        "spark = SparkSession.builder.master('local[*]').getOrCreate()"
      ]
    },
    {
      "cell_type": "markdown",
      "metadata": {
        "id": "FZORGQJAkELA"
      },
      "source": [
        "Анализировать будет датасет отсюда https://www.kaggle.com/shelvigarg/credit-card-buyers\n",
        "\n",
        "Definition\n",
        "\n",
        "ID - Unique Identifier for a row\n",
        "\n",
        "Gender - Gender of the Customer\n",
        "\n",
        "Age - Age of the Customer (in Years)\n",
        "\n",
        "Region_Code - Code of the Region for the customers\n",
        "\n",
        "Occupation - Occupation Type for the customer\n",
        "\n",
        "Channel_Code - Acquisition Channel Code for the Customer (Encoded)\n",
        "\n",
        "Vintage - Vintage for the Customer (In Months)\n",
        "\n",
        "Credit_Product - If the Customer has any active credit product (Home loan Personal loan, Credit Card etc.)\n",
        "\n",
        "AvgAccountBalance - Average Account Balance for the Customer in last 12 Months\n",
        "\n",
        "Is_Active - If the Customer is Active in last 3 Months"
      ]
    },
    {
      "cell_type": "markdown",
      "metadata": {
        "id": "YIgE50bSlRBK"
      },
      "source": [
        "Загрузим данные и посмотрим, что там внутри"
      ]
    },
    {
      "cell_type": "code",
      "execution_count": 3,
      "metadata": {
        "id": "tsUQHB1FjhPO"
      },
      "outputs": [],
      "source": [
        "data = spark.read.csv('credit_card_data.csv', header=True, inferSchema=True)"
      ]
    },
    {
      "cell_type": "code",
      "execution_count": 4,
      "metadata": {
        "id": "YbvoQA6clcY-",
        "colab": {
          "base_uri": "https://localhost:8080/"
        },
        "outputId": "fcf5b446-4091-45b7-ffe9-fd81d551576b"
      },
      "outputs": [
        {
          "output_type": "stream",
          "name": "stdout",
          "text": [
            "root\n",
            " |-- ID: string (nullable = true)\n",
            " |-- Gender: string (nullable = true)\n",
            " |-- Age: integer (nullable = true)\n",
            " |-- Region_Code: string (nullable = true)\n",
            " |-- Occupation: string (nullable = true)\n",
            " |-- Channel_Code: string (nullable = true)\n",
            " |-- Vintage: integer (nullable = true)\n",
            " |-- Credit_Product: string (nullable = true)\n",
            " |-- Avg_Account_Balance: integer (nullable = true)\n",
            " |-- Is_Active: string (nullable = true)\n",
            " |-- Is_Lead: integer (nullable = true)\n",
            "\n"
          ]
        }
      ],
      "source": [
        "data.printSchema()"
      ]
    },
    {
      "cell_type": "code",
      "execution_count": 5,
      "metadata": {
        "id": "4_sCeIsAlPoS",
        "colab": {
          "base_uri": "https://localhost:8080/"
        },
        "outputId": "a16212d1-2ae6-4e9f-84ed-29df7dfd86d7"
      },
      "outputs": [
        {
          "output_type": "stream",
          "name": "stdout",
          "text": [
            "+--------+------+---+-----------+-------------+------------+-------+--------------+-------------------+---------+-------+\n",
            "|      ID|Gender|Age|Region_Code|   Occupation|Channel_Code|Vintage|Credit_Product|Avg_Account_Balance|Is_Active|Is_Lead|\n",
            "+--------+------+---+-----------+-------------+------------+-------+--------------+-------------------+---------+-------+\n",
            "|NNVBBKZB|Female| 73|      RG268|        Other|          X3|     43|            No|            1045696|       No|      0|\n",
            "|IDD62UNG|Female| 30|      RG277|     Salaried|          X1|     32|            No|             581988|       No|      0|\n",
            "|HD3DSEMC|Female| 56|      RG268|Self_Employed|          X3|     26|            No|            1484315|      Yes|      0|\n",
            "|BF3NC7KV|  Male| 34|      RG270|     Salaried|          X1|     19|            No|             470454|       No|      0|\n",
            "|TEASRWXV|Female| 30|      RG282|     Salaried|          X1|     33|            No|             886787|       No|      0|\n",
            "|ACUTYTWS|  Male| 56|      RG261|Self_Employed|          X1|     32|            No|             544163|      Yes|      0|\n",
            "|ETQCZFEJ|  Male| 62|      RG282|        Other|          X3|     20|          null|            1056750|      Yes|      1|\n",
            "|JJNJUQMQ|Female| 48|      RG265|Self_Employed|          X3|     13|            No|             444724|      Yes|      0|\n",
            "|ZMQFYKCB|Female| 40|      RG283|Self_Employed|          X2|     38|            No|            1274284|       No|      0|\n",
            "|NVKTFBA2|Female| 55|      RG268|Self_Employed|          X2|     49|           Yes|            2014239|       No|      0|\n",
            "|NVC424KZ|  Male| 53|      RG254|Self_Employed|          X3|    123|            No|             980664|      Yes|      0|\n",
            "|GZ5TMYIR|  Male| 27|      RG270|Self_Employed|          X1|     14|           Yes|             502787|       No|      0|\n",
            "|FCPEEIY3|Female| 27|      RG277|     Salaried|          X1|     20|            No|             811591|      Yes|      0|\n",
            "|KCE7JSFN|  Male| 31|      RG254|     Salaried|          X1|     31|           Yes|             938754|       No|      0|\n",
            "|EMEEHHBK|  Male| 79|      RG277|        Other|          X3|     57|            No|             832185|      Yes|      0|\n",
            "|UJ2NJKKL|  Male| 33|      RG268|Self_Employed|          X2|     69|          null|             517063|      Yes|      1|\n",
            "|CNGSPYWS|Female| 46|      RG268|        Other|          X3|     97|           Yes|            2282502|       No|      1|\n",
            "|VH7NBNNQ|Female| 59|      RG283|        Other|          X3|     15|           Yes|            2384692|       No|      1|\n",
            "|HDNJXDWC|Female| 65|      RG277|        Other|          X2|     20|            No|             341573|      Yes|      0|\n",
            "|BDOKI4CP|Female| 37|      RG269|        Other|          X1|     63|            No|             633484|      Yes|      0|\n",
            "+--------+------+---+-----------+-------------+------------+-------+--------------+-------------------+---------+-------+\n",
            "only showing top 20 rows\n",
            "\n"
          ]
        }
      ],
      "source": [
        "data.show()"
      ]
    },
    {
      "cell_type": "markdown",
      "metadata": {
        "id": "KXN0MI0xlx3N"
      },
      "source": [
        "Посмотрим различные базовые вещи"
      ]
    },
    {
      "cell_type": "code",
      "execution_count": 6,
      "metadata": {
        "id": "j3wkDh42mATz"
      },
      "outputs": [],
      "source": [
        "from pyspark.sql.functions import col,isnan, when, count"
      ]
    },
    {
      "cell_type": "code",
      "execution_count": 7,
      "metadata": {
        "id": "YeJKCEzbmErU",
        "colab": {
          "base_uri": "https://localhost:8080/"
        },
        "outputId": "be09a3c1-b0f3-43bc-cb20-1905b04f820b"
      },
      "outputs": [
        {
          "output_type": "stream",
          "name": "stdout",
          "text": [
            "+---+------+---+-----------+----------+------------+-------+--------------+-------------------+---------+-------+\n",
            "| ID|Gender|Age|Region_Code|Occupation|Channel_Code|Vintage|Credit_Product|Avg_Account_Balance|Is_Active|Is_Lead|\n",
            "+---+------+---+-----------+----------+------------+-------+--------------+-------------------+---------+-------+\n",
            "|  0|     0|  0|          0|         0|           0|      0|         29325|                  0|        0|      0|\n",
            "+---+------+---+-----------+----------+------------+-------+--------------+-------------------+---------+-------+\n",
            "\n"
          ]
        }
      ],
      "source": [
        "data.select([count(when(isnan(c) | col(c).isNull(), c)).alias(c) for c in data.columns]).show()"
      ]
    },
    {
      "cell_type": "markdown",
      "metadata": {
        "id": "Dika1L3qmLuF"
      },
      "source": [
        "Пропуски только в кредитном продукте, логично заметь на тип, что кредита нет"
      ]
    },
    {
      "cell_type": "code",
      "execution_count": 8,
      "metadata": {
        "id": "w20frxn8m3Nw",
        "colab": {
          "base_uri": "https://localhost:8080/"
        },
        "outputId": "b21653ad-9a60-40db-e6e7-6e081ca3e26d"
      },
      "outputs": [
        {
          "output_type": "stream",
          "name": "stdout",
          "text": [
            "+--------------+------+\n",
            "|Credit_Product| count|\n",
            "+--------------+------+\n",
            "|          null| 29325|\n",
            "|            No|144357|\n",
            "|           Yes| 72043|\n",
            "+--------------+------+\n",
            "\n"
          ]
        }
      ],
      "source": [
        "data.select(col('Credit_Product')).groupBy('Credit_Product').count().show()"
      ]
    },
    {
      "cell_type": "code",
      "execution_count": 9,
      "metadata": {
        "id": "PhfHAQs8mKmn"
      },
      "outputs": [],
      "source": [
        "data = data.fillna({'Credit_Product': 'No'})"
      ]
    },
    {
      "cell_type": "markdown",
      "metadata": {
        "id": "b6fVb5RAnQ2u"
      },
      "source": [
        "Проверим"
      ]
    },
    {
      "cell_type": "code",
      "execution_count": 10,
      "metadata": {
        "id": "q8T1WGqSnSR-",
        "colab": {
          "base_uri": "https://localhost:8080/"
        },
        "outputId": "352d702c-4601-48e4-c99d-b9b33dbd4765"
      },
      "outputs": [
        {
          "output_type": "stream",
          "name": "stdout",
          "text": [
            "+--------------+------+\n",
            "|Credit_Product| count|\n",
            "+--------------+------+\n",
            "|            No|173682|\n",
            "|           Yes| 72043|\n",
            "+--------------+------+\n",
            "\n"
          ]
        }
      ],
      "source": [
        "data.select(col('Credit_Product')).groupBy('Credit_Product').count().show()"
      ]
    },
    {
      "cell_type": "markdown",
      "metadata": {
        "id": "KtDur_eFnU9M"
      },
      "source": [
        "Посмотри на данные с точки зрения дисбаланса классов"
      ]
    },
    {
      "cell_type": "code",
      "execution_count": 11,
      "metadata": {
        "id": "PtIMjIMbnisg",
        "colab": {
          "base_uri": "https://localhost:8080/"
        },
        "outputId": "c8733317-cd9d-45be-e631-bc03077ffe65"
      },
      "outputs": [
        {
          "output_type": "execute_result",
          "data": {
            "text/plain": [
              "245725"
            ]
          },
          "metadata": {},
          "execution_count": 11
        }
      ],
      "source": [
        "data.count()"
      ]
    },
    {
      "cell_type": "code",
      "execution_count": 12,
      "metadata": {
        "id": "qyX_QHI9oKfP"
      },
      "outputs": [],
      "source": [
        "import pyspark.sql.functions as F"
      ]
    },
    {
      "cell_type": "code",
      "execution_count": 13,
      "metadata": {
        "id": "ZFJ2i3UklxJH",
        "colab": {
          "base_uri": "https://localhost:8080/"
        },
        "outputId": "6a7f7aaa-edf5-4fe5-96f0-13f8cdbd296b"
      },
      "outputs": [
        {
          "output_type": "stream",
          "name": "stdout",
          "text": [
            "+-------+-----+\n",
            "|Is_Lead|count|\n",
            "+-------+-----+\n",
            "|      1| 0.24|\n",
            "|      0| 0.76|\n",
            "+-------+-----+\n",
            "\n"
          ]
        }
      ],
      "source": [
        "data.select(col('Is_Lead'))\\\n",
        "    .groupBy('Is_Lead')\\\n",
        "    .count()\\\n",
        "    .withColumn('count', F.round(col('count') / data.count(), 2))\\\n",
        "    .show()"
      ]
    },
    {
      "cell_type": "markdown",
      "metadata": {
        "id": "8C4-7JsCotMW"
      },
      "source": [
        "Ладно, достаточно, мы тут сейчас говорим про MLlib, всякие анализы - тема прошлого семинара"
      ]
    },
    {
      "cell_type": "markdown",
      "metadata": {
        "id": "hFW-5rVezUzj"
      },
      "source": [
        "**Некоторые преобразования данных**"
      ]
    },
    {
      "cell_type": "markdown",
      "metadata": {
        "id": "DIVOhaAJ2MYW"
      },
      "source": [
        "Начнем с простой обработки категориальных переменных"
      ]
    },
    {
      "cell_type": "code",
      "execution_count": 14,
      "metadata": {
        "id": "Ol8QdvOIza7d"
      },
      "outputs": [],
      "source": [
        "from pyspark.ml.feature import StringIndexer, IndexToString, OneHotEncoder"
      ]
    },
    {
      "cell_type": "code",
      "execution_count": 15,
      "metadata": {
        "id": "VPOBb0j_zrmL",
        "colab": {
          "base_uri": "https://localhost:8080/"
        },
        "outputId": "74948919-65f4-4e7d-80cb-573b7df96c72"
      },
      "outputs": [
        {
          "output_type": "stream",
          "name": "stdout",
          "text": [
            "+--------+------+---+-----------+-------------+------------+-------+--------------+-------------------+---------+-------+-----------+\n",
            "|      ID|Gender|Age|Region_Code|   Occupation|Channel_Code|Vintage|Credit_Product|Avg_Account_Balance|Is_Active|Is_Lead|GenderIndex|\n",
            "+--------+------+---+-----------+-------------+------------+-------+--------------+-------------------+---------+-------+-----------+\n",
            "|NNVBBKZB|Female| 73|      RG268|        Other|          X3|     43|            No|            1045696|       No|      0|        1.0|\n",
            "|IDD62UNG|Female| 30|      RG277|     Salaried|          X1|     32|            No|             581988|       No|      0|        1.0|\n",
            "|HD3DSEMC|Female| 56|      RG268|Self_Employed|          X3|     26|            No|            1484315|      Yes|      0|        1.0|\n",
            "|BF3NC7KV|  Male| 34|      RG270|     Salaried|          X1|     19|            No|             470454|       No|      0|        0.0|\n",
            "|TEASRWXV|Female| 30|      RG282|     Salaried|          X1|     33|            No|             886787|       No|      0|        1.0|\n",
            "|ACUTYTWS|  Male| 56|      RG261|Self_Employed|          X1|     32|            No|             544163|      Yes|      0|        0.0|\n",
            "|ETQCZFEJ|  Male| 62|      RG282|        Other|          X3|     20|            No|            1056750|      Yes|      1|        0.0|\n",
            "|JJNJUQMQ|Female| 48|      RG265|Self_Employed|          X3|     13|            No|             444724|      Yes|      0|        1.0|\n",
            "|ZMQFYKCB|Female| 40|      RG283|Self_Employed|          X2|     38|            No|            1274284|       No|      0|        1.0|\n",
            "|NVKTFBA2|Female| 55|      RG268|Self_Employed|          X2|     49|           Yes|            2014239|       No|      0|        1.0|\n",
            "|NVC424KZ|  Male| 53|      RG254|Self_Employed|          X3|    123|            No|             980664|      Yes|      0|        0.0|\n",
            "|GZ5TMYIR|  Male| 27|      RG270|Self_Employed|          X1|     14|           Yes|             502787|       No|      0|        0.0|\n",
            "|FCPEEIY3|Female| 27|      RG277|     Salaried|          X1|     20|            No|             811591|      Yes|      0|        1.0|\n",
            "|KCE7JSFN|  Male| 31|      RG254|     Salaried|          X1|     31|           Yes|             938754|       No|      0|        0.0|\n",
            "|EMEEHHBK|  Male| 79|      RG277|        Other|          X3|     57|            No|             832185|      Yes|      0|        0.0|\n",
            "|UJ2NJKKL|  Male| 33|      RG268|Self_Employed|          X2|     69|            No|             517063|      Yes|      1|        0.0|\n",
            "|CNGSPYWS|Female| 46|      RG268|        Other|          X3|     97|           Yes|            2282502|       No|      1|        1.0|\n",
            "|VH7NBNNQ|Female| 59|      RG283|        Other|          X3|     15|           Yes|            2384692|       No|      1|        1.0|\n",
            "|HDNJXDWC|Female| 65|      RG277|        Other|          X2|     20|            No|             341573|      Yes|      0|        1.0|\n",
            "|BDOKI4CP|Female| 37|      RG269|        Other|          X1|     63|            No|             633484|      Yes|      0|        1.0|\n",
            "+--------+------+---+-----------+-------------+------------+-------+--------------+-------------------+---------+-------+-----------+\n",
            "only showing top 20 rows\n",
            "\n"
          ]
        }
      ],
      "source": [
        "gender_indexer = StringIndexer(inputCol=\"Gender\", outputCol=\"GenderIndex\")\n",
        "gender_indexer = gender_indexer.fit(data)\n",
        "data = gender_indexer.transform(data)\n",
        "\n",
        "data.show()"
      ]
    },
    {
      "cell_type": "code",
      "execution_count": 16,
      "metadata": {
        "id": "ZAW5y21P0y7e",
        "colab": {
          "base_uri": "https://localhost:8080/"
        },
        "outputId": "b579502e-f5d7-47e9-9674-42505ed22688"
      },
      "outputs": [
        {
          "output_type": "execute_result",
          "data": {
            "text/plain": [
              "['Male', 'Female']"
            ]
          },
          "metadata": {},
          "execution_count": 16
        }
      ],
      "source": [
        "gender_indexer.labels"
      ]
    },
    {
      "cell_type": "markdown",
      "metadata": {
        "id": "EwrZceE71Xwk"
      },
      "source": [
        "Обратная трансформация доступна через метод"
      ]
    },
    {
      "cell_type": "code",
      "execution_count": 17,
      "metadata": {
        "id": "nWclZb5s08ay",
        "colab": {
          "base_uri": "https://localhost:8080/"
        },
        "outputId": "81e898e0-3db3-475e-cebf-a296ebad8e7c"
      },
      "outputs": [
        {
          "output_type": "stream",
          "name": "stdout",
          "text": [
            "+--------+------+---+-----------+-------------+------------+-------+--------------+-------------------+---------+-------+-----------+--------------+\n",
            "|      ID|Gender|Age|Region_Code|   Occupation|Channel_Code|Vintage|Credit_Product|Avg_Account_Balance|Is_Active|Is_Lead|GenderIndex|originalGender|\n",
            "+--------+------+---+-----------+-------------+------------+-------+--------------+-------------------+---------+-------+-----------+--------------+\n",
            "|NNVBBKZB|Female| 73|      RG268|        Other|          X3|     43|            No|            1045696|       No|      0|        1.0|        Female|\n",
            "|IDD62UNG|Female| 30|      RG277|     Salaried|          X1|     32|            No|             581988|       No|      0|        1.0|        Female|\n",
            "|HD3DSEMC|Female| 56|      RG268|Self_Employed|          X3|     26|            No|            1484315|      Yes|      0|        1.0|        Female|\n",
            "|BF3NC7KV|  Male| 34|      RG270|     Salaried|          X1|     19|            No|             470454|       No|      0|        0.0|          Male|\n",
            "|TEASRWXV|Female| 30|      RG282|     Salaried|          X1|     33|            No|             886787|       No|      0|        1.0|        Female|\n",
            "|ACUTYTWS|  Male| 56|      RG261|Self_Employed|          X1|     32|            No|             544163|      Yes|      0|        0.0|          Male|\n",
            "|ETQCZFEJ|  Male| 62|      RG282|        Other|          X3|     20|            No|            1056750|      Yes|      1|        0.0|          Male|\n",
            "|JJNJUQMQ|Female| 48|      RG265|Self_Employed|          X3|     13|            No|             444724|      Yes|      0|        1.0|        Female|\n",
            "|ZMQFYKCB|Female| 40|      RG283|Self_Employed|          X2|     38|            No|            1274284|       No|      0|        1.0|        Female|\n",
            "|NVKTFBA2|Female| 55|      RG268|Self_Employed|          X2|     49|           Yes|            2014239|       No|      0|        1.0|        Female|\n",
            "|NVC424KZ|  Male| 53|      RG254|Self_Employed|          X3|    123|            No|             980664|      Yes|      0|        0.0|          Male|\n",
            "|GZ5TMYIR|  Male| 27|      RG270|Self_Employed|          X1|     14|           Yes|             502787|       No|      0|        0.0|          Male|\n",
            "|FCPEEIY3|Female| 27|      RG277|     Salaried|          X1|     20|            No|             811591|      Yes|      0|        1.0|        Female|\n",
            "|KCE7JSFN|  Male| 31|      RG254|     Salaried|          X1|     31|           Yes|             938754|       No|      0|        0.0|          Male|\n",
            "|EMEEHHBK|  Male| 79|      RG277|        Other|          X3|     57|            No|             832185|      Yes|      0|        0.0|          Male|\n",
            "|UJ2NJKKL|  Male| 33|      RG268|Self_Employed|          X2|     69|            No|             517063|      Yes|      1|        0.0|          Male|\n",
            "|CNGSPYWS|Female| 46|      RG268|        Other|          X3|     97|           Yes|            2282502|       No|      1|        1.0|        Female|\n",
            "|VH7NBNNQ|Female| 59|      RG283|        Other|          X3|     15|           Yes|            2384692|       No|      1|        1.0|        Female|\n",
            "|HDNJXDWC|Female| 65|      RG277|        Other|          X2|     20|            No|             341573|      Yes|      0|        1.0|        Female|\n",
            "|BDOKI4CP|Female| 37|      RG269|        Other|          X1|     63|            No|             633484|      Yes|      0|        1.0|        Female|\n",
            "+--------+------+---+-----------+-------------+------------+-------+--------------+-------------------+---------+-------+-----------+--------------+\n",
            "only showing top 20 rows\n",
            "\n"
          ]
        }
      ],
      "source": [
        "converter = IndexToString(inputCol=\"GenderIndex\", outputCol=\"originalGender\")\n",
        "data = converter.transform(data)\n",
        "data.show()"
      ]
    },
    {
      "cell_type": "markdown",
      "metadata": {
        "id": "2_xa6Egj10ts"
      },
      "source": [
        "Давайте аналогично поступим с каналом продаж и типом занятости"
      ]
    },
    {
      "cell_type": "code",
      "execution_count": 18,
      "metadata": {
        "id": "E15ddrq80S3V",
        "colab": {
          "base_uri": "https://localhost:8080/"
        },
        "outputId": "11e422db-bb6f-4e2e-c1bc-efd3229a6e4f"
      },
      "outputs": [
        {
          "output_type": "stream",
          "name": "stdout",
          "text": [
            "+--------+------+---+-----------+-------------+------------+-------+--------------+-------------------+---------+-------+-----------+--------------+---------------+------------+\n",
            "|      ID|Gender|Age|Region_Code|   Occupation|Channel_Code|Vintage|Credit_Product|Avg_Account_Balance|Is_Active|Is_Lead|GenderIndex|originalGender|OccupationIndex|ChannelIndex|\n",
            "+--------+------+---+-----------+-------------+------------+-------+--------------+-------------------+---------+-------+-----------+--------------+---------------+------------+\n",
            "|NNVBBKZB|Female| 73|      RG268|        Other|          X3|     43|            No|            1045696|       No|      0|        1.0|        Female|            2.0|         1.0|\n",
            "|IDD62UNG|Female| 30|      RG277|     Salaried|          X1|     32|            No|             581988|       No|      0|        1.0|        Female|            1.0|         0.0|\n",
            "|HD3DSEMC|Female| 56|      RG268|Self_Employed|          X3|     26|            No|            1484315|      Yes|      0|        1.0|        Female|            0.0|         1.0|\n",
            "|BF3NC7KV|  Male| 34|      RG270|     Salaried|          X1|     19|            No|             470454|       No|      0|        0.0|          Male|            1.0|         0.0|\n",
            "|TEASRWXV|Female| 30|      RG282|     Salaried|          X1|     33|            No|             886787|       No|      0|        1.0|        Female|            1.0|         0.0|\n",
            "|ACUTYTWS|  Male| 56|      RG261|Self_Employed|          X1|     32|            No|             544163|      Yes|      0|        0.0|          Male|            0.0|         0.0|\n",
            "|ETQCZFEJ|  Male| 62|      RG282|        Other|          X3|     20|            No|            1056750|      Yes|      1|        0.0|          Male|            2.0|         1.0|\n",
            "|JJNJUQMQ|Female| 48|      RG265|Self_Employed|          X3|     13|            No|             444724|      Yes|      0|        1.0|        Female|            0.0|         1.0|\n",
            "|ZMQFYKCB|Female| 40|      RG283|Self_Employed|          X2|     38|            No|            1274284|       No|      0|        1.0|        Female|            0.0|         2.0|\n",
            "|NVKTFBA2|Female| 55|      RG268|Self_Employed|          X2|     49|           Yes|            2014239|       No|      0|        1.0|        Female|            0.0|         2.0|\n",
            "|NVC424KZ|  Male| 53|      RG254|Self_Employed|          X3|    123|            No|             980664|      Yes|      0|        0.0|          Male|            0.0|         1.0|\n",
            "|GZ5TMYIR|  Male| 27|      RG270|Self_Employed|          X1|     14|           Yes|             502787|       No|      0|        0.0|          Male|            0.0|         0.0|\n",
            "|FCPEEIY3|Female| 27|      RG277|     Salaried|          X1|     20|            No|             811591|      Yes|      0|        1.0|        Female|            1.0|         0.0|\n",
            "|KCE7JSFN|  Male| 31|      RG254|     Salaried|          X1|     31|           Yes|             938754|       No|      0|        0.0|          Male|            1.0|         0.0|\n",
            "|EMEEHHBK|  Male| 79|      RG277|        Other|          X3|     57|            No|             832185|      Yes|      0|        0.0|          Male|            2.0|         1.0|\n",
            "|UJ2NJKKL|  Male| 33|      RG268|Self_Employed|          X2|     69|            No|             517063|      Yes|      1|        0.0|          Male|            0.0|         2.0|\n",
            "|CNGSPYWS|Female| 46|      RG268|        Other|          X3|     97|           Yes|            2282502|       No|      1|        1.0|        Female|            2.0|         1.0|\n",
            "|VH7NBNNQ|Female| 59|      RG283|        Other|          X3|     15|           Yes|            2384692|       No|      1|        1.0|        Female|            2.0|         1.0|\n",
            "|HDNJXDWC|Female| 65|      RG277|        Other|          X2|     20|            No|             341573|      Yes|      0|        1.0|        Female|            2.0|         2.0|\n",
            "|BDOKI4CP|Female| 37|      RG269|        Other|          X1|     63|            No|             633484|      Yes|      0|        1.0|        Female|            2.0|         0.0|\n",
            "+--------+------+---+-----------+-------------+------------+-------+--------------+-------------------+---------+-------+-----------+--------------+---------------+------------+\n",
            "only showing top 20 rows\n",
            "\n"
          ]
        }
      ],
      "source": [
        "occupation_indexer = StringIndexer(inputCol=\"Occupation\", outputCol=\"OccupationIndex\")\n",
        "occupation_indexer = occupation_indexer.fit(data)\n",
        "data = occupation_indexer.transform(data)\n",
        "\n",
        "channel_indexer = StringIndexer(inputCol=\"Channel_Code\", outputCol=\"ChannelIndex\")\n",
        "channel_indexer = channel_indexer.fit(data)\n",
        "data = channel_indexer.transform(data)\n",
        "\n",
        "data.show()"
      ]
    },
    {
      "cell_type": "code",
      "execution_count": 19,
      "metadata": {
        "id": "n9bcgggI2xqK",
        "colab": {
          "base_uri": "https://localhost:8080/"
        },
        "outputId": "a3ed1494-0933-4bb8-deeb-68c9e80e19da"
      },
      "outputs": [
        {
          "output_type": "stream",
          "name": "stdout",
          "text": [
            "Occupation len = 4, Channel_code len = 4\n"
          ]
        }
      ],
      "source": [
        "print(f'Occupation len = {len(occupation_indexer.labels)}, Channel_code len = {len(channel_indexer.labels)}')"
      ]
    },
    {
      "cell_type": "markdown",
      "metadata": {
        "id": "vqftb6C43Fsw"
      },
      "source": [
        "Тут по 4 категории, что самое простое, что приходит в голову? Правильно - OHE"
      ]
    },
    {
      "cell_type": "code",
      "execution_count": 20,
      "metadata": {
        "id": "VCeoucMX3NpG",
        "colab": {
          "base_uri": "https://localhost:8080/"
        },
        "outputId": "6dd6e689-fb6c-4da0-df0f-e86a9c704576"
      },
      "outputs": [
        {
          "output_type": "stream",
          "name": "stdout",
          "text": [
            "+--------+------+---+-----------+-------------+------------+-------+--------------+-------------------+---------+-------+-----------+--------------+---------------+------------+----------------+-------------+\n",
            "|      ID|Gender|Age|Region_Code|   Occupation|Channel_Code|Vintage|Credit_Product|Avg_Account_Balance|Is_Active|Is_Lead|GenderIndex|originalGender|OccupationIndex|ChannelIndex|OccupationVector|   ChannelVec|\n",
            "+--------+------+---+-----------+-------------+------------+-------+--------------+-------------------+---------+-------+-----------+--------------+---------------+------------+----------------+-------------+\n",
            "|NNVBBKZB|Female| 73|      RG268|        Other|          X3|     43|            No|            1045696|       No|      0|        1.0|        Female|            2.0|         1.0|   (3,[2],[1.0])|(3,[1],[1.0])|\n",
            "|IDD62UNG|Female| 30|      RG277|     Salaried|          X1|     32|            No|             581988|       No|      0|        1.0|        Female|            1.0|         0.0|   (3,[1],[1.0])|(3,[0],[1.0])|\n",
            "|HD3DSEMC|Female| 56|      RG268|Self_Employed|          X3|     26|            No|            1484315|      Yes|      0|        1.0|        Female|            0.0|         1.0|   (3,[0],[1.0])|(3,[1],[1.0])|\n",
            "|BF3NC7KV|  Male| 34|      RG270|     Salaried|          X1|     19|            No|             470454|       No|      0|        0.0|          Male|            1.0|         0.0|   (3,[1],[1.0])|(3,[0],[1.0])|\n",
            "|TEASRWXV|Female| 30|      RG282|     Salaried|          X1|     33|            No|             886787|       No|      0|        1.0|        Female|            1.0|         0.0|   (3,[1],[1.0])|(3,[0],[1.0])|\n",
            "|ACUTYTWS|  Male| 56|      RG261|Self_Employed|          X1|     32|            No|             544163|      Yes|      0|        0.0|          Male|            0.0|         0.0|   (3,[0],[1.0])|(3,[0],[1.0])|\n",
            "|ETQCZFEJ|  Male| 62|      RG282|        Other|          X3|     20|            No|            1056750|      Yes|      1|        0.0|          Male|            2.0|         1.0|   (3,[2],[1.0])|(3,[1],[1.0])|\n",
            "|JJNJUQMQ|Female| 48|      RG265|Self_Employed|          X3|     13|            No|             444724|      Yes|      0|        1.0|        Female|            0.0|         1.0|   (3,[0],[1.0])|(3,[1],[1.0])|\n",
            "|ZMQFYKCB|Female| 40|      RG283|Self_Employed|          X2|     38|            No|            1274284|       No|      0|        1.0|        Female|            0.0|         2.0|   (3,[0],[1.0])|(3,[2],[1.0])|\n",
            "|NVKTFBA2|Female| 55|      RG268|Self_Employed|          X2|     49|           Yes|            2014239|       No|      0|        1.0|        Female|            0.0|         2.0|   (3,[0],[1.0])|(3,[2],[1.0])|\n",
            "|NVC424KZ|  Male| 53|      RG254|Self_Employed|          X3|    123|            No|             980664|      Yes|      0|        0.0|          Male|            0.0|         1.0|   (3,[0],[1.0])|(3,[1],[1.0])|\n",
            "|GZ5TMYIR|  Male| 27|      RG270|Self_Employed|          X1|     14|           Yes|             502787|       No|      0|        0.0|          Male|            0.0|         0.0|   (3,[0],[1.0])|(3,[0],[1.0])|\n",
            "|FCPEEIY3|Female| 27|      RG277|     Salaried|          X1|     20|            No|             811591|      Yes|      0|        1.0|        Female|            1.0|         0.0|   (3,[1],[1.0])|(3,[0],[1.0])|\n",
            "|KCE7JSFN|  Male| 31|      RG254|     Salaried|          X1|     31|           Yes|             938754|       No|      0|        0.0|          Male|            1.0|         0.0|   (3,[1],[1.0])|(3,[0],[1.0])|\n",
            "|EMEEHHBK|  Male| 79|      RG277|        Other|          X3|     57|            No|             832185|      Yes|      0|        0.0|          Male|            2.0|         1.0|   (3,[2],[1.0])|(3,[1],[1.0])|\n",
            "|UJ2NJKKL|  Male| 33|      RG268|Self_Employed|          X2|     69|            No|             517063|      Yes|      1|        0.0|          Male|            0.0|         2.0|   (3,[0],[1.0])|(3,[2],[1.0])|\n",
            "|CNGSPYWS|Female| 46|      RG268|        Other|          X3|     97|           Yes|            2282502|       No|      1|        1.0|        Female|            2.0|         1.0|   (3,[2],[1.0])|(3,[1],[1.0])|\n",
            "|VH7NBNNQ|Female| 59|      RG283|        Other|          X3|     15|           Yes|            2384692|       No|      1|        1.0|        Female|            2.0|         1.0|   (3,[2],[1.0])|(3,[1],[1.0])|\n",
            "|HDNJXDWC|Female| 65|      RG277|        Other|          X2|     20|            No|             341573|      Yes|      0|        1.0|        Female|            2.0|         2.0|   (3,[2],[1.0])|(3,[2],[1.0])|\n",
            "|BDOKI4CP|Female| 37|      RG269|        Other|          X1|     63|            No|             633484|      Yes|      0|        1.0|        Female|            2.0|         0.0|   (3,[2],[1.0])|(3,[0],[1.0])|\n",
            "+--------+------+---+-----------+-------------+------------+-------+--------------+-------------------+---------+-------+-----------+--------------+---------------+------------+----------------+-------------+\n",
            "only showing top 20 rows\n",
            "\n"
          ]
        }
      ],
      "source": [
        "ohe_encoder = OneHotEncoder(inputCols=[\"OccupationIndex\", \"ChannelIndex\"],\n",
        "                        outputCols=[\"OccupationVector\", \"ChannelVec\"])\n",
        "ohe_encoder = ohe_encoder.fit(data)\n",
        "data = ohe_encoder.transform(data)\n",
        "\n",
        "data.show()"
      ]
    },
    {
      "cell_type": "code",
      "execution_count": 21,
      "metadata": {
        "id": "v994SMld4PeY",
        "colab": {
          "base_uri": "https://localhost:8080/"
        },
        "outputId": "f69b1882-cb39-487b-9dc7-b18e23eb066e"
      },
      "outputs": [
        {
          "output_type": "execute_result",
          "data": {
            "text/plain": [
              "[4, 4]"
            ]
          },
          "metadata": {},
          "execution_count": 21
        }
      ],
      "source": [
        "ohe_encoder.categorySizes"
      ]
    },
    {
      "cell_type": "markdown",
      "metadata": {
        "id": "XZgkq6G05PSh"
      },
      "source": [
        "Странный формат, не правда ли? Все из-за того, что тут у нас SparseVector\n",
        "\n",
        " На 4 категории нужен вектор размерности 3, а дальше храним позицию и 1 там, где нужная категория"
      ]
    },
    {
      "cell_type": "code",
      "execution_count": 22,
      "metadata": {
        "id": "U0WwEjcR40px",
        "colab": {
          "base_uri": "https://localhost:8080/"
        },
        "outputId": "36cb85fb-8897-41eb-c355-b653f58fed87"
      },
      "outputs": [
        {
          "output_type": "execute_result",
          "data": {
            "text/plain": [
              "Row(OccupationVector=SparseVector(3, {2: 1.0}))"
            ]
          },
          "metadata": {},
          "execution_count": 22
        }
      ],
      "source": [
        "data.select(col('OccupationVector')).head()"
      ]
    },
    {
      "cell_type": "markdown",
      "metadata": {
        "id": "Q5A4TwCYyl9G"
      },
      "source": [
        "Теперь все надо собрать в одну структуру, чтобы можно было анализировать данные и строить модели"
      ]
    },
    {
      "cell_type": "code",
      "execution_count": 23,
      "metadata": {
        "id": "FvGBOfFovMQs"
      },
      "outputs": [],
      "source": [
        "from pyspark.ml.feature import VectorAssembler"
      ]
    },
    {
      "cell_type": "code",
      "execution_count": 24,
      "metadata": {
        "id": "U2QozLTxxe6k",
        "colab": {
          "base_uri": "https://localhost:8080/"
        },
        "outputId": "66aa59f8-1d4d-4efe-fc60-ed520017529e"
      },
      "outputs": [
        {
          "output_type": "stream",
          "name": "stdout",
          "text": [
            "+--------+------+---+-----------+-------------+------------+-------+--------------+-------------------+---------+-------+-----------+--------------+---------------+------------+----------------+-------------+\n",
            "|      ID|Gender|Age|Region_Code|   Occupation|Channel_Code|Vintage|Credit_Product|Avg_Account_Balance|Is_Active|Is_Lead|GenderIndex|originalGender|OccupationIndex|ChannelIndex|OccupationVector|   ChannelVec|\n",
            "+--------+------+---+-----------+-------------+------------+-------+--------------+-------------------+---------+-------+-----------+--------------+---------------+------------+----------------+-------------+\n",
            "|NNVBBKZB|Female| 73|      RG268|        Other|          X3|     43|            No|            1045696|       No|      0|        1.0|        Female|            2.0|         1.0|   (3,[2],[1.0])|(3,[1],[1.0])|\n",
            "|IDD62UNG|Female| 30|      RG277|     Salaried|          X1|     32|            No|             581988|       No|      0|        1.0|        Female|            1.0|         0.0|   (3,[1],[1.0])|(3,[0],[1.0])|\n",
            "|HD3DSEMC|Female| 56|      RG268|Self_Employed|          X3|     26|            No|            1484315|      Yes|      0|        1.0|        Female|            0.0|         1.0|   (3,[0],[1.0])|(3,[1],[1.0])|\n",
            "|BF3NC7KV|  Male| 34|      RG270|     Salaried|          X1|     19|            No|             470454|       No|      0|        0.0|          Male|            1.0|         0.0|   (3,[1],[1.0])|(3,[0],[1.0])|\n",
            "|TEASRWXV|Female| 30|      RG282|     Salaried|          X1|     33|            No|             886787|       No|      0|        1.0|        Female|            1.0|         0.0|   (3,[1],[1.0])|(3,[0],[1.0])|\n",
            "+--------+------+---+-----------+-------------+------------+-------+--------------+-------------------+---------+-------+-----------+--------------+---------------+------------+----------------+-------------+\n",
            "only showing top 5 rows\n",
            "\n"
          ]
        }
      ],
      "source": [
        "data.show(5)"
      ]
    },
    {
      "cell_type": "code",
      "execution_count": 25,
      "metadata": {
        "id": "-d3u3pXZwllv"
      },
      "outputs": [],
      "source": [
        "feature_columns = [\n",
        "                   'Age',\n",
        "                   'Vintage',\n",
        "                   'Avg_Account_Balance',\n",
        "                   'GenderIndex',\n",
        "                   'OccupationVector',\n",
        "                   'ChannelVec'                 \n",
        "]"
      ]
    },
    {
      "cell_type": "code",
      "execution_count": 26,
      "metadata": {
        "id": "w8B6wK5qvPI4"
      },
      "outputs": [],
      "source": [
        "df_va = VectorAssembler(inputCols = feature_columns, outputCol = 'features')\n",
        "data = df_va.transform(data)"
      ]
    },
    {
      "cell_type": "code",
      "execution_count": 27,
      "metadata": {
        "id": "IVIiU4qNzl7I",
        "colab": {
          "base_uri": "https://localhost:8080/"
        },
        "outputId": "e80f3dc9-2996-42b6-f659-21334a1c4dcf"
      },
      "outputs": [
        {
          "output_type": "stream",
          "name": "stdout",
          "text": [
            "root\n",
            " |-- ID: string (nullable = true)\n",
            " |-- Gender: string (nullable = true)\n",
            " |-- Age: integer (nullable = true)\n",
            " |-- Region_Code: string (nullable = true)\n",
            " |-- Occupation: string (nullable = true)\n",
            " |-- Channel_Code: string (nullable = true)\n",
            " |-- Vintage: integer (nullable = true)\n",
            " |-- Credit_Product: string (nullable = false)\n",
            " |-- Avg_Account_Balance: integer (nullable = true)\n",
            " |-- Is_Active: string (nullable = true)\n",
            " |-- Is_Lead: integer (nullable = true)\n",
            " |-- GenderIndex: double (nullable = false)\n",
            " |-- originalGender: string (nullable = true)\n",
            " |-- OccupationIndex: double (nullable = false)\n",
            " |-- ChannelIndex: double (nullable = false)\n",
            " |-- OccupationVector: vector (nullable = true)\n",
            " |-- ChannelVec: vector (nullable = true)\n",
            " |-- features: vector (nullable = true)\n",
            "\n"
          ]
        }
      ],
      "source": [
        "data.printSchema()"
      ]
    },
    {
      "cell_type": "code",
      "execution_count": 28,
      "metadata": {
        "id": "iaXUddG1zp_X",
        "colab": {
          "base_uri": "https://localhost:8080/"
        },
        "outputId": "3a088432-4ed9-49a0-a136-8946baa09dca"
      },
      "outputs": [
        {
          "output_type": "stream",
          "name": "stdout",
          "text": [
            "+--------+------+---+-----------+-------------+------------+-------+--------------+-------------------+---------+-------+-----------+--------------+---------------+------------+----------------+-------------+--------------------+\n",
            "|      ID|Gender|Age|Region_Code|   Occupation|Channel_Code|Vintage|Credit_Product|Avg_Account_Balance|Is_Active|Is_Lead|GenderIndex|originalGender|OccupationIndex|ChannelIndex|OccupationVector|   ChannelVec|            features|\n",
            "+--------+------+---+-----------+-------------+------------+-------+--------------+-------------------+---------+-------+-----------+--------------+---------------+------------+----------------+-------------+--------------------+\n",
            "|NNVBBKZB|Female| 73|      RG268|        Other|          X3|     43|            No|            1045696|       No|      0|        1.0|        Female|            2.0|         1.0|   (3,[2],[1.0])|(3,[1],[1.0])|[73.0,43.0,104569...|\n",
            "|IDD62UNG|Female| 30|      RG277|     Salaried|          X1|     32|            No|             581988|       No|      0|        1.0|        Female|            1.0|         0.0|   (3,[1],[1.0])|(3,[0],[1.0])|[30.0,32.0,581988...|\n",
            "|HD3DSEMC|Female| 56|      RG268|Self_Employed|          X3|     26|            No|            1484315|      Yes|      0|        1.0|        Female|            0.0|         1.0|   (3,[0],[1.0])|(3,[1],[1.0])|[56.0,26.0,148431...|\n",
            "|BF3NC7KV|  Male| 34|      RG270|     Salaried|          X1|     19|            No|             470454|       No|      0|        0.0|          Male|            1.0|         0.0|   (3,[1],[1.0])|(3,[0],[1.0])|(10,[0,1,2,5,7],[...|\n",
            "|TEASRWXV|Female| 30|      RG282|     Salaried|          X1|     33|            No|             886787|       No|      0|        1.0|        Female|            1.0|         0.0|   (3,[1],[1.0])|(3,[0],[1.0])|[30.0,33.0,886787...|\n",
            "|ACUTYTWS|  Male| 56|      RG261|Self_Employed|          X1|     32|            No|             544163|      Yes|      0|        0.0|          Male|            0.0|         0.0|   (3,[0],[1.0])|(3,[0],[1.0])|(10,[0,1,2,4,7],[...|\n",
            "|ETQCZFEJ|  Male| 62|      RG282|        Other|          X3|     20|            No|            1056750|      Yes|      1|        0.0|          Male|            2.0|         1.0|   (3,[2],[1.0])|(3,[1],[1.0])|(10,[0,1,2,6,8],[...|\n",
            "|JJNJUQMQ|Female| 48|      RG265|Self_Employed|          X3|     13|            No|             444724|      Yes|      0|        1.0|        Female|            0.0|         1.0|   (3,[0],[1.0])|(3,[1],[1.0])|[48.0,13.0,444724...|\n",
            "|ZMQFYKCB|Female| 40|      RG283|Self_Employed|          X2|     38|            No|            1274284|       No|      0|        1.0|        Female|            0.0|         2.0|   (3,[0],[1.0])|(3,[2],[1.0])|[40.0,38.0,127428...|\n",
            "|NVKTFBA2|Female| 55|      RG268|Self_Employed|          X2|     49|           Yes|            2014239|       No|      0|        1.0|        Female|            0.0|         2.0|   (3,[0],[1.0])|(3,[2],[1.0])|[55.0,49.0,201423...|\n",
            "|NVC424KZ|  Male| 53|      RG254|Self_Employed|          X3|    123|            No|             980664|      Yes|      0|        0.0|          Male|            0.0|         1.0|   (3,[0],[1.0])|(3,[1],[1.0])|(10,[0,1,2,4,8],[...|\n",
            "|GZ5TMYIR|  Male| 27|      RG270|Self_Employed|          X1|     14|           Yes|             502787|       No|      0|        0.0|          Male|            0.0|         0.0|   (3,[0],[1.0])|(3,[0],[1.0])|(10,[0,1,2,4,7],[...|\n",
            "|FCPEEIY3|Female| 27|      RG277|     Salaried|          X1|     20|            No|             811591|      Yes|      0|        1.0|        Female|            1.0|         0.0|   (3,[1],[1.0])|(3,[0],[1.0])|[27.0,20.0,811591...|\n",
            "|KCE7JSFN|  Male| 31|      RG254|     Salaried|          X1|     31|           Yes|             938754|       No|      0|        0.0|          Male|            1.0|         0.0|   (3,[1],[1.0])|(3,[0],[1.0])|(10,[0,1,2,5,7],[...|\n",
            "|EMEEHHBK|  Male| 79|      RG277|        Other|          X3|     57|            No|             832185|      Yes|      0|        0.0|          Male|            2.0|         1.0|   (3,[2],[1.0])|(3,[1],[1.0])|(10,[0,1,2,6,8],[...|\n",
            "|UJ2NJKKL|  Male| 33|      RG268|Self_Employed|          X2|     69|            No|             517063|      Yes|      1|        0.0|          Male|            0.0|         2.0|   (3,[0],[1.0])|(3,[2],[1.0])|(10,[0,1,2,4,9],[...|\n",
            "|CNGSPYWS|Female| 46|      RG268|        Other|          X3|     97|           Yes|            2282502|       No|      1|        1.0|        Female|            2.0|         1.0|   (3,[2],[1.0])|(3,[1],[1.0])|[46.0,97.0,228250...|\n",
            "|VH7NBNNQ|Female| 59|      RG283|        Other|          X3|     15|           Yes|            2384692|       No|      1|        1.0|        Female|            2.0|         1.0|   (3,[2],[1.0])|(3,[1],[1.0])|[59.0,15.0,238469...|\n",
            "|HDNJXDWC|Female| 65|      RG277|        Other|          X2|     20|            No|             341573|      Yes|      0|        1.0|        Female|            2.0|         2.0|   (3,[2],[1.0])|(3,[2],[1.0])|[65.0,20.0,341573...|\n",
            "|BDOKI4CP|Female| 37|      RG269|        Other|          X1|     63|            No|             633484|      Yes|      0|        1.0|        Female|            2.0|         0.0|   (3,[2],[1.0])|(3,[0],[1.0])|[37.0,63.0,633484...|\n",
            "+--------+------+---+-----------+-------------+------------+-------+--------------+-------------------+---------+-------+-----------+--------------+---------------+------------+----------------+-------------+--------------------+\n",
            "only showing top 20 rows\n",
            "\n"
          ]
        }
      ],
      "source": [
        "data.show()"
      ]
    },
    {
      "cell_type": "markdown",
      "metadata": {
        "id": "rCWpLx31zh67"
      },
      "source": [
        "В полученном features можно автоматичеки проанализировать все переменные и если у кого-то уникальных значений меньше заданного вами порога, то они автоматичсеки переведутся в индексы при помощи pyspark.ml.feature import VectorIndexer"
      ]
    },
    {
      "cell_type": "markdown",
      "metadata": {
        "id": "sDUyHq-CwHRw"
      },
      "source": [
        "**Статистика**"
      ]
    },
    {
      "cell_type": "markdown",
      "metadata": {
        "id": "AJdSxnSRwRKv"
      },
      "source": [
        "В ml pyspark есть некоторые статистические методы, которые можно использовать для анализа\n",
        "\n",
        "Корреляция"
      ]
    },
    {
      "cell_type": "code",
      "execution_count": 29,
      "metadata": {
        "id": "bLh7XX3GpCtZ"
      },
      "outputs": [],
      "source": [
        "from pyspark.ml.stat import Correlation"
      ]
    },
    {
      "cell_type": "code",
      "execution_count": 30,
      "metadata": {
        "id": "yopY40AAwzhq"
      },
      "outputs": [],
      "source": [
        "corr = Correlation.corr(data, 'features', method='pearson').collect()[0][0]"
      ]
    },
    {
      "cell_type": "code",
      "execution_count": 31,
      "metadata": {
        "id": "b5NJYBqi0o4J",
        "colab": {
          "base_uri": "https://localhost:8080/"
        },
        "outputId": "87184b5b-7828-4b71-9604-2ba47e260e3c"
      },
      "outputs": [
        {
          "output_type": "execute_result",
          "data": {
            "text/plain": [
              "DenseMatrix(10, 10, [1.0, 0.6312, 0.1452, -0.1521, 0.1527, -0.5632, 0.3948, -0.6646, ..., 0.0102, -0.116, 0.2933, -0.3238, 0.0005, -0.5272, -0.3843, 1.0], False)"
            ]
          },
          "metadata": {},
          "execution_count": 31
        }
      ],
      "source": [
        "corr"
      ]
    },
    {
      "cell_type": "code",
      "execution_count": 32,
      "metadata": {
        "id": "kdYSH7Hg1Fwm",
        "colab": {
          "base_uri": "https://localhost:8080/"
        },
        "outputId": "d11f8334-661d-4788-a21a-c526e5fd36ce"
      },
      "outputs": [
        {
          "output_type": "execute_result",
          "data": {
            "text/plain": [
              "array([[ 1.00000000e+00,  6.31242411e-01,  1.45232189e-01,\n",
              "        -1.52075940e-01,  1.52651808e-01, -5.63226982e-01,\n",
              "         3.94834177e-01, -6.64600051e-01,  4.56338440e-01,\n",
              "         2.73153253e-01],\n",
              "       [ 6.31242411e-01,  1.00000000e+00,  1.67433481e-01,\n",
              "        -1.46379743e-01,  2.21023818e-01, -4.10109383e-01,\n",
              "         1.55662661e-01, -5.71828453e-01,  5.38828562e-01,\n",
              "         1.44931244e-01],\n",
              "       [ 1.45232189e-01,  1.67433481e-01,  1.00000000e+00,\n",
              "        -2.24772031e-02,  3.46714040e-03, -7.16906860e-02,\n",
              "         6.03874569e-02, -9.81785292e-02,  1.06905544e-01,\n",
              "         1.01634033e-02],\n",
              "       [-1.52075940e-01, -1.46379743e-01, -2.24772031e-02,\n",
              "         1.00000000e+00, -8.58626857e-02,  1.22439249e-01,\n",
              "        -2.58175123e-02,  1.84372479e-01, -8.07817702e-02,\n",
              "        -1.16018433e-01],\n",
              "       [ 1.52651808e-01,  2.21023818e-01,  3.46714040e-03,\n",
              "        -8.58626857e-02,  1.00000000e+00, -5.37283514e-01,\n",
              "        -5.27660791e-01, -4.34990948e-01,  1.63662837e-01,\n",
              "         2.93303563e-01],\n",
              "       [-5.63226982e-01, -4.10109383e-01, -7.16906860e-02,\n",
              "         1.22439249e-01, -5.37283514e-01,  1.00000000e+00,\n",
              "        -4.07017379e-01,  5.90747136e-01, -3.07398921e-01,\n",
              "        -3.23819864e-01],\n",
              "       [ 3.94834177e-01,  1.55662661e-01,  6.03874569e-02,\n",
              "        -2.58175123e-02, -5.27660791e-01, -4.07017379e-01,\n",
              "         1.00000000e+00, -1.04278488e-01,  1.19212770e-01,\n",
              "         4.66283346e-04],\n",
              "       [-6.64600051e-01, -5.71828453e-01, -9.81785292e-02,\n",
              "         1.84372479e-01, -4.34990948e-01,  5.90747136e-01,\n",
              "        -1.04278488e-01,  1.00000000e+00, -5.32458671e-01,\n",
              "        -5.27158389e-01],\n",
              "       [ 4.56338440e-01,  5.38828562e-01,  1.06905544e-01,\n",
              "        -8.07817702e-02,  1.63662837e-01, -3.07398921e-01,\n",
              "         1.19212770e-01, -5.32458671e-01,  1.00000000e+00,\n",
              "        -3.84310850e-01],\n",
              "       [ 2.73153253e-01,  1.44931244e-01,  1.01634033e-02,\n",
              "        -1.16018433e-01,  2.93303563e-01, -3.23819864e-01,\n",
              "         4.66283346e-04, -5.27158389e-01, -3.84310850e-01,\n",
              "         1.00000000e+00]])"
            ]
          },
          "metadata": {},
          "execution_count": 32
        }
      ],
      "source": [
        "corr.toArray()"
      ]
    },
    {
      "cell_type": "markdown",
      "metadata": {
        "id": "UaW05KoO1QZ9"
      },
      "source": [
        "Можно вычислить корреляцию спирмена"
      ]
    },
    {
      "cell_type": "code",
      "execution_count": 33,
      "metadata": {
        "id": "BYUenSBo1P1D",
        "colab": {
          "base_uri": "https://localhost:8080/"
        },
        "outputId": "00a9dcbe-1f1a-4d13-b6c5-6b0aa6cc8ceb"
      },
      "outputs": [
        {
          "output_type": "execute_result",
          "data": {
            "text/plain": [
              "array([[ 1.00000000e+00,  6.52477119e-01,  1.78395617e-01,\n",
              "        -1.66276503e-01,  2.50479037e-01, -5.94192974e-01,\n",
              "         3.16280765e-01, -7.14324073e-01,  4.68523607e-01,\n",
              "         3.11874367e-01],\n",
              "       [ 6.52477119e-01,  1.00000000e+00,  1.98039737e-01,\n",
              "        -1.37241231e-01,  2.26617372e-01, -4.03612329e-01,\n",
              "         1.44248315e-01, -5.43361590e-01,  4.88850315e-01,\n",
              "         1.86509197e-01],\n",
              "       [ 1.78395617e-01,  1.98039737e-01,  1.00000000e+00,\n",
              "        -3.35726184e-02,  1.74003362e-02, -9.65169583e-02,\n",
              "         6.80005979e-02, -1.34528255e-01,  1.34941462e-01,\n",
              "         2.41122172e-02],\n",
              "       [-1.66276503e-01, -1.37241231e-01, -3.35726184e-02,\n",
              "         1.00000000e+00, -8.58626857e-02,  1.22439249e-01,\n",
              "        -2.58175123e-02,  1.84372479e-01, -8.07817702e-02,\n",
              "        -1.16018433e-01],\n",
              "       [ 2.50479037e-01,  2.26617372e-01,  1.74003362e-02,\n",
              "        -8.58626857e-02,  1.00000000e+00, -5.37283514e-01,\n",
              "        -5.27660791e-01, -4.34990948e-01,  1.63662837e-01,\n",
              "         2.93303563e-01],\n",
              "       [-5.94192974e-01, -4.03612329e-01, -9.65169583e-02,\n",
              "         1.22439249e-01, -5.37283514e-01,  1.00000000e+00,\n",
              "        -4.07017379e-01,  5.90747136e-01, -3.07398921e-01,\n",
              "        -3.23819864e-01],\n",
              "       [ 3.16280765e-01,  1.44248315e-01,  6.80005979e-02,\n",
              "        -2.58175123e-02, -5.27660791e-01, -4.07017379e-01,\n",
              "         1.00000000e+00, -1.04278488e-01,  1.19212770e-01,\n",
              "         4.66283346e-04],\n",
              "       [-7.14324073e-01, -5.43361590e-01, -1.34528255e-01,\n",
              "         1.84372479e-01, -4.34990948e-01,  5.90747136e-01,\n",
              "        -1.04278488e-01,  1.00000000e+00, -5.32458671e-01,\n",
              "        -5.27158389e-01],\n",
              "       [ 4.68523607e-01,  4.88850315e-01,  1.34941462e-01,\n",
              "        -8.07817702e-02,  1.63662837e-01, -3.07398921e-01,\n",
              "         1.19212770e-01, -5.32458671e-01,  1.00000000e+00,\n",
              "        -3.84310850e-01],\n",
              "       [ 3.11874367e-01,  1.86509197e-01,  2.41122172e-02,\n",
              "        -1.16018433e-01,  2.93303563e-01, -3.23819864e-01,\n",
              "         4.66283346e-04, -5.27158389e-01, -3.84310850e-01,\n",
              "         1.00000000e+00]])"
            ]
          },
          "metadata": {},
          "execution_count": 33
        }
      ],
      "source": [
        "corr = Correlation.corr(data, 'features', method='spearman').collect()[0][0]\n",
        "corr.toArray()"
      ]
    },
    {
      "cell_type": "markdown",
      "metadata": {
        "id": "y_5PVUlY2F5Y"
      },
      "source": [
        "Можно использовать хи-квадрат тест для оценки независимости каждой переменной в features относительно целевого признака, но этот тест для категориальных переменных, поэтому для примера на одной фиче"
      ]
    },
    {
      "cell_type": "code",
      "execution_count": 34,
      "metadata": {
        "id": "qKDaZAqo2qcx"
      },
      "outputs": [],
      "source": [
        "from pyspark.ml.stat import ChiSquareTest, KolmogorovSmirnovTest, Summarizer"
      ]
    },
    {
      "cell_type": "code",
      "execution_count": 35,
      "metadata": {
        "id": "NKv6rl6L2uD3"
      },
      "outputs": [],
      "source": [
        "r = ChiSquareTest.test(data, \"OccupationVector\", \"Is_Lead\")"
      ]
    },
    {
      "cell_type": "code",
      "execution_count": 36,
      "metadata": {
        "id": "zs8p9cYz232n",
        "colab": {
          "base_uri": "https://localhost:8080/"
        },
        "outputId": "8be0b126-3041-411c-efbd-a685cf4f2ae1"
      },
      "outputs": [
        {
          "output_type": "stream",
          "name": "stdout",
          "text": [
            "+--------------------+----------------+--------------------+\n",
            "|             pValues|degreesOfFreedom|          statistics|\n",
            "+--------------------+----------------+--------------------+\n",
            "|[0.0,0.0,1.161583...|       [1, 1, 1]|[1420.86324574575...|\n",
            "+--------------------+----------------+--------------------+\n",
            "\n"
          ]
        }
      ],
      "source": [
        "r.show()"
      ]
    },
    {
      "cell_type": "markdown",
      "metadata": {
        "id": "L5bWlEXS48xD"
      },
      "source": [
        "KS-тест"
      ]
    },
    {
      "cell_type": "code",
      "execution_count": 37,
      "metadata": {
        "id": "AQxAgsUx6NVR",
        "colab": {
          "base_uri": "https://localhost:8080/"
        },
        "outputId": "80346828-f03e-4f0c-f9c7-d62b4a057063"
      },
      "outputs": [
        {
          "output_type": "execute_result",
          "data": {
            "text/plain": [
              "[Row(mean_Age=43.85630684708516, std_Age=14.828671804648007)]"
            ]
          },
          "metadata": {},
          "execution_count": 37
        }
      ],
      "source": [
        "data.select(\n",
        "    F.mean(col('Age')).alias('mean_Age'),\n",
        "    F.stddev(col('Age')).alias('std_Age')\n",
        ").collect()"
      ]
    },
    {
      "cell_type": "code",
      "execution_count": 38,
      "metadata": {
        "id": "IoppdTHa46tZ"
      },
      "outputs": [],
      "source": [
        "ks = KolmogorovSmirnovTest.test(data, 'Age', 'norm', 44, 15).first()"
      ]
    },
    {
      "cell_type": "code",
      "execution_count": 39,
      "metadata": {
        "id": "y_f8r3Lg7KW5",
        "colab": {
          "base_uri": "https://localhost:8080/"
        },
        "outputId": "72f3ffc0-e4f3-4d44-9659-77d6cc383ab0"
      },
      "outputs": [
        {
          "output_type": "execute_result",
          "data": {
            "text/plain": [
              "Row(pValue=2.045950076023928e-10, statistic=0.12561207843265515)"
            ]
          },
          "metadata": {},
          "execution_count": 39
        }
      ],
      "source": [
        "ks"
      ]
    },
    {
      "cell_type": "markdown",
      "metadata": {
        "id": "8brAdeEf7oxC"
      },
      "source": [
        "Еще можно посчитать разные статистики"
      ]
    },
    {
      "cell_type": "code",
      "execution_count": 40,
      "metadata": {
        "id": "yYYVSXeO7s5s",
        "colab": {
          "base_uri": "https://localhost:8080/"
        },
        "outputId": "1091c57d-161d-4b3d-e276-105c275047d2"
      },
      "outputs": [
        {
          "output_type": "stream",
          "name": "stdout",
          "text": [
            "+--------------------------------------------------------------------------------------------------------------------------------------------------------------------------------------------------------+\n",
            "|aggregate_metrics(features, 1.0)                                                                                                                                                                        |\n",
            "+--------------------------------------------------------------------------------------------------------------------------------------------------------------------------------------------------------+\n",
            "|{[43.8563068470854,46.95914131651267,1128403.101019436,0.4538732322718486,0.4105646556109472,0.29300640960423235,0.2855753382846678,0.42208973445925324,0.2796296673110184,0.27561705158205313], 245725}|\n",
            "+--------------------------------------------------------------------------------------------------------------------------------------------------------------------------------------------------------+\n",
            "\n"
          ]
        }
      ],
      "source": [
        "summarizer = Summarizer.metrics(\"mean\", \"count\")\n",
        "data.select(summarizer.summary(data.features)).show(truncate=False)"
      ]
    },
    {
      "cell_type": "markdown",
      "metadata": {
        "id": "YKcAS-ZySbmv"
      },
      "source": [
        "**Работа с фичами**"
      ]
    },
    {
      "cell_type": "markdown",
      "metadata": {
        "id": "gb2La8IGSfy2"
      },
      "source": [
        "Квантизация"
      ]
    },
    {
      "cell_type": "code",
      "execution_count": 41,
      "metadata": {
        "id": "UU52as0DSfM3"
      },
      "outputs": [],
      "source": [
        "from pyspark.ml.feature import QuantileDiscretizer"
      ]
    },
    {
      "cell_type": "markdown",
      "metadata": {
        "id": "JwLM1tzZTCpM"
      },
      "source": [
        "Обучаем"
      ]
    },
    {
      "cell_type": "code",
      "execution_count": 42,
      "metadata": {
        "id": "eLEqod7ASm_p"
      },
      "outputs": [],
      "source": [
        "discretizer = QuantileDiscretizer(numBuckets=5, inputCol=\"Age\", outputCol=\"Age_quant\")\n",
        "discretizer = discretizer.fit(data)"
      ]
    },
    {
      "cell_type": "code",
      "execution_count": 43,
      "metadata": {
        "id": "DJEUHC2CTE1Z"
      },
      "outputs": [],
      "source": [
        "data = discretizer.transform(data)"
      ]
    },
    {
      "cell_type": "code",
      "execution_count": 44,
      "metadata": {
        "id": "BzA9F_8wUZzD",
        "colab": {
          "base_uri": "https://localhost:8080/"
        },
        "outputId": "76e4faf9-006f-4d13-cae2-dab8dfacc985"
      },
      "outputs": [
        {
          "output_type": "stream",
          "name": "stdout",
          "text": [
            "+---------+-------+-------+-----+\n",
            "|Age_quant|min_age|max_age|count|\n",
            "+---------+-------+-------+-----+\n",
            "|      0.0|     23|     28|43790|\n",
            "|      1.0|     29|     35|52017|\n",
            "|      2.0|     36|     46|46007|\n",
            "|      3.0|     47|     55|50808|\n",
            "|      4.0|     56|     85|53103|\n",
            "+---------+-------+-------+-----+\n",
            "\n"
          ]
        }
      ],
      "source": [
        "data.select('Age', 'Age_quant')\\\n",
        "    .groupby('Age_quant').agg(\n",
        "        F.min('Age').alias('min_age'),\n",
        "        F.max('Age').alias('max_age'),\n",
        "        F.count('Age').alias('count')\n",
        "    )\\\n",
        "    .orderBy('Age_quant')\\\n",
        "    .show(5)"
      ]
    },
    {
      "cell_type": "markdown",
      "metadata": {
        "id": "4MCJmjnVWnYo"
      },
      "source": [
        "Заполнить пропуски можно через Imputer\n",
        "\n",
        "Заполнять пропуски умеет только для числовых переменных, поэтому попробуем на игрушечном примере\n",
        "\n"
      ]
    },
    {
      "cell_type": "code",
      "execution_count": 45,
      "metadata": {
        "id": "tQLJUwVnXHGg"
      },
      "outputs": [],
      "source": [
        "from pyspark.ml.feature import Imputer"
      ]
    },
    {
      "cell_type": "code",
      "execution_count": 46,
      "metadata": {
        "id": "tnLtSJgXWrnK",
        "colab": {
          "base_uri": "https://localhost:8080/"
        },
        "outputId": "0943731a-af10-4821-fcd6-0cef0dc63a38"
      },
      "outputs": [
        {
          "output_type": "stream",
          "name": "stdout",
          "text": [
            "+---+---+-----+-----+\n",
            "|  a|  b|out_a|out_b|\n",
            "+---+---+-----+-----+\n",
            "|1.0|NaN|  1.0|  4.0|\n",
            "|2.0|NaN|  2.0|  4.0|\n",
            "|NaN|3.0|  3.0|  3.0|\n",
            "|4.0|4.0|  4.0|  4.0|\n",
            "|5.0|5.0|  5.0|  5.0|\n",
            "+---+---+-----+-----+\n",
            "\n"
          ]
        }
      ],
      "source": [
        "df = spark.createDataFrame([\n",
        "    (1.0, float(\"nan\")),\n",
        "    (2.0, float(\"nan\")),\n",
        "    (float(\"nan\"), 3.0),\n",
        "    (4.0, 4.0),\n",
        "    (5.0, 5.0)\n",
        "], [\"a\", \"b\"])\n",
        "\n",
        "#стратегия может быть 'mean', 'median', 'mode'\n",
        "#через setMissingValue(0.0) можно сказать, что пропуски - это 0\n",
        "imputer = Imputer(inputCols=[\"a\", \"b\"], outputCols=[\"out_a\", \"out_b\"], strategy='mean')\n",
        "imputer = imputer.fit(df)\n",
        "imputer.transform(df).show()"
      ]
    },
    {
      "cell_type": "markdown",
      "metadata": {
        "id": "ZhnOCVaJN4TE"
      },
      "source": [
        "**Pipeline**\n",
        "\n",
        "Как и в scikit-learn можно создавать пайплайны обработки данных"
      ]
    },
    {
      "cell_type": "markdown",
      "metadata": {
        "id": "iA70rsPgYIPb"
      },
      "source": [
        "Мы много делали преобразований, давайте соберем все в 1 пайплайн"
      ]
    },
    {
      "cell_type": "code",
      "execution_count": 47,
      "metadata": {
        "id": "EQSjY7OGNuV5"
      },
      "outputs": [],
      "source": [
        "from pyspark.ml import Pipeline"
      ]
    },
    {
      "cell_type": "code",
      "execution_count": 48,
      "metadata": {
        "id": "2F3RrpODOSdK"
      },
      "outputs": [],
      "source": [
        "#string в индесы\n",
        "gender_indexer = StringIndexer(inputCol=\"Gender\", outputCol=\"GenderIndex\")\n",
        "occupation_indexer = StringIndexer(inputCol=\"Occupation\", outputCol=\"OccupationIndex\")\n",
        "channel_indexer = StringIndexer(inputCol=\"Channel_Code\", outputCol=\"ChannelIndex\")\n",
        "\n",
        "#OHE\n",
        "ohe_encoder = OneHotEncoder(inputCols=[\"OccupationIndex\", \"ChannelIndex\"],\n",
        "                        outputCols=[\"OccupationVector\", \"ChannelVec\"])\n",
        "\n",
        "#квантизация\n",
        "discretizer = QuantileDiscretizer(numBuckets=5, inputCol=\"Age\", outputCol=\"Age_quant\")\n",
        "\n",
        "#собираем все в вектор\n",
        "feature_columns = [\n",
        "                   'Age',\n",
        "                   'Vintage',\n",
        "                   'Avg_Account_Balance',\n",
        "                   'GenderIndex',\n",
        "                   'OccupationVector',\n",
        "                   'ChannelVec',\n",
        "                   'Age_quant'                 \n",
        "]\n",
        "vector_assembler = VectorAssembler(inputCols = feature_columns, outputCol = 'features')"
      ]
    },
    {
      "cell_type": "markdown",
      "metadata": {
        "id": "XFC0GDkKPOaf"
      },
      "source": [
        "собираем все в пайплайн"
      ]
    },
    {
      "cell_type": "code",
      "execution_count": 49,
      "metadata": {
        "id": "01A49vw-PBUX"
      },
      "outputs": [],
      "source": [
        "pipeline = Pipeline(stages=[\n",
        "                           gender_indexer,\n",
        "                           occupation_indexer,\n",
        "                           channel_indexer,\n",
        "                           ohe_encoder,\n",
        "                           discretizer,\n",
        "                           vector_assembler,\n",
        "])"
      ]
    },
    {
      "cell_type": "markdown",
      "metadata": {
        "id": "QsvoIzWBPoL8"
      },
      "source": [
        "Давайте заново загрузим данные и сделаем трансформацию\n",
        "\n",
        "---\n",
        "\n"
      ]
    },
    {
      "cell_type": "code",
      "execution_count": 50,
      "metadata": {
        "id": "5w32Zu8CPnjW"
      },
      "outputs": [],
      "source": [
        "data = spark.read.csv('credit_card_data.csv', header=True, inferSchema=True)\n",
        "data = data.fillna({'Credit_Product': 'No'})\n",
        "pipeline = pipeline.fit(data)"
      ]
    },
    {
      "cell_type": "code",
      "execution_count": 51,
      "metadata": {
        "id": "sZL7qvxlQMQF"
      },
      "outputs": [],
      "source": [
        "transformed_data = pipeline.transform(data)"
      ]
    },
    {
      "cell_type": "code",
      "execution_count": 52,
      "metadata": {
        "id": "Q2FxS5ahYcew",
        "colab": {
          "base_uri": "https://localhost:8080/"
        },
        "outputId": "8a0ab72c-2e0f-47ba-cdb1-764cdb557e60"
      },
      "outputs": [
        {
          "output_type": "stream",
          "name": "stdout",
          "text": [
            "+--------+------+---+-----------+-------------+------------+-------+--------------+-------------------+---------+-------+-----------+---------------+------------+----------------+-------------+---------+--------------------+\n",
            "|      ID|Gender|Age|Region_Code|   Occupation|Channel_Code|Vintage|Credit_Product|Avg_Account_Balance|Is_Active|Is_Lead|GenderIndex|OccupationIndex|ChannelIndex|OccupationVector|   ChannelVec|Age_quant|            features|\n",
            "+--------+------+---+-----------+-------------+------------+-------+--------------+-------------------+---------+-------+-----------+---------------+------------+----------------+-------------+---------+--------------------+\n",
            "|NNVBBKZB|Female| 73|      RG268|        Other|          X3|     43|            No|            1045696|       No|      0|        1.0|            2.0|         1.0|   (3,[2],[1.0])|(3,[1],[1.0])|      4.0|[73.0,43.0,104569...|\n",
            "|IDD62UNG|Female| 30|      RG277|     Salaried|          X1|     32|            No|             581988|       No|      0|        1.0|            1.0|         0.0|   (3,[1],[1.0])|(3,[0],[1.0])|      1.0|[30.0,32.0,581988...|\n",
            "|HD3DSEMC|Female| 56|      RG268|Self_Employed|          X3|     26|            No|            1484315|      Yes|      0|        1.0|            0.0|         1.0|   (3,[0],[1.0])|(3,[1],[1.0])|      4.0|[56.0,26.0,148431...|\n",
            "|BF3NC7KV|  Male| 34|      RG270|     Salaried|          X1|     19|            No|             470454|       No|      0|        0.0|            1.0|         0.0|   (3,[1],[1.0])|(3,[0],[1.0])|      1.0|(11,[0,1,2,5,7,10...|\n",
            "|TEASRWXV|Female| 30|      RG282|     Salaried|          X1|     33|            No|             886787|       No|      0|        1.0|            1.0|         0.0|   (3,[1],[1.0])|(3,[0],[1.0])|      1.0|[30.0,33.0,886787...|\n",
            "|ACUTYTWS|  Male| 56|      RG261|Self_Employed|          X1|     32|            No|             544163|      Yes|      0|        0.0|            0.0|         0.0|   (3,[0],[1.0])|(3,[0],[1.0])|      4.0|(11,[0,1,2,4,7,10...|\n",
            "|ETQCZFEJ|  Male| 62|      RG282|        Other|          X3|     20|            No|            1056750|      Yes|      1|        0.0|            2.0|         1.0|   (3,[2],[1.0])|(3,[1],[1.0])|      4.0|(11,[0,1,2,6,8,10...|\n",
            "|JJNJUQMQ|Female| 48|      RG265|Self_Employed|          X3|     13|            No|             444724|      Yes|      0|        1.0|            0.0|         1.0|   (3,[0],[1.0])|(3,[1],[1.0])|      3.0|[48.0,13.0,444724...|\n",
            "|ZMQFYKCB|Female| 40|      RG283|Self_Employed|          X2|     38|            No|            1274284|       No|      0|        1.0|            0.0|         2.0|   (3,[0],[1.0])|(3,[2],[1.0])|      2.0|[40.0,38.0,127428...|\n",
            "|NVKTFBA2|Female| 55|      RG268|Self_Employed|          X2|     49|           Yes|            2014239|       No|      0|        1.0|            0.0|         2.0|   (3,[0],[1.0])|(3,[2],[1.0])|      3.0|[55.0,49.0,201423...|\n",
            "|NVC424KZ|  Male| 53|      RG254|Self_Employed|          X3|    123|            No|             980664|      Yes|      0|        0.0|            0.0|         1.0|   (3,[0],[1.0])|(3,[1],[1.0])|      3.0|(11,[0,1,2,4,8,10...|\n",
            "|GZ5TMYIR|  Male| 27|      RG270|Self_Employed|          X1|     14|           Yes|             502787|       No|      0|        0.0|            0.0|         0.0|   (3,[0],[1.0])|(3,[0],[1.0])|      0.0|(11,[0,1,2,4,7],[...|\n",
            "|FCPEEIY3|Female| 27|      RG277|     Salaried|          X1|     20|            No|             811591|      Yes|      0|        1.0|            1.0|         0.0|   (3,[1],[1.0])|(3,[0],[1.0])|      0.0|(11,[0,1,2,3,5,7]...|\n",
            "|KCE7JSFN|  Male| 31|      RG254|     Salaried|          X1|     31|           Yes|             938754|       No|      0|        0.0|            1.0|         0.0|   (3,[1],[1.0])|(3,[0],[1.0])|      1.0|(11,[0,1,2,5,7,10...|\n",
            "|EMEEHHBK|  Male| 79|      RG277|        Other|          X3|     57|            No|             832185|      Yes|      0|        0.0|            2.0|         1.0|   (3,[2],[1.0])|(3,[1],[1.0])|      4.0|(11,[0,1,2,6,8,10...|\n",
            "|UJ2NJKKL|  Male| 33|      RG268|Self_Employed|          X2|     69|            No|             517063|      Yes|      1|        0.0|            0.0|         2.0|   (3,[0],[1.0])|(3,[2],[1.0])|      1.0|(11,[0,1,2,4,9,10...|\n",
            "|CNGSPYWS|Female| 46|      RG268|        Other|          X3|     97|           Yes|            2282502|       No|      1|        1.0|            2.0|         1.0|   (3,[2],[1.0])|(3,[1],[1.0])|      2.0|[46.0,97.0,228250...|\n",
            "|VH7NBNNQ|Female| 59|      RG283|        Other|          X3|     15|           Yes|            2384692|       No|      1|        1.0|            2.0|         1.0|   (3,[2],[1.0])|(3,[1],[1.0])|      4.0|[59.0,15.0,238469...|\n",
            "|HDNJXDWC|Female| 65|      RG277|        Other|          X2|     20|            No|             341573|      Yes|      0|        1.0|            2.0|         2.0|   (3,[2],[1.0])|(3,[2],[1.0])|      4.0|[65.0,20.0,341573...|\n",
            "|BDOKI4CP|Female| 37|      RG269|        Other|          X1|     63|            No|             633484|      Yes|      0|        1.0|            2.0|         0.0|   (3,[2],[1.0])|(3,[0],[1.0])|      2.0|[37.0,63.0,633484...|\n",
            "+--------+------+---+-----------+-------------+------------+-------+--------------+-------------------+---------+-------+-----------+---------------+------------+----------------+-------------+---------+--------------------+\n",
            "only showing top 20 rows\n",
            "\n"
          ]
        }
      ],
      "source": [
        "transformed_data.show()"
      ]
    },
    {
      "cell_type": "code",
      "execution_count": 53,
      "metadata": {
        "id": "wAxYmxspQRtg",
        "colab": {
          "base_uri": "https://localhost:8080/"
        },
        "outputId": "4b3d9aff-7f51-4d14-8101-c5adfbb35689"
      },
      "outputs": [
        {
          "output_type": "stream",
          "name": "stdout",
          "text": [
            "+-------+--------------------+\n",
            "|Is_Lead|            features|\n",
            "+-------+--------------------+\n",
            "|      0|[73.0,43.0,104569...|\n",
            "|      0|[30.0,32.0,581988...|\n",
            "|      0|[56.0,26.0,148431...|\n",
            "|      0|(11,[0,1,2,5,7,10...|\n",
            "|      0|[30.0,33.0,886787...|\n",
            "+-------+--------------------+\n",
            "only showing top 5 rows\n",
            "\n"
          ]
        }
      ],
      "source": [
        "transformed_data.select('Is_Lead', 'features').show(5)"
      ]
    },
    {
      "cell_type": "markdown",
      "metadata": {
        "id": "fQ3Hd-9zZfqS"
      },
      "source": [
        "**Модельки**\n",
        "\n",
        "Пора нам уже что-то обучить, начнем с логрега"
      ]
    },
    {
      "cell_type": "code",
      "execution_count": 54,
      "metadata": {
        "id": "yPjuQR3nZmNP"
      },
      "outputs": [],
      "source": [
        "from pyspark.ml.classification import LogisticRegression, LogisticRegressionModel"
      ]
    },
    {
      "cell_type": "code",
      "execution_count": 55,
      "metadata": {
        "id": "1E6G5HuFZ11p"
      },
      "outputs": [],
      "source": [
        "lr = LogisticRegression(featuresCol='features', labelCol='Is_Lead', predictionCol='prediction',\n",
        "                        maxIter=100, probabilityCol='proba')\n",
        "\n",
        "lr = lr.fit(transformed_data)"
      ]
    },
    {
      "cell_type": "markdown",
      "metadata": {
        "id": "q-rzIwuDws9m"
      },
      "source": [
        "Сохраним"
      ]
    },
    {
      "cell_type": "code",
      "execution_count": 56,
      "metadata": {
        "id": "B_7j3DSkwfzv"
      },
      "outputs": [],
      "source": [
        "lr.save('logreg_model')"
      ]
    },
    {
      "cell_type": "markdown",
      "metadata": {
        "id": "UNXljB3Bw9ui"
      },
      "source": [
        "Загрузка"
      ]
    },
    {
      "cell_type": "code",
      "execution_count": 57,
      "metadata": {
        "id": "DNPT1BVAwwdj"
      },
      "outputs": [],
      "source": [
        "lr2 = LogisticRegressionModel.load('logreg_model')"
      ]
    },
    {
      "cell_type": "markdown",
      "metadata": {
        "id": "kKQWHwILb9ZG"
      },
      "source": [
        "Коэффициенты и метрики"
      ]
    },
    {
      "cell_type": "code",
      "execution_count": 58,
      "metadata": {
        "id": "_0UWzsFwav6u",
        "colab": {
          "base_uri": "https://localhost:8080/"
        },
        "outputId": "69e5a302-41e8-41f4-f5c6-58a71dd150eb"
      },
      "outputs": [
        {
          "output_type": "stream",
          "name": "stdout",
          "text": [
            "Coefficients: [-0.016713044807987118,0.009916392983822526,9.91826749028193e-09,-0.05296577197114642,-1.5152849582681478,-0.5266676981678328,-1.5009517711168423,-1.5679772035552135,-0.1459536443737886,-0.05760664451981407,0.34189553941632866]\n",
            "Intercept: 0.09853176624209481\n"
          ]
        }
      ],
      "source": [
        "print(\"Coefficients: \" + str(lr.coefficients))\n",
        "print(\"Intercept: \" + str(lr.intercept))"
      ]
    },
    {
      "cell_type": "code",
      "execution_count": 59,
      "metadata": {
        "id": "Y7G91sTrxQbs",
        "colab": {
          "base_uri": "https://localhost:8080/"
        },
        "outputId": "d6cdc94c-471d-4472-f6b5-4a41ed87d3ae"
      },
      "outputs": [
        {
          "output_type": "stream",
          "name": "stdout",
          "text": [
            "Coefficients: [-0.016713044807987118,0.009916392983822526,9.91826749028193e-09,-0.05296577197114642,-1.5152849582681478,-0.5266676981678328,-1.5009517711168423,-1.5679772035552135,-0.1459536443737886,-0.05760664451981407,0.34189553941632866]\n",
            "Intercept: 0.09853176624209481\n"
          ]
        }
      ],
      "source": [
        "print(\"Coefficients: \" + str(lr2.coefficients))\n",
        "print(\"Intercept: \" + str(lr2.intercept))"
      ]
    },
    {
      "cell_type": "code",
      "execution_count": 60,
      "metadata": {
        "id": "K7gmjDu4blD1",
        "colab": {
          "base_uri": "https://localhost:8080/"
        },
        "outputId": "fa1cae54-d379-4a6a-adde-c8a0ce7b6173"
      },
      "outputs": [
        {
          "output_type": "stream",
          "name": "stdout",
          "text": [
            "ROC_AUC = 0.7291583664123229\n"
          ]
        }
      ],
      "source": [
        "print(f'ROC_AUC = {lr.summary.areaUnderROC}')"
      ]
    },
    {
      "cell_type": "code",
      "execution_count": 61,
      "metadata": {
        "id": "SeL7Hy0Wa7xC",
        "colab": {
          "base_uri": "https://localhost:8080/"
        },
        "outputId": "6be1245c-f3be-4f6c-8fd6-4f4826e6dc43"
      },
      "outputs": [
        {
          "output_type": "execute_result",
          "data": {
            "text/plain": [
              "[0.9880226422744709, 0.10472138347515783]"
            ]
          },
          "metadata": {},
          "execution_count": 61
        }
      ],
      "source": [
        "lr.summary.recallByLabel"
      ]
    },
    {
      "cell_type": "code",
      "execution_count": 62,
      "metadata": {
        "id": "supy8ehjdDkz",
        "colab": {
          "base_uri": "https://localhost:8080/"
        },
        "outputId": "24d9e2ff-5381-44b7-fd25-0ad55a3cc2a4"
      },
      "outputs": [
        {
          "output_type": "execute_result",
          "data": {
            "text/plain": [
              "[Param(parent='LogisticRegression_1c32fc242e68', name='aggregationDepth', doc='suggested depth for treeAggregate (>= 2).'),\n",
              " Param(parent='LogisticRegression_1c32fc242e68', name='elasticNetParam', doc='the ElasticNet mixing parameter, in range [0, 1]. For alpha = 0, the penalty is an L2 penalty. For alpha = 1, it is an L1 penalty.'),\n",
              " Param(parent='LogisticRegression_1c32fc242e68', name='family', doc='The name of family which is a description of the label distribution to be used in the model. Supported options: auto, binomial, multinomial'),\n",
              " Param(parent='LogisticRegression_1c32fc242e68', name='featuresCol', doc='features column name.'),\n",
              " Param(parent='LogisticRegression_1c32fc242e68', name='fitIntercept', doc='whether to fit an intercept term.'),\n",
              " Param(parent='LogisticRegression_1c32fc242e68', name='labelCol', doc='label column name.'),\n",
              " Param(parent='LogisticRegression_1c32fc242e68', name='lowerBoundsOnCoefficients', doc='The lower bounds on coefficients if fitting under bound constrained optimization. The bound matrix must be compatible with the shape (1, number of features) for binomial regression, or (number of classes, number of features) for multinomial regression.'),\n",
              " Param(parent='LogisticRegression_1c32fc242e68', name='lowerBoundsOnIntercepts', doc='The lower bounds on intercepts if fitting under bound constrained optimization. The bounds vector size must beequal with 1 for binomial regression, or the number oflasses for multinomial regression.'),\n",
              " Param(parent='LogisticRegression_1c32fc242e68', name='maxBlockSizeInMB', doc='maximum memory in MB for stacking input data into blocks. Data is stacked within partitions. If more than remaining data size in a partition then it is adjusted to the data size. Default 0.0 represents choosing optimal value, depends on specific algorithm. Must be >= 0.'),\n",
              " Param(parent='LogisticRegression_1c32fc242e68', name='maxIter', doc='max number of iterations (>= 0).'),\n",
              " Param(parent='LogisticRegression_1c32fc242e68', name='predictionCol', doc='prediction column name.'),\n",
              " Param(parent='LogisticRegression_1c32fc242e68', name='probabilityCol', doc='Column name for predicted class conditional probabilities. Note: Not all models output well-calibrated probability estimates! These probabilities should be treated as confidences, not precise probabilities.'),\n",
              " Param(parent='LogisticRegression_1c32fc242e68', name='rawPredictionCol', doc='raw prediction (a.k.a. confidence) column name.'),\n",
              " Param(parent='LogisticRegression_1c32fc242e68', name='regParam', doc='regularization parameter (>= 0).'),\n",
              " Param(parent='LogisticRegression_1c32fc242e68', name='standardization', doc='whether to standardize the training features before fitting the model.'),\n",
              " Param(parent='LogisticRegression_1c32fc242e68', name='threshold', doc='Threshold in binary classification prediction, in range [0, 1]. If threshold and thresholds are both set, they must match.e.g. if threshold is p, then thresholds must be equal to [1-p, p].'),\n",
              " Param(parent='LogisticRegression_1c32fc242e68', name='thresholds', doc=\"Thresholds in multi-class classification to adjust the probability of predicting each class. Array must have length equal to the number of classes, with values > 0, excepting that at most one value may be 0. The class with largest value p/t is predicted, where p is the original probability of that class and t is the class's threshold.\"),\n",
              " Param(parent='LogisticRegression_1c32fc242e68', name='tol', doc='the convergence tolerance for iterative algorithms (>= 0).'),\n",
              " Param(parent='LogisticRegression_1c32fc242e68', name='upperBoundsOnCoefficients', doc='The upper bounds on coefficients if fitting under bound constrained optimization. The bound matrix must be compatible with the shape (1, number of features) for binomial regression, or (number of classes, number of features) for multinomial regression.'),\n",
              " Param(parent='LogisticRegression_1c32fc242e68', name='upperBoundsOnIntercepts', doc='The upper bounds on intercepts if fitting under bound constrained optimization. The bound vector size must be equal with 1 for binomial regression, or the number of classes for multinomial regression.'),\n",
              " Param(parent='LogisticRegression_1c32fc242e68', name='weightCol', doc='weight column name. If this is not set or empty, we treat all instance weights as 1.0.')]"
            ]
          },
          "metadata": {},
          "execution_count": 62
        }
      ],
      "source": [
        "lr.params"
      ]
    },
    {
      "cell_type": "code",
      "execution_count": 63,
      "metadata": {
        "id": "qt98_rd6cGqJ",
        "colab": {
          "base_uri": "https://localhost:8080/"
        },
        "outputId": "255cf0e2-c849-4280-cfa6-6a59996ff720"
      },
      "outputs": [
        {
          "output_type": "stream",
          "name": "stdout",
          "text": [
            "+-------+--------------------+--------------------+--------------------+----------+\n",
            "|Is_Lead|            features|       rawPrediction|               proba|prediction|\n",
            "+-------+--------------------+--------------------+--------------------+----------+\n",
            "|      0|[73.0,43.0,104569...|[1.01703314359154...|[0.73439428907056...|       0.0|\n",
            "|      0|[30.0,32.0,581988...|[1.88547782413292...|[0.86823905458579...|       0.0|\n",
            "|      0|[56.0,26.0,148431...|[0.91147290916372...|[0.71330147094138...|       0.0|\n",
            "|      0|(11,[0,1,2,5,7,10...|[2.02938356422968...|[0.88384780907754...|       0.0|\n",
            "|      0|[30.0,33.0,886787...|[1.87253835313633...|[0.86675171295996...|       0.0|\n",
            "|      0|(11,[0,1,2,4,7,10...|[2.23035701748859...|[0.90294265153487...|       0.0|\n",
            "|      1|(11,[0,1,2,6,8,10...|[1.00819128083161...|[0.73266603083243...|       0.0|\n",
            "|      0|[48.0,13.0,444724...|[1.25888814052434...|[0.77883464798448...|       0.0|\n",
            "|      0|[40.0,38.0,127428...|[1.12259469904799...|[0.75446968923717...|       0.0|\n",
            "|      0|[55.0,49.0,201423...|[0.91497543730865...|[0.71401721118479...|       0.0|\n",
            "|      0|(11,[0,1,2,4,8,10...|[0.19336876809391...|[0.54819212095901...|       0.0|\n",
            "|      0|(11,[0,1,2,4,7],[...|[3.29216632766676...|[0.96415908979132...|       0.0|\n",
            "|      0|(11,[0,1,2,3,5,7]...|[2.29395368096059...|[0.90837504596206...|       0.0|\n",
            "|      0|(11,[0,1,2,5,7,10...|[1.85560298933415...|[0.86478361697150...|       0.0|\n",
            "|      0|(11,[0,1,2,6,8,10...|[0.92763379790491...|[0.71659498790825...|       0.0|\n",
            "|      1|(11,[0,1,2,4,9,10...|[0.99463529076603...|[0.73000250624176...|       0.0|\n",
            "|      1|[46.0,97.0,228250...|[0.70181981874054...|[0.66859112584372...|       0.0|\n",
            "|      1|[59.0,15.0,238469...|[1.04742899933033...|[0.74028089094995...|       0.0|\n",
            "|      0|[65.0,20.0,341573...|[1.03004250416164...|[0.73692413606874...|       0.0|\n",
            "|      0|[37.0,63.0,633484...|[2.32693873772034...|[0.91108365507307...|       0.0|\n",
            "+-------+--------------------+--------------------+--------------------+----------+\n",
            "only showing top 20 rows\n",
            "\n"
          ]
        }
      ],
      "source": [
        "lr.transform(transformed_data.select('Is_Lead', 'features')).show()"
      ]
    },
    {
      "cell_type": "markdown",
      "metadata": {
        "id": "Ipn37OYZfe_8"
      },
      "source": [
        "**Подбор параметров**\n",
        "\n",
        "Тут нет всяких hyperopt, optuna...есть стандартная кросс-валидация и поиск по сетке"
      ]
    },
    {
      "cell_type": "code",
      "execution_count": 64,
      "metadata": {
        "id": "Xm9NGSM-fwSZ"
      },
      "outputs": [],
      "source": [
        "from pyspark.ml.tuning import ParamGridBuilder, TrainValidationSplit, CrossValidator\n",
        "from pyspark.ml.evaluation import BinaryClassificationEvaluator"
      ]
    },
    {
      "cell_type": "markdown",
      "metadata": {
        "id": "akrk6N6HgWFa"
      },
      "source": [
        "Для этого соберем все в пайплайн. Можно было \"вложить\" старый пайплайн в новый, но соберем все с самого начала"
      ]
    },
    {
      "cell_type": "code",
      "execution_count": 65,
      "metadata": {
        "id": "A4SVMvaQgYfk"
      },
      "outputs": [],
      "source": [
        "#string в индесы\n",
        "gender_indexer = StringIndexer(inputCol=\"Gender\", outputCol=\"GenderIndex\")\n",
        "occupation_indexer = StringIndexer(inputCol=\"Occupation\", outputCol=\"OccupationIndex\")\n",
        "channel_indexer = StringIndexer(inputCol=\"Channel_Code\", outputCol=\"ChannelIndex\")\n",
        "\n",
        "#OHE\n",
        "ohe_encoder = OneHotEncoder(inputCols=[\"OccupationIndex\", \"ChannelIndex\"],\n",
        "                        outputCols=[\"OccupationVector\", \"ChannelVec\"])\n",
        "\n",
        "#квантизация\n",
        "discretizer = QuantileDiscretizer(numBuckets=5, inputCol=\"Age\", outputCol=\"Age_quant\")\n",
        "\n",
        "#собираем все в вектор\n",
        "feature_columns = [\n",
        "                   'Age',\n",
        "                   'Vintage',\n",
        "                   'Avg_Account_Balance',\n",
        "                   'GenderIndex',\n",
        "                   'OccupationVector',\n",
        "                   'ChannelVec',\n",
        "                   'Age_quant'                 \n",
        "]\n",
        "vector_assembler = VectorAssembler(inputCols = feature_columns, outputCol = 'features')\n",
        "\n",
        "lr = LogisticRegression(featuresCol='features', labelCol='Is_Lead', predictionCol='prediction',\n",
        "                        maxIter=100, probabilityCol='proba')"
      ]
    },
    {
      "cell_type": "code",
      "execution_count": 66,
      "metadata": {
        "id": "Rn8cK_B4gKRd"
      },
      "outputs": [],
      "source": [
        "pipeline = Pipeline(stages=[\n",
        "                           gender_indexer,\n",
        "                           occupation_indexer,\n",
        "                           channel_indexer,\n",
        "                           ohe_encoder,\n",
        "                           discretizer,\n",
        "                           vector_assembler,\n",
        "                           lr\n",
        "])"
      ]
    },
    {
      "cell_type": "markdown",
      "metadata": {
        "id": "T9gENnbniGi4"
      },
      "source": [
        "Сетка параметров"
      ]
    },
    {
      "cell_type": "code",
      "execution_count": 67,
      "metadata": {
        "id": "JC9hlYpFgtru"
      },
      "outputs": [],
      "source": [
        "paramGrid = ParamGridBuilder() \\\n",
        "    .addGrid(discretizer.numBuckets, [5, 10]) \\\n",
        "    .addGrid(lr.maxIter, [10, 20]) \\\n",
        "    .build()"
      ]
    },
    {
      "cell_type": "markdown",
      "metadata": {
        "id": "9pjHOyAbikU4"
      },
      "source": [
        "Разобьем данные на train, test"
      ]
    },
    {
      "cell_type": "code",
      "execution_count": 68,
      "metadata": {
        "id": "9fLrqVlwim3-"
      },
      "outputs": [],
      "source": [
        "train, test = data.randomSplit([0.7, 0.3], seed=7)"
      ]
    },
    {
      "cell_type": "markdown",
      "metadata": {
        "id": "vUu8wO5cjEQO"
      },
      "source": [
        "Описываем стратегию кросс-валидации"
      ]
    },
    {
      "cell_type": "code",
      "execution_count": 69,
      "metadata": {
        "id": "ppn-9HE1iNWN"
      },
      "outputs": [],
      "source": [
        "crossval = CrossValidator(estimator=pipeline,\n",
        "                          estimatorParamMaps=paramGrid,\n",
        "                          evaluator=BinaryClassificationEvaluator(rawPredictionCol='rawPrediction',\n",
        "                                                                  labelCol='Is_Lead', metricName='areaUnderROC'),\n",
        "                          numFolds=2,\n",
        "                          parallelism=2)"
      ]
    },
    {
      "cell_type": "markdown",
      "metadata": {
        "id": "UxsvDyaqkEvM"
      },
      "source": [
        "Гоняем сетку. Знаю, перебор по сетке прошлый век, но что поделать)"
      ]
    },
    {
      "cell_type": "code",
      "execution_count": 70,
      "metadata": {
        "id": "eLZZWrBoigSx"
      },
      "outputs": [],
      "source": [
        "cvModel = crossval.fit(train)"
      ]
    },
    {
      "cell_type": "code",
      "execution_count": 71,
      "metadata": {
        "id": "n2rQLkQ4lqUY",
        "colab": {
          "base_uri": "https://localhost:8080/"
        },
        "outputId": "4ccbc444-4008-42aa-a858-ca4eebfd9c33"
      },
      "outputs": [
        {
          "output_type": "execute_result",
          "data": {
            "text/plain": [
              "[0.7288569508077829,\n",
              " 0.7292670310710259,\n",
              " 0.7285752749191472,\n",
              " 0.7291851930489013]"
            ]
          },
          "metadata": {},
          "execution_count": 71
        }
      ],
      "source": [
        "cvModel.avgMetrics"
      ]
    },
    {
      "cell_type": "markdown",
      "metadata": {
        "id": "_KB9cRqbqRwu"
      },
      "source": [
        "Параметры"
      ]
    },
    {
      "cell_type": "code",
      "execution_count": 72,
      "metadata": {
        "id": "PfkNIaY2qThi",
        "colab": {
          "base_uri": "https://localhost:8080/"
        },
        "outputId": "ad12f773-5e0d-4cd8-f388-2ed76cef356a"
      },
      "outputs": [
        {
          "output_type": "stream",
          "name": "stdout",
          "text": [
            "{Param(parent='QuantileDiscretizer_4391a4c5bf40', name='numBuckets', doc='Maximum number of buckets (quantiles, or categories) into which data points are grouped. Must be >= 2.'): 5, Param(parent='LogisticRegression_fcffd46edb39', name='maxIter', doc='max number of iterations (>= 0).'): 20}\n"
          ]
        }
      ],
      "source": [
        "import numpy as np\n",
        "print(cvModel.getEstimatorParamMaps()[np.argmax(cvModel.avgMetrics)])"
      ]
    },
    {
      "cell_type": "markdown",
      "metadata": {
        "id": "AOWVYH99qeFR"
      },
      "source": [
        "Сделаем предикт"
      ]
    },
    {
      "cell_type": "code",
      "execution_count": 73,
      "metadata": {
        "id": "JbsJtmC3l1KN"
      },
      "outputs": [],
      "source": [
        "test_pred = cvModel.transform(test)"
      ]
    },
    {
      "cell_type": "code",
      "execution_count": 74,
      "metadata": {
        "id": "E-PfseCjm7Ih",
        "colab": {
          "base_uri": "https://localhost:8080/"
        },
        "outputId": "de7b424b-15d4-444d-cb55-91566ede92b1"
      },
      "outputs": [
        {
          "output_type": "stream",
          "name": "stdout",
          "text": [
            "+--------+------+---+-----------+-------------+------------+-------+--------------+-------------------+---------+-------+-----------+---------------+------------+----------------+-------------+---------+--------------------+--------------------+--------------------+----------+\n",
            "|      ID|Gender|Age|Region_Code|   Occupation|Channel_Code|Vintage|Credit_Product|Avg_Account_Balance|Is_Active|Is_Lead|GenderIndex|OccupationIndex|ChannelIndex|OccupationVector|   ChannelVec|Age_quant|            features|       rawPrediction|               proba|prediction|\n",
            "+--------+------+---+-----------+-------------+------------+-------+--------------+-------------------+---------+-------+-----------+---------------+------------+----------------+-------------+---------+--------------------+--------------------+--------------------+----------+\n",
            "|224VSEND|  Male| 29|      RG261|     Salaried|          X1|     13|            No|             736866|      Yes|      0|        0.0|            1.0|         0.0|   (3,[1],[1.0])|(3,[0],[1.0])|      1.0|(11,[0,1,2,5,7,10...|[2.01360806307522...|[0.88221844995396...|       0.0|\n",
            "|226C7GAH|  Male| 45|      RG268|Self_Employed|          X3|     93|            No|             634979|      Yes|      0|        0.0|            0.0|         1.0|   (3,[0],[1.0])|(3,[1],[1.0])|      2.0|(11,[0,1,2,4,8,10...|[0.70215318028974...|[0.66866498695466...|       0.0|\n",
            "|2293VNUQ|Female| 26|      RG271|     Salaried|          X1|     13|            No|             561928|       No|      0|        1.0|            1.0|         0.0|   (3,[1],[1.0])|(3,[0],[1.0])|      0.0|(11,[0,1,2,3,5,7]...|[2.35200398194772...|[0.91309338295717...|       0.0|\n",
            "|22A2ZYXE|Female| 72|      RG251|        Other|          X2|     74|           Yes|             845980|      Yes|      0|        1.0|            2.0|         2.0|   (3,[2],[1.0])|(3,[2],[1.0])|      4.0|[72.0,74.0,845980...|[0.60014407586441...|[0.64568926782122...|       0.0|\n",
            "|22AWEYJP|Female| 46|      RG261|Self_Employed|          X3|     51|            No|            1594443|       No|      1|        1.0|            0.0|         1.0|   (3,[0],[1.0])|(3,[1],[1.0])|      2.0|[46.0,51.0,159444...|[1.17738295429921...|[0.76447692575318...|       0.0|\n",
            "|22BAGKFG|  Male| 62|      RG284|        Other|          X2|     45|           Yes|             746122|       No|      0|        0.0|            2.0|         2.0|   (3,[2],[1.0])|(3,[2],[1.0])|      4.0|(11,[0,1,2,6,9,10...|[0.67996396514064...|[0.66373065474964...|       0.0|\n",
            "|22CCUDLW|  Male| 31|      RG254|     Salaried|          X1|     32|            No|            1021337|       No|      0|        0.0|            1.0|         0.0|   (3,[1],[1.0])|(3,[0],[1.0])|      1.0|(11,[0,1,2,5,7,10...|[1.85418818062989...|[0.86461809386997...|       0.0|\n",
            "|22EHAPRA|  Male| 71|      RG251|        Other|          X3|    110|            No|            1213960|      Yes|      1|        0.0|            2.0|         1.0|   (3,[2],[1.0])|(3,[1],[1.0])|      4.0|(11,[0,1,2,6,8,10...|[0.25852580445132...|[0.56427386741552...|       0.0|\n",
            "|22EYLWV9|  Male| 60|      RG282|Self_Employed|          X2|     97|            No|            1497086|       No|      0|        0.0|            0.0|         2.0|   (3,[0],[1.0])|(3,[2],[1.0])|      4.0|(11,[0,1,2,4,9,10...|[0.13843551672125...|[0.53455371338834...|       0.0|\n",
            "|22FOWQ35|  Male| 51|      RG273|Self_Employed|          X3|     37|           Yes|            1266060|       No|      1|        0.0|            0.0|         1.0|   (3,[0],[1.0])|(3,[1],[1.0])|      3.0|(11,[0,1,2,4,8,10...|[1.01536242617524...|[0.73406827247760...|       0.0|\n",
            "|22FYHU4G|  Male| 27|      RG284|     Salaried|          X1|     13|            No|             920179|       No|      0|        0.0|            1.0|         0.0|   (3,[1],[1.0])|(3,[0],[1.0])|      0.0|(11,[0,1,2,5,7],[...|[2.31753369148344...|[0.91031879863154...|       0.0|\n",
            "|22GKHLRT|  Male| 57|      RG254|Self_Employed|          X2|     32|            No|             561616|      Yes|      0|        0.0|            0.0|         2.0|   (3,[0],[1.0])|(3,[2],[1.0])|      4.0|(11,[0,1,2,4,9,10...|[0.74598468630021...|[0.67830315367936...|       0.0|\n",
            "|22GTBFLA|  Male| 57|      RG254|Self_Employed|          X3|     55|           Yes|            2236899|       No|      1|        0.0|            0.0|         1.0|   (3,[0],[1.0])|(3,[1],[1.0])|      4.0|(11,[0,1,2,4,8,10...|[0.58734450391746...|[0.64275561989341...|       0.0|\n",
            "|22KAE9CY|Female| 45|      RG283|        Other|          X2|     99|           Yes|            1034998|      Yes|      1|        1.0|            2.0|         2.0|   (3,[2],[1.0])|(3,[2],[1.0])|      2.0|[45.0,99.0,103499...|[0.58598936511851...|[0.64244439163295...|       0.0|\n",
            "|22KMFEDX|  Male| 64|      RG270|        Other|          X2|     21|            No|             345409|      Yes|      0|        0.0|            2.0|         2.0|   (3,[2],[1.0])|(3,[2],[1.0])|      4.0|(11,[0,1,2,6,9,10...|[0.95528018640869...|[0.72217582536207...|       0.0|\n",
            "|22NWGVDD|  Male| 77|      RG280|        Other|          X3|    129|           Yes|             715835|       No|      0|        0.0|            2.0|         1.0|   (3,[2],[1.0])|(3,[1],[1.0])|      4.0|(11,[0,1,2,6,8,10...|[0.17060477713693...|[0.54254804406662...|       0.0|\n",
            "|22O2OUPS|Female| 70|      RG253|        Other|          X2|     45|            No|            1795664|       No|      0|        1.0|            2.0|         2.0|   (3,[2],[1.0])|(3,[2],[1.0])|      4.0|[70.0,45.0,179566...|[0.84917179070398...|[0.70039337781888...|       0.0|\n",
            "|22PF8VHQ|  Male| 65|      RG263|        Other|          X2|    104|           Yes|             714865|      Yes|      1|        0.0|            2.0|         2.0|   (3,[2],[1.0])|(3,[2],[1.0])|      4.0|(11,[0,1,2,6,9,10...|[0.14026064324875...|[0.53500778713161...|       0.0|\n",
            "|22RDEFWM|  Male| 48|      RG267|Self_Employed|          X3|     99|            No|             576728|       No|      0|        0.0|            0.0|         1.0|   (3,[0],[1.0])|(3,[1],[1.0])|      3.0|(11,[0,1,2,4,8,10...|[0.35358475707128...|[0.58748660240391...|       0.0|\n",
            "|22RQT8WL|Female| 39|      RG274|Self_Employed|          X2|     32|           Yes|            1322379|       No|      0|        1.0|            0.0|         2.0|   (3,[0],[1.0])|(3,[2],[1.0])|      2.0|[39.0,32.0,132237...|[1.17070752413449...|[0.76327288022869...|       0.0|\n",
            "+--------+------+---+-----------+-------------+------------+-------+--------------+-------------------+---------+-------+-----------+---------------+------------+----------------+-------------+---------+--------------------+--------------------+--------------------+----------+\n",
            "only showing top 20 rows\n",
            "\n"
          ]
        }
      ],
      "source": [
        "test_pred.show()"
      ]
    },
    {
      "cell_type": "markdown",
      "metadata": {
        "id": "LA5pbziMoRDT"
      },
      "source": [
        "Проверим модель"
      ]
    },
    {
      "cell_type": "code",
      "execution_count": 75,
      "metadata": {
        "id": "eO7WOldKoEqK"
      },
      "outputs": [],
      "source": [
        "evaluator = BinaryClassificationEvaluator(rawPredictionCol='rawPrediction',\n",
        "                                          labelCol='Is_Lead', metricName='areaUnderROC')"
      ]
    },
    {
      "cell_type": "code",
      "execution_count": 76,
      "metadata": {
        "id": "5bH_zffaoLJy",
        "colab": {
          "base_uri": "https://localhost:8080/"
        },
        "outputId": "03834173-c6be-4904-c832-925eeda6e00e"
      },
      "outputs": [
        {
          "output_type": "execute_result",
          "data": {
            "text/plain": [
              "0.7282672237430954"
            ]
          },
          "metadata": {},
          "execution_count": 76
        }
      ],
      "source": [
        "evaluator.evaluate(test_pred)"
      ]
    },
    {
      "cell_type": "markdown",
      "metadata": {
        "id": "KiOvzq7Sqi8d"
      },
      "source": [
        "Сохраним пайплайн"
      ]
    },
    {
      "cell_type": "code",
      "execution_count": 77,
      "metadata": {
        "id": "DSYb-f_AqlFL"
      },
      "outputs": [],
      "source": [
        "cvModel.write().save('model')"
      ]
    },
    {
      "cell_type": "markdown",
      "metadata": {
        "id": "sv0etfqprdpj"
      },
      "source": [
        "вместо кросс-валидации можно взять TrainValidationSplit для подбора параметров, это train_test_split"
      ]
    },
    {
      "cell_type": "markdown",
      "metadata": {
        "id": "9aco7h88Jv3m"
      },
      "source": [
        "**Ваша любимая домашка**"
      ]
    },
    {
      "cell_type": "markdown",
      "metadata": {
        "id": "hzvvR75kJ4v8"
      },
      "source": [
        "Кто проходил курс GPU прекрасно знают датасет.\n",
        "Данные находятся в файле Train_Set_90621.csv\n",
        "Amount Defaulted - эту переменную нужно удалить=)\n",
        "\n",
        "Что ожидается? - творчество)\n",
        "\n",
        "    1) Начните с анализа баланса классов, пропусков, статистик при помощи DataFrame API\n",
        "    2) Посомтрите статистики, заполните пропуски при помощи уже MLlib\n",
        "    3) Соберите пайплайн, похожий на наш, где будет обработка данных, обучение моделей и все при помощи Spark\n",
        "    4) Разбейте данные на train/test + реализуйте подбор параметров одним из способов спарка\n",
        "    5) Cохраниет пайплайн на диск\n",
        "    6) Проверьте качество модели на отложенной test выборке\n",
        "\n",
        "### Срок выполнения - 02.03.2023\n"
      ]
    },
    {
      "cell_type": "code",
      "source": [
        "data = spark.read.csv('Train_Set_90621.csv', header=True, inferSchema=True)\n",
        "\n",
        "data = data.drop('Amount Defaulted')\n",
        "data.cache()"
      ],
      "metadata": {
        "colab": {
          "base_uri": "https://localhost:8080/"
        },
        "id": "XjTKX_PfL8z8",
        "outputId": "604ddbe2-4d89-40d6-cb3f-197520140db2"
      },
      "execution_count": 164,
      "outputs": [
        {
          "output_type": "execute_result",
          "data": {
            "text/plain": [
              "DataFrame[Application ID: int, Bank Masked: string, Bank Type: string, Approved_Timestamp: string, Name Masked: string, Business Owner State: string, Business_Industry_Type_Code: int, Approved_Year: int, New Business: int, Term: int, BankState: string, Interest Rate: int, Employees: int, Gross Disbursed Amount: int, Term_years: int, Jobs Retained: int, Male to Female Employees Ratio: int, Expected Company Income: bigint, Funds available with company: int, Gross_Apprv_Amount: string, Company Branch Code: string, City or Rural: int, Jobs Generated: int, Carry-forward Credit: string, Documents Provided: string, Balance Left: string, Final_Appved_Amount: int, Default_Status: int]"
            ]
          },
          "metadata": {},
          "execution_count": 164
        }
      ]
    },
    {
      "cell_type": "code",
      "source": [
        "data.printSchema()"
      ],
      "metadata": {
        "colab": {
          "base_uri": "https://localhost:8080/"
        },
        "id": "RVENLDYLMMwk",
        "outputId": "86aa422d-44c6-491a-accc-893c33baf5a7"
      },
      "execution_count": 165,
      "outputs": [
        {
          "output_type": "stream",
          "name": "stdout",
          "text": [
            "root\n",
            " |-- Application ID: integer (nullable = true)\n",
            " |-- Bank Masked: string (nullable = true)\n",
            " |-- Bank Type: string (nullable = true)\n",
            " |-- Approved_Timestamp: string (nullable = true)\n",
            " |-- Name Masked: string (nullable = true)\n",
            " |-- Business Owner State: string (nullable = true)\n",
            " |-- Business_Industry_Type_Code: integer (nullable = true)\n",
            " |-- Approved_Year: integer (nullable = true)\n",
            " |-- New Business: integer (nullable = true)\n",
            " |-- Term: integer (nullable = true)\n",
            " |-- BankState: string (nullable = true)\n",
            " |-- Interest Rate: integer (nullable = true)\n",
            " |-- Employees: integer (nullable = true)\n",
            " |-- Gross Disbursed Amount: integer (nullable = true)\n",
            " |-- Term_years: integer (nullable = true)\n",
            " |-- Jobs Retained: integer (nullable = true)\n",
            " |-- Male to Female Employees Ratio: integer (nullable = true)\n",
            " |-- Expected Company Income: long (nullable = true)\n",
            " |-- Funds available with company: integer (nullable = true)\n",
            " |-- Gross_Apprv_Amount: string (nullable = true)\n",
            " |-- Company Branch Code: string (nullable = true)\n",
            " |-- City or Rural: integer (nullable = true)\n",
            " |-- Jobs Generated: integer (nullable = true)\n",
            " |-- Carry-forward Credit: string (nullable = true)\n",
            " |-- Documents Provided: string (nullable = true)\n",
            " |-- Balance Left: string (nullable = true)\n",
            " |-- Final_Appved_Amount: integer (nullable = true)\n",
            " |-- Default_Status: integer (nullable = true)\n",
            "\n"
          ]
        }
      ]
    },
    {
      "cell_type": "code",
      "source": [
        "data.show()"
      ],
      "metadata": {
        "colab": {
          "base_uri": "https://localhost:8080/"
        },
        "id": "dJJlQQ6VMcbd",
        "outputId": "be94c09f-6355-4ced-dd5b-9fa9079dd73a"
      },
      "execution_count": 166,
      "outputs": [
        {
          "output_type": "stream",
          "name": "stdout",
          "text": [
            "+--------------+---------------+---------+------------------+--------------------+--------------------+---------------------------+-------------+------------+----+-------------+-------------+---------+----------------------+----------+-------------+------------------------------+-----------------------+----------------------------+------------------+-------------------+-------------+--------------+--------------------+------------------+------------+-------------------+--------------+\n",
            "|Application ID|    Bank Masked|Bank Type|Approved_Timestamp|         Name Masked|Business Owner State|Business_Industry_Type_Code|Approved_Year|New Business|Term|    BankState|Interest Rate|Employees|Gross Disbursed Amount|Term_years|Jobs Retained|Male to Female Employees Ratio|Expected Company Income|Funds available with company|Gross_Apprv_Amount|Company Branch Code|City or Rural|Jobs Generated|Carry-forward Credit|Documents Provided|Balance Left|Final_Appved_Amount|Default_Status|\n",
            "+--------------+---------------+---------+------------------+--------------------+--------------------+---------------------------+-------------+------------+----+-------------+-------------+---------+----------------------+----------+-------------+------------------------------+-----------------------+----------------------------+------------------+-------------------+-------------+--------------+--------------------+------------------+------------+-------------------+--------------+\n",
            "|    1020200001|  Bank_Name_316|  Private|        12-10-2005| Business_Name_10007|       Uttar Pradesh|                     525161|         2005|           1| 219|Uttar Pradesh|            3|       42|              18550000|        18|           18|                             4|                3500000|                      780590|          18550000|              25650|            1|             3|                   N|                 N|           0|           13912500|             0|\n",
            "|    1020200002| Bank_Name_1062|     Govt|        21-11-2006|Business_Name_130906|       Uttar Pradesh|                       1231|         2006|           1|  71|Uttar Pradesh|            5|       20|               3045000|         6|           10|                            16|                1666667|                     1835637|           2450000|                  0|            1|             0|                   Y|                 N|           0|            1225000|             1|\n",
            "|    1020200003|   Bank_Name_39|  Private|        28-11-2007|Business_Name_105953|       Uttar Pradesh|                     322442|         2007|           2|  84|  Maharashtra|            8|       16|               1750000|         7|           10|                             8|                1333333|                     2373333|           1750000|                  0|            2|             2|                   Y|                 N|           0|            1487500|             0|\n",
            "|    1020200004|    Bank_Name_3|     Govt|        18-04-2009|Business_Name_103197|              Kerala|                       1231|         2009|           1| 300|        Delhi|            8|        4|              38850000|        25|            2|                             6|                 333333|                     2346786|          38850000|                  1|            1|             0|                   N|                 N|           0|           29137500|             0|\n",
            "|    1020200005|  Bank_Name_126|     Govt|        23-11-2002|Business_Name_118932|               Delhi|                       1231|         2002|           2| 153|  Maharashtra|           11|        4|               2800000|        13|            0|                             8|                 333333|                     2382995|           2800000|                  1|            2|             0|                   N|                 Y|           0|            2380000|             0|\n",
            "|    1020200006| Bank_Name_1281|  Private|        23-12-2009|Business_Name_135212|         Maharashtra|                     239391|         2009|           1|  84|  Maharashtra|            6|       10|              10500000|         7|            0|                            16|                 833333|                      392186|          10500000|                  1|            2|             0|                   N|                 Y|           0|            7875000|             0|\n",
            "|    1020200007|   Bank_Name_33|  Private|        04-10-2009| Business_Name_60742|               Delhi|                     423561|         2009|           2|  60|        Delhi|            6|        2|               2310000|         5|            0|                             9|                 166667|                     2496022|           2310000|                  1|            0|             0|                   N|                 Y|           0|            1848000|             0|\n",
            "|    1020200008|   Bank_Name_33|  Private|        03-03-2006| Business_Name_99424|       Uttar Pradesh|                     443530|         2006|           1|  60|        Delhi|            6|        6|               3500000|         5|            2|                             5|                 500000|                     1525676|           3500000|                  1|            0|             0|                   N|                 N|           0|            1750000|             0|\n",
            "|    1020200009|Bank_Name_12778|     Govt|        03-08-2017|Business_Name_146709|             Haryana|                       1231|         2017|           2|  73|      Haryana|            5|        2|               4900000|         6|            0|                            10|                 166667|                     2358557|           4900000|                  1|            0|             0|                   N|                 Y|           0|            3920000|             0|\n",
            "|    1020200010|   Bank_Name_17|  Private|        20-06-2017| Business_Name_17874|         Maharashtra|                     542341|         2017|           1| 120|        Delhi|           12|       60|              42000000|        10|            0|                            10|                5000000|                     1186740|          42000000|                  1|            0|             0|                   N|                 N|           0|           31500000|             0|\n",
            "|    1020200011|Bank_Number_346|     Govt|        05-09-2010| Business_Name_17760|       Uttar Pradesh|                       1230|         2010|           1| 303|Uttar Pradesh|            8|        8|               9800000|        25|            0|                            21|               33600000|                     1547232|           9800000|                  1|            0|             0|                   N|                 N|           0|            7350000|             1|\n",
            "|    1020200012|   Bank_Name_47|  Private|        15-09-2010| Business_Name_98384|             Haryana|                     813541|         2010|           1|  82|        Delhi|           11|        4|              19600000|         7|            0|                             4|                 333333|                      349235|          19600000|                  1|            2|             0|                   N|                 N|           0|           14700000|             0|\n",
            "|    1020200013| Bank_Number_93|     Govt|        29-03-2010| Business_Name_65515|               Delhi|                       1230|         2010|           1|  24|        Delhi|           11|        5|               7910000|         2|            0|                            33|               33000000|                      267120|           7910000|                  1|            0|             0|                   N|                 N|           0|            5932500|             0|\n",
            "|    1020200014|  Bank_Name_666|  Private|        18-09-2004| Business_Name_11879|         Maharashtra|                     625641|         2004|           1| 240|  Maharashtra|            8|       14|               6930000|        20|            4|                             3|                1166667|                     1323194|           6930000|                  1|            0|             3|                   N|                 N|           0|            6930000|             0|\n",
            "|    1020200015|    Bank_Name_3|  Private|        19-05-2011|Business_Name_130563|              Kerala|                     446541|         2011|           1|  37|       Kerala|            5|        2|               1750000|         3|            1|                             4|                 166667|                      833449|           1750000|                  1|            0|             3|                   N|                 N|           0|            1487500|             1|\n",
            "|    1020200016| Bank_Number_24|  Private|        13-12-2008| Business_Name_54437|       Uttar Pradesh|                       1230|         2008|           1| 286|Uttar Pradesh|           11|        4|              18970000|        24|            0|                            32|               25600000|                      698008|          18970000|                  1|            2|             0|                   N|                 N|           0|           14227500|             0|\n",
            "|    1020200017|   Bank_Name_11|  Private|        08-08-2005|Business_Name_128762|               Delhi|                     543091|         2005|           1|  84|        Delhi|            6|       10|               4544750|         7|            5|                             9|                 833333|                     2026719|           3150000|                  0|            1|             0|                   N|                 N|           0|            1575000|             0|\n",
            "|    1020200018|Bank_Name_36870|  Private|        25-03-2005|Business_Name_170801|         Maharashtra|                     448341|         2005|           1| 120|      Haryana|            6|       44|               5495000|        10|            0|                             5|                3666667|                     1152186|           5495000|                  1|            0|             0|                   N|                 Y|           0|            4396000|             0|\n",
            "|    1020200019|  Bank_Name_344|  Private|        09-10-2005| Business_Name_57125|             Haryana|                     723341|         2005|           1|  83|      Haryana|            4|       12|               5180000|         7|            0|                            14|                1000000|                      436454|           5180000|                  1|            2|             0|                   N|                 Y|           0|            4144000|             0|\n",
            "|    1020200020|Bank_Number_238|     Govt|        28-12-2010| Business_Name_34046|              Punjab|                     563220|         2010|           2|  60|       Punjab|            3|        4|               2800000|         5|            0|                            48|               19200000|                     1608192|           2800000|                  1|            0|             0|                   N|                 Y|           0|            2240000|             0|\n",
            "+--------------+---------------+---------+------------------+--------------------+--------------------+---------------------------+-------------+------------+----+-------------+-------------+---------+----------------------+----------+-------------+------------------------------+-----------------------+----------------------------+------------------+-------------------+-------------+--------------+--------------------+------------------+------------+-------------------+--------------+\n",
            "only showing top 20 rows\n",
            "\n"
          ]
        }
      ]
    },
    {
      "cell_type": "code",
      "source": [
        "\"\"\"\n",
        "  нужно привести типы \n",
        "  - Gross_Apprv_Amount (int)\n",
        "  - Balance Left (int)\n",
        "  - Company Branch Code (int)\n",
        "\"\"\"\n",
        "\n",
        "data = data.withColumns({'Gross_Apprv_Amount': col('Gross_Apprv_Amount').cast('Int'),\n",
        "                         'Balance Left': col('Balance Left').cast('Int'),\n",
        "                         'Company Branch Code': col('Company Branch Code').cast('Int')})"
      ],
      "metadata": {
        "id": "qU_6PUbHcvGo"
      },
      "execution_count": 167,
      "outputs": []
    },
    {
      "cell_type": "code",
      "source": [
        "data.select(col('Default_Status'))\\\n",
        "    .groupBy('Default_Status')\\\n",
        "    .count()\\\n",
        "    .withColumn('count', F.round(col('count') / data.count(), 2))\\\n",
        "    .show()"
      ],
      "metadata": {
        "colab": {
          "base_uri": "https://localhost:8080/"
        },
        "id": "hYcImZnpMzvA",
        "outputId": "7d3d2ff2-6ea5-46a8-8e17-5769c8059272"
      },
      "execution_count": 168,
      "outputs": [
        {
          "output_type": "stream",
          "name": "stdout",
          "text": [
            "+--------------+-----+\n",
            "|Default_Status|count|\n",
            "+--------------+-----+\n",
            "|             1| 0.18|\n",
            "|      10500000|  0.0|\n",
            "|             0| 0.82|\n",
            "+--------------+-----+\n",
            "\n"
          ]
        }
      ]
    },
    {
      "cell_type": "code",
      "source": [
        "data.select(col('Default_Status'))\\\n",
        "    .filter(col('Default_Status')==10500000)\\\n",
        "    .count()\n",
        "# фиг знает че это за 10500000 - удалю"
      ],
      "metadata": {
        "colab": {
          "base_uri": "https://localhost:8080/"
        },
        "id": "hqhoAabvN3jI",
        "outputId": "51d9c976-9d72-4ca3-ab39-d46307498c92"
      },
      "execution_count": 169,
      "outputs": [
        {
          "output_type": "execute_result",
          "data": {
            "text/plain": [
              "1"
            ]
          },
          "metadata": {},
          "execution_count": 169
        }
      ]
    },
    {
      "cell_type": "code",
      "source": [
        "#prep\n",
        "data = data.filter(col('Default_Status')!=10500000)"
      ],
      "metadata": {
        "id": "Hm1Qpbd9PGxK"
      },
      "execution_count": 170,
      "outputs": []
    },
    {
      "cell_type": "code",
      "source": [
        "data.withColumn(\"Company Branch Code\", F.when(~F.col(\"Company Branch Code\").isin(0,1),-1)\\\n",
        "                .otherwise(F.col(\"Company Branch Code\")))\\\n",
        "    .select('Company Branch Code')\\\n",
        "    .groupBy('Company Branch Code')\\\n",
        "    .count()\\\n",
        "    .sort(col('count').desc())\\\n",
        "    .show()\n",
        "\n",
        "data.select('Company Branch Code').distinct().count()\n",
        "# в этой колонке много значений уникальных значений, c маленьким кол-вом наблюдений на каждое - заменю на общую категорию\n",
        "\n",
        "\n"
      ],
      "metadata": {
        "colab": {
          "base_uri": "https://localhost:8080/"
        },
        "id": "d0aRDL9-UwqU",
        "outputId": "904691cc-05ca-4dae-d516-1a11e15616d8"
      },
      "execution_count": 171,
      "outputs": [
        {
          "output_type": "stream",
          "name": "stdout",
          "text": [
            "+-------------------+------+\n",
            "|Company Branch Code| count|\n",
            "+-------------------+------+\n",
            "|                  1|142888|\n",
            "|                  0| 46688|\n",
            "|                 -1| 11780|\n",
            "+-------------------+------+\n",
            "\n"
          ]
        },
        {
          "output_type": "execute_result",
          "data": {
            "text/plain": [
              "1635"
            ]
          },
          "metadata": {},
          "execution_count": 171
        }
      ]
    },
    {
      "cell_type": "code",
      "source": [
        "#prep\n",
        "data = data.withColumn(\"Company Branch Code\", F.when(~F.col(\"Company Branch Code\").isin(0,1),-1)\\\n",
        "                .otherwise(F.col(\"Company Branch Code\")))"
      ],
      "metadata": {
        "id": "Wz-0ALe2cFwk"
      },
      "execution_count": 172,
      "outputs": []
    },
    {
      "cell_type": "code",
      "source": [
        "data.select(col('Approved_Year'))\\\n",
        "    .groupBy('Approved_Year')\\\n",
        "    .count()\\\n",
        "    .sort(col('Approved_Year').desc())\\\n",
        "    .show()"
      ],
      "metadata": {
        "colab": {
          "base_uri": "https://localhost:8080/"
        },
        "id": "DlIy2nEiN-ot",
        "outputId": "08de8ded-bb7e-469e-e5e4-93c1d65efbad"
      },
      "execution_count": 173,
      "outputs": [
        {
          "output_type": "stream",
          "name": "stdout",
          "text": [
            "+-------------+-----+\n",
            "|Approved_Year|count|\n",
            "+-------------+-----+\n",
            "|         2017| 2022|\n",
            "|         2016| 3142|\n",
            "|         2015| 3426|\n",
            "|         2014| 3567|\n",
            "|         2013| 5758|\n",
            "|         2012|15975|\n",
            "|         2011|34437|\n",
            "|         2010|23266|\n",
            "|         2009|19609|\n",
            "|         2008|13799|\n",
            "|         2007|11816|\n",
            "|         2006|10875|\n",
            "|         2005|13414|\n",
            "|         2004|13837|\n",
            "|         2003|11133|\n",
            "|         2002|10599|\n",
            "|         2001| 3754|\n",
            "|         2000|  489|\n",
            "|         1900|  438|\n",
            "+-------------+-----+\n",
            "\n"
          ]
        }
      ]
    },
    {
      "cell_type": "code",
      "source": [
        "data.select([F.count(F.when(F.isnan(c) | F.col(c).isNull(), c)).alias(c) for c in data.columns]).show(vertical=True)"
      ],
      "metadata": {
        "colab": {
          "base_uri": "https://localhost:8080/"
        },
        "id": "AOunhhgFPmDP",
        "outputId": "657e60d0-4ffe-4f43-eed9-b9b4e35f99b6"
      },
      "execution_count": 174,
      "outputs": [
        {
          "output_type": "stream",
          "name": "stdout",
          "text": [
            "-RECORD 0------------------------------\n",
            " Application ID                 | 0    \n",
            " Bank Masked                    | 82   \n",
            " Bank Type                      | 82   \n",
            " Approved_Timestamp             | 438  \n",
            " Name Masked                    | 1    \n",
            " Business Owner State           | 3    \n",
            " Business_Industry_Type_Code    | 0    \n",
            " Approved_Year                  | 0    \n",
            " New Business                   | 37   \n",
            " Term                           | 0    \n",
            " BankState                      | 83   \n",
            " Interest Rate                  | 0    \n",
            " Employees                      | 0    \n",
            " Gross Disbursed Amount         | 0    \n",
            " Term_years                     | 0    \n",
            " Jobs Retained                  | 0    \n",
            " Male to Female Employees Ratio | 0    \n",
            " Expected Company Income        | 3    \n",
            " Funds available with company   | 0    \n",
            " Gross_Apprv_Amount             | 0    \n",
            " Company Branch Code            | 0    \n",
            " City or Rural                  | 0    \n",
            " Jobs Generated                 | 0    \n",
            " Carry-forward Credit           | 1004 \n",
            " Documents Provided             | 567  \n",
            " Balance Left                   | 0    \n",
            " Final_Appved_Amount            | 0    \n",
            " Default_Status                 | 0    \n",
            "\n"
          ]
        }
      ]
    },
    {
      "cell_type": "code",
      "source": [
        "\"\"\"\n",
        "   Bank Masked = 'unknown'\n",
        "   Bank Type = 'unknown'\n",
        "   Approved_Timestamp = не буду использовать\n",
        "   Name Masked = дропну\n",
        "   Business Owner State = дропну\n",
        "   Expected Company Income = дропну\n",
        "   New Business = -1\n",
        "   BankState = 'unknown'\n",
        "   Carry-forward Credit = 'unknown'\n",
        "   Documents Provided = 'unknown'\n",
        "\"\"\"\n",
        "\n",
        "data = data.dropna(subset=['Name Masked', 'Business Owner State', 'New Business', 'Expected Company Income'])\\\n",
        "           .fillna({'Bank Masked': 'unknown',\n",
        "                    'Bank Type': 'unknown',\n",
        "                    'BankState': 'unknown',\n",
        "                    'Carry-forward Credit': 'unknown',\n",
        "                    'Documents Provided': 'unknown'})\n",
        "data.cache()"
      ],
      "metadata": {
        "colab": {
          "base_uri": "https://localhost:8080/"
        },
        "id": "L5m0N4d7QhX8",
        "outputId": "520aba18-87d9-4243-8e9f-138d90ddd7b6"
      },
      "execution_count": 178,
      "outputs": [
        {
          "output_type": "execute_result",
          "data": {
            "text/plain": [
              "DataFrame[Application ID: int, Bank Masked: string, Bank Type: string, Approved_Timestamp: string, Name Masked: string, Business Owner State: string, Business_Industry_Type_Code: int, Approved_Year: int, New Business: int, Term: int, BankState: string, Interest Rate: int, Employees: int, Gross Disbursed Amount: int, Term_years: int, Jobs Retained: int, Male to Female Employees Ratio: int, Expected Company Income: bigint, Funds available with company: int, Gross_Apprv_Amount: int, Company Branch Code: int, City or Rural: int, Jobs Generated: int, Carry-forward Credit: string, Documents Provided: string, Balance Left: int, Final_Appved_Amount: int, Default_Status: int]"
            ]
          },
          "metadata": {},
          "execution_count": 178
        }
      ]
    },
    {
      "cell_type": "code",
      "source": [
        "data.show(5)"
      ],
      "metadata": {
        "colab": {
          "base_uri": "https://localhost:8080/"
        },
        "id": "GLZIL4i9lsS-",
        "outputId": "d954052c-1203-4b1c-ebb8-1cbf67980834"
      },
      "execution_count": 176,
      "outputs": [
        {
          "output_type": "stream",
          "name": "stdout",
          "text": [
            "+--------------+--------------+---------+------------------+--------------------+--------------------+---------------------------+-------------+------------+----+-------------+-------------+---------+----------------------+----------+-------------+------------------------------+-----------------------+----------------------------+------------------+-------------------+-------------+--------------+--------------------+------------------+------------+-------------------+--------------+\n",
            "|Application ID|   Bank Masked|Bank Type|Approved_Timestamp|         Name Masked|Business Owner State|Business_Industry_Type_Code|Approved_Year|New Business|Term|    BankState|Interest Rate|Employees|Gross Disbursed Amount|Term_years|Jobs Retained|Male to Female Employees Ratio|Expected Company Income|Funds available with company|Gross_Apprv_Amount|Company Branch Code|City or Rural|Jobs Generated|Carry-forward Credit|Documents Provided|Balance Left|Final_Appved_Amount|Default_Status|\n",
            "+--------------+--------------+---------+------------------+--------------------+--------------------+---------------------------+-------------+------------+----+-------------+-------------+---------+----------------------+----------+-------------+------------------------------+-----------------------+----------------------------+------------------+-------------------+-------------+--------------+--------------------+------------------+------------+-------------------+--------------+\n",
            "|    1020200001| Bank_Name_316|  Private|        12-10-2005| Business_Name_10007|       Uttar Pradesh|                     525161|         2005|           1| 219|Uttar Pradesh|            3|       42|              18550000|        18|           18|                             4|                3500000|                      780590|          18550000|                 -1|            1|             3|                   N|                 N|           0|           13912500|             0|\n",
            "|    1020200002|Bank_Name_1062|     Govt|        21-11-2006|Business_Name_130906|       Uttar Pradesh|                       1231|         2006|           1|  71|Uttar Pradesh|            5|       20|               3045000|         6|           10|                            16|                1666667|                     1835637|           2450000|                  0|            1|             0|                   Y|                 N|           0|            1225000|             1|\n",
            "|    1020200003|  Bank_Name_39|  Private|        28-11-2007|Business_Name_105953|       Uttar Pradesh|                     322442|         2007|           2|  84|  Maharashtra|            8|       16|               1750000|         7|           10|                             8|                1333333|                     2373333|           1750000|                  0|            2|             2|                   Y|                 N|           0|            1487500|             0|\n",
            "|    1020200004|   Bank_Name_3|     Govt|        18-04-2009|Business_Name_103197|              Kerala|                       1231|         2009|           1| 300|        Delhi|            8|        4|              38850000|        25|            2|                             6|                 333333|                     2346786|          38850000|                  1|            1|             0|                   N|                 N|           0|           29137500|             0|\n",
            "|    1020200005| Bank_Name_126|     Govt|        23-11-2002|Business_Name_118932|               Delhi|                       1231|         2002|           2| 153|  Maharashtra|           11|        4|               2800000|        13|            0|                             8|                 333333|                     2382995|           2800000|                  1|            2|             0|                   N|                 Y|           0|            2380000|             0|\n",
            "+--------------+--------------+---------+------------------+--------------------+--------------------+---------------------------+-------------+------------+----+-------------+-------------+---------+----------------------+----------+-------------+------------------------------+-----------------------+----------------------------+------------------+-------------------+-------------+--------------+--------------------+------------------+------------+-------------------+--------------+\n",
            "only showing top 5 rows\n",
            "\n"
          ]
        }
      ]
    },
    {
      "cell_type": "markdown",
      "source": [
        "## Pipeline"
      ],
      "metadata": {
        "id": "JvwJ1FBHlSWU"
      }
    },
    {
      "cell_type": "code",
      "source": [
        "#string в индесы\n",
        "bankstate_indexer = StringIndexer(inputCol=\"BankState\", outputCol=\"BankStateIndex\")\n",
        "doc_prov_indexer = StringIndexer(inputCol=\"Documents Provided\", outputCol=\"DocumentsProvidedIndex\")\n",
        "car_cred_indexer = StringIndexer(inputCol=\"Carry-forward Credit\", outputCol=\"CarryforwardCreditIndex\")\n",
        "\n",
        "#OHE\n",
        "ohe_encoder = OneHotEncoder(inputCols=[\"BankStateIndex\", \"DocumentsProvidedIndex\", \"CarryforwardCreditIndex\", \"New Business\"],\n",
        "                        outputCols=[\"BankStateVector\", \"DocumentsProvidedVec\", \"CarryforwardCreditVec\", \"NewBusinessVec\"])\n",
        "\n",
        "#квантизация\n",
        "discretizer = QuantileDiscretizer(numBuckets=5, inputCol=\"Employees\", outputCol=\"Employees_quant\")\n",
        "\n",
        "#собираем все в вектор\n",
        "feature_columns = [\n",
        "                   'NewBusinessVec',\n",
        "                   'Term',\n",
        "                   'Term_years',\n",
        "                   'BankStateVector', \n",
        "                   'Interest Rate',\n",
        "                   'Employees_quant',\n",
        "                   'Gross Disbursed Amount',\n",
        "                   'Jobs Retained',\n",
        "                   'Male to Female Employees Ratio',\n",
        "                   'Expected Company Income',\n",
        "                   'Funds available with company',\n",
        "                   'Gross_Apprv_Amount',\n",
        "                   'Balance Left',\n",
        "                   'Final_Appved_Amount',\n",
        "                   'DocumentsProvidedVec', \n",
        "                   'CarryforwardCreditVec' \n",
        "\n",
        "]\n",
        "vector_assembler = VectorAssembler(inputCols = feature_columns, outputCol = 'features')\n",
        "\n",
        "lr = LogisticRegression(featuresCol='features', labelCol='Default_Status', predictionCol='prediction',\n",
        "                        maxIter=100, probabilityCol='proba')"
      ],
      "metadata": {
        "id": "DB3IDXBYj-4o"
      },
      "execution_count": 156,
      "outputs": []
    },
    {
      "cell_type": "code",
      "source": [
        "pipeline = Pipeline(stages=[\n",
        "                           bankstate_indexer,\n",
        "                           doc_prov_indexer,\n",
        "                           car_cred_indexer,\n",
        "                           ohe_encoder,\n",
        "                           discretizer,\n",
        "                           vector_assembler,\n",
        "                           lr\n",
        "])"
      ],
      "metadata": {
        "id": "G5SkIcXDouEF"
      },
      "execution_count": 180,
      "outputs": []
    },
    {
      "cell_type": "code",
      "source": [
        "paramGrid = ParamGridBuilder() \\\n",
        "    .addGrid(discretizer.numBuckets, [5, 10]) \\\n",
        "    .addGrid(lr.maxIter, [10, 20]) \\\n",
        "    .build()"
      ],
      "metadata": {
        "id": "14r--N0UpApk"
      },
      "execution_count": 182,
      "outputs": []
    },
    {
      "cell_type": "code",
      "source": [
        "train, test = data.randomSplit([0.7, 0.3], seed=7)"
      ],
      "metadata": {
        "id": "4w2env85pIk1"
      },
      "execution_count": 183,
      "outputs": []
    },
    {
      "cell_type": "code",
      "source": [
        "crossval = CrossValidator(estimator=pipeline,\n",
        "                          estimatorParamMaps=paramGrid,\n",
        "                          evaluator=BinaryClassificationEvaluator(rawPredictionCol='rawPrediction',\n",
        "                                                                  labelCol='Default_Status', metricName='areaUnderROC'),\n",
        "                          numFolds=2,\n",
        "                          parallelism=2)"
      ],
      "metadata": {
        "id": "VKk0tuFWweMX"
      },
      "execution_count": 187,
      "outputs": []
    },
    {
      "cell_type": "code",
      "source": [
        "cvModel = crossval.fit(train)"
      ],
      "metadata": {
        "id": "lAJ7SRDzpThy"
      },
      "execution_count": 188,
      "outputs": []
    },
    {
      "cell_type": "markdown",
      "source": [
        "### Test"
      ],
      "metadata": {
        "id": "jU4l_1sLxWo0"
      }
    },
    {
      "cell_type": "code",
      "source": [
        "test_pred = cvModel.transform(test)"
      ],
      "metadata": {
        "id": "0ugheItlpUc3"
      },
      "execution_count": 189,
      "outputs": []
    },
    {
      "cell_type": "code",
      "source": [
        "test_pred.show()"
      ],
      "metadata": {
        "colab": {
          "base_uri": "https://localhost:8080/"
        },
        "id": "CgRnXkljxWE0",
        "outputId": "5a6e9802-8d0e-4a4c-a1d4-9232930dd806"
      },
      "execution_count": 190,
      "outputs": [
        {
          "output_type": "stream",
          "name": "stdout",
          "text": [
            "+--------------+---------------+---------+------------------+--------------------+--------------------+---------------------------+-------------+------------+----+-------------+-------------+---------+----------------------+----------+-------------+------------------------------+-----------------------+----------------------------+------------------+-------------------+-------------+--------------+--------------------+------------------+------------+-------------------+--------------+--------------+----------------------+-----------------------+---------------+--------------------+---------------------+--------------+---------------+--------------------+--------------------+--------------------+----------+\n",
            "|Application ID|    Bank Masked|Bank Type|Approved_Timestamp|         Name Masked|Business Owner State|Business_Industry_Type_Code|Approved_Year|New Business|Term|    BankState|Interest Rate|Employees|Gross Disbursed Amount|Term_years|Jobs Retained|Male to Female Employees Ratio|Expected Company Income|Funds available with company|Gross_Apprv_Amount|Company Branch Code|City or Rural|Jobs Generated|Carry-forward Credit|Documents Provided|Balance Left|Final_Appved_Amount|Default_Status|BankStateIndex|DocumentsProvidedIndex|CarryforwardCreditIndex|BankStateVector|DocumentsProvidedVec|CarryforwardCreditVec|NewBusinessVec|Employees_quant|            features|       rawPrediction|               proba|prediction|\n",
            "+--------------+---------------+---------+------------------+--------------------+--------------------+---------------------------+-------------+------------+----+-------------+-------------+---------+----------------------+----------+-------------+------------------------------+-----------------------+----------------------------+------------------+-------------------+-------------+--------------+--------------------+------------------+------------+-------------------+--------------+--------------+----------------------+-----------------------+---------------+--------------------+---------------------+--------------+---------------+--------------------+--------------------+--------------------+----------+\n",
            "|    1020200003|   Bank_Name_39|  Private|        28-11-2007|Business_Name_105953|       Uttar Pradesh|                     322442|         2007|           2|  84|  Maharashtra|            8|       16|               1750000|         7|           10|                             8|                1333333|                     2373333|           1750000|                  0|            2|             2|                   Y|                 N|           0|            1487500|             0|           1.0|                   0.0|                    1.0| (12,[1],[1.0])|       (2,[0],[1.0])|        (2,[1],[1.0])|     (2,[],[])|            3.0|(30,[2,3,5,16,17,...|[1.48496613788970...|[0.81532151496026...|       0.0|\n",
            "|    1020200006| Bank_Name_1281|  Private|        23-12-2009|Business_Name_135212|         Maharashtra|                     239391|         2009|           1|  84|  Maharashtra|            6|       10|              10500000|         7|            0|                            16|                 833333|                      392186|          10500000|                  1|            2|             0|                   N|                 Y|           0|            7875000|             0|           1.0|                   1.0|                    0.0| (12,[1],[1.0])|       (2,[1],[1.0])|        (2,[0],[1.0])| (2,[1],[1.0])|            3.0|(30,[1,2,3,5,16,1...|[2.06743090154323...|[0.88769710054244...|       0.0|\n",
            "|    1020200008|   Bank_Name_33|  Private|        03-03-2006| Business_Name_99424|       Uttar Pradesh|                     443530|         2006|           1|  60|        Delhi|            6|        6|               3500000|         5|            2|                             5|                 500000|                     1525676|           3500000|                  1|            0|             0|                   N|                 N|           0|            1750000|             0|           0.0|                   0.0|                    0.0| (12,[0],[1.0])|       (2,[0],[1.0])|        (2,[0],[1.0])| (2,[1],[1.0])|            2.0|(30,[1,2,3,4,16,1...|[1.13931587776146...|[0.75755401119595...|       0.0|\n",
            "|    1020200010|   Bank_Name_17|  Private|        20-06-2017| Business_Name_17874|         Maharashtra|                     542341|         2017|           1| 120|        Delhi|           12|       60|              42000000|        10|            0|                            10|                5000000|                     1186740|          42000000|                  1|            0|             0|                   N|                 N|           0|           31500000|             0|           0.0|                   0.0|                    0.0| (12,[0],[1.0])|       (2,[0],[1.0])|        (2,[0],[1.0])| (2,[1],[1.0])|            4.0|(30,[1,2,3,4,16,1...|[1.73897156959045...|[0.85055638857868...|       0.0|\n",
            "|    1020200011|Bank_Number_346|     Govt|        05-09-2010| Business_Name_17760|       Uttar Pradesh|                       1230|         2010|           1| 303|Uttar Pradesh|            8|        8|               9800000|        25|            0|                            21|               33600000|                     1547232|           9800000|                  1|            0|             0|                   N|                 N|           0|            7350000|             1|           3.0|                   0.0|                    0.0| (12,[3],[1.0])|       (2,[0],[1.0])|        (2,[0],[1.0])| (2,[1],[1.0])|            2.0|(30,[1,2,3,7,16,1...|[3.69804030476401...|[0.97582679468303...|       0.0|\n",
            "|    1020200013| Bank_Number_93|     Govt|        29-03-2010| Business_Name_65515|               Delhi|                       1230|         2010|           1|  24|        Delhi|           11|        5|               7910000|         2|            0|                            33|               33000000|                      267120|           7910000|                  1|            0|             0|                   N|                 N|           0|            5932500|             0|           0.0|                   0.0|                    0.0| (12,[0],[1.0])|       (2,[0],[1.0])|        (2,[0],[1.0])| (2,[1],[1.0])|            2.0|(30,[1,2,3,4,16,1...|[0.70326417498758...|[0.66891108404725...|       0.0|\n",
            "|    1020200015|    Bank_Name_3|  Private|        19-05-2011|Business_Name_130563|              Kerala|                     446541|         2011|           1|  37|       Kerala|            5|        2|               1750000|         3|            1|                             4|                 166667|                      833449|           1750000|                  1|            0|             3|                   N|                 N|           0|            1487500|             1|           9.0|                   0.0|                    0.0| (12,[9],[1.0])|       (2,[0],[1.0])|        (2,[0],[1.0])| (2,[1],[1.0])|            1.0|(30,[1,2,3,13,16,...|[0.87609475122008...|[0.70601230446481...|       0.0|\n",
            "|    1020200017|   Bank_Name_11|  Private|        08-08-2005|Business_Name_128762|               Delhi|                     543091|         2005|           1|  84|        Delhi|            6|       10|               4544750|         7|            5|                             9|                 833333|                     2026719|           3150000|                  0|            1|             0|                   N|                 N|           0|            1575000|             0|           0.0|                   0.0|                    0.0| (12,[0],[1.0])|       (2,[0],[1.0])|        (2,[0],[1.0])| (2,[1],[1.0])|            3.0|(30,[1,2,3,4,16,1...|[1.49452027904958...|[0.81675577258017...|       0.0|\n",
            "|    1020200019|  Bank_Name_344|  Private|        09-10-2005| Business_Name_57125|             Haryana|                     723341|         2005|           1|  83|      Haryana|            4|       12|               5180000|         7|            0|                            14|                1000000|                      436454|           5180000|                  1|            2|             0|                   N|                 Y|           0|            4144000|             0|           2.0|                   1.0|                    0.0| (12,[2],[1.0])|       (2,[1],[1.0])|        (2,[0],[1.0])| (2,[1],[1.0])|            3.0|(30,[1,2,3,6,16,1...|[2.08572501381946...|[0.88950796393821...|       0.0|\n",
            "|    1020200022| Bank_Number_23|  Private|        31-08-2009| Business_Name_73038|               Delhi|                       1230|         2009|           1|   5|  Maharashtra|           11|        4|               1400000|         0|            4|                            13|               10400000|                      629849|           1400000|                 -1|            1|             0|                   Y|                 N|           0|             700000|             0|           1.0|                   0.0|                    1.0| (12,[1],[1.0])|       (2,[0],[1.0])|        (2,[1],[1.0])| (2,[1],[1.0])|            1.0|(30,[1,2,5,16,17,...|[0.45943247369848...|[0.61287953449355...|       0.0|\n",
            "|    1020200023|   Bank_Name_72|     Govt|        10-03-2002|Business_Name_115940|         Maharashtra|                       1231|         2002|           1|  36|  Maharashtra|           12|        4|               3442250|         3|            2|                            12|                 333333|                     1709646|           1750000|                  1|            2|             3|                   Y|                 N|           0|             875000|             0|           1.0|                   0.0|                    1.0| (12,[1],[1.0])|       (2,[0],[1.0])|        (2,[1],[1.0])| (2,[1],[1.0])|            1.0|(30,[1,2,3,5,16,1...|[0.81113938549746...|[0.69235224728525...|       0.0|\n",
            "|    1020200024| Bank_Name_2444|     Govt|        31-08-2008|Business_Name_136375|             Haryana|                       1231|         2008|           1|  84|      Haryana|            5|        6|               2450000|         7|            3|                            20|                 500000|                     1711441|           2450000|                  1|            2|             0|                   N|                 N|           0|            1225000|             0|           2.0|                   0.0|                    0.0| (12,[2],[1.0])|       (2,[0],[1.0])|        (2,[0],[1.0])| (2,[1],[1.0])|            2.0|(30,[1,2,3,6,16,1...|[1.37109718884293...|[0.79755736309475...|       0.0|\n",
            "|    1020200025|   Bank_Name_14|     Govt|        10-11-2012|Business_Name_108729|         Maharashtra|                       1231|         2012|           2|  30|  Maharashtra|           11|        4|               1922130|         3|            2|                             5|                 333333|                      791990|           1050000|                  0|            2|             0|                   Y|                 N|           0|             525000|             1|           1.0|                   0.0|                    1.0| (12,[1],[1.0])|       (2,[0],[1.0])|        (2,[1],[1.0])|     (2,[],[])|            1.0|(30,[2,3,5,16,17,...|[0.75778234951004...|[0.68087206434546...|       0.0|\n",
            "|    1020200029|Bank_Number_119|     Govt|        29-05-2011|  Business_Name_3546|               Delhi|                     485450|         2011|           1| 120|        Delhi|            9|        3|               8085000|        10|            3|                            33|               19800000|                     1012034|           8085000|                  1|            1|             3|                   N|                 N|           0|            6872250|             0|           0.0|                   0.0|                    0.0| (12,[0],[1.0])|       (2,[0],[1.0])|        (2,[0],[1.0])| (2,[1],[1.0])|            1.0|(30,[1,2,3,4,16,1...|[1.62701342556172...|[0.83576009714849...|       0.0|\n",
            "|    1020200030| Bank_Number_37|     Govt|        14-08-2011| Business_Name_80193|             Haryana|                     723340|         2011|           1| 209|        Delhi|            2|        3|              42000000|        17|            0|                            44|               26400000|                      478435|          42000000|                  1|            2|             0|                   N|                 N|           0|           31500000|             0|           0.0|                   0.0|                    0.0| (12,[0],[1.0])|       (2,[0],[1.0])|        (2,[0],[1.0])| (2,[1],[1.0])|            1.0|(30,[1,2,3,4,16,1...|[2.37323120444355...|[0.91476314042519...|       0.0|\n",
            "|    1020200035|Bank_Name_41129|  Private|        12-02-2002|Business_Name_175060|         Maharashtra|                     313151|         2002|           1| 240|  Maharashtra|            5|      106|              43120000|        20|            0|                            14|                8833333|                     1458371|          43120000|                  1|            1|             2|                   N|                 N|           0|           43120000|             0|           1.0|                   0.0|                    0.0| (12,[1],[1.0])|       (2,[0],[1.0])|        (2,[0],[1.0])| (2,[1],[1.0])|            4.0|(30,[1,2,3,5,16,1...|[3.00305649080768...|[0.95271201801694...|       0.0|\n",
            "|    1020200036|   Bank_Name_17|  Private|        04-02-2009|Business_Name_127272|               Delhi|                     447430|         2009|           1|  84|        Delhi|            3|       14|               3500000|         7|            0|                             9|                1166667|                      323861|           3500000|                  1|            0|             0|                   N|                 Y|           0|            3150000|             0|           0.0|                   1.0|                    0.0| (12,[0],[1.0])|       (2,[1],[1.0])|        (2,[0],[1.0])| (2,[1],[1.0])|            3.0|(30,[1,2,3,4,16,1...|[2.12728234953977...|[0.89352673637978...|       0.0|\n",
            "|    1020200038|Bank_Number_156|     Govt|        22-04-2010| Business_Name_77816|         Maharashtra|                       1230|         2010|           1|  84|  Maharashtra|            4|        3|               5250000|         7|            0|                            31|               18600000|                     1538879|           5250000|                  1|            0|             0|                   N|                 N|           0|            4725000|             0|           1.0|                   0.0|                    0.0| (12,[1],[1.0])|       (2,[0],[1.0])|        (2,[0],[1.0])| (2,[1],[1.0])|            1.0|(30,[1,2,3,5,16,1...|[1.26190442608305...|[0.77935376991095...|       0.0|\n",
            "|    1020200044| Bank_Name_5729|  Private|        16-04-2002|Business_Name_139660|               Delhi|                     423061|         2002|           1|  60|        Delhi|            4|        2|               3080000|         5|            0|                            17|                 166667|                     1864439|           3080000|                  1|            0|             0|                   N|                 N|           0|            2772000|             1|           0.0|                   0.0|                    0.0| (12,[0],[1.0])|       (2,[0],[1.0])|        (2,[0],[1.0])| (2,[1],[1.0])|            1.0|(30,[1,2,3,4,16,1...|[1.03610570143427...|[0.73809789992545...|       0.0|\n",
            "|    1020200046|Bank_Number_152|  Private|        18-09-2010| Business_Name_72727|         Maharashtra|                       1230|         2010|           2|  60|      Haryana|            5|        3|               1120000|         5|            0|                            22|                6600000|                      854665|           1120000|                  1|            0|             0|                   N|                 Y|           0|             896000|             1|           2.0|                   1.0|                    0.0| (12,[2],[1.0])|       (2,[1],[1.0])|        (2,[0],[1.0])|     (2,[],[])|            1.0|(30,[2,3,6,16,17,...|[1.62100976007180...|[0.83493434098967...|       0.0|\n",
            "+--------------+---------------+---------+------------------+--------------------+--------------------+---------------------------+-------------+------------+----+-------------+-------------+---------+----------------------+----------+-------------+------------------------------+-----------------------+----------------------------+------------------+-------------------+-------------+--------------+--------------------+------------------+------------+-------------------+--------------+--------------+----------------------+-----------------------+---------------+--------------------+---------------------+--------------+---------------+--------------------+--------------------+--------------------+----------+\n",
            "only showing top 20 rows\n",
            "\n"
          ]
        }
      ]
    },
    {
      "cell_type": "code",
      "source": [
        "evaluator = BinaryClassificationEvaluator(rawPredictionCol='rawPrediction',\n",
        "                                          labelCol='Default_Status', metricName='areaUnderROC')"
      ],
      "metadata": {
        "id": "rgZU3bRbxZn_"
      },
      "execution_count": 193,
      "outputs": []
    },
    {
      "cell_type": "code",
      "source": [
        "evaluator.evaluate(test_pred)"
      ],
      "metadata": {
        "colab": {
          "base_uri": "https://localhost:8080/"
        },
        "id": "gbMs_07gxqNo",
        "outputId": "b33b6673-f1fa-4ca0-e03e-5c118f22ea5d"
      },
      "execution_count": 194,
      "outputs": [
        {
          "output_type": "execute_result",
          "data": {
            "text/plain": [
              "0.7042825580214932"
            ]
          },
          "metadata": {},
          "execution_count": 194
        }
      ]
    },
    {
      "cell_type": "markdown",
      "source": [
        "### На диск"
      ],
      "metadata": {
        "id": "L0BZYs5QxtxI"
      }
    },
    {
      "cell_type": "code",
      "source": [
        "cvModel.write().save('model_defolt')"
      ],
      "metadata": {
        "id": "fhagTtvVxrl_"
      },
      "execution_count": 196,
      "outputs": []
    }
  ],
  "metadata": {
    "colab": {
      "provenance": []
    },
    "kernelspec": {
      "display_name": "Python 3",
      "language": "python",
      "name": "python3"
    },
    "language_info": {
      "codemirror_mode": {
        "name": "ipython",
        "version": 3
      },
      "file_extension": ".py",
      "mimetype": "text/x-python",
      "name": "python",
      "nbconvert_exporter": "python",
      "pygments_lexer": "ipython3",
      "version": "3.8.8"
    }
  },
  "nbformat": 4,
  "nbformat_minor": 0
}