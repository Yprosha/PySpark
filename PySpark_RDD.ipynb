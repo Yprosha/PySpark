{
  "cells": [
    {
      "cell_type": "code",
      "execution_count": 1,
      "metadata": {
        "id": "YQvwElqGWoF1",
        "colab": {
          "base_uri": "https://localhost:8080/"
        },
        "outputId": "1ab3fd68-e239-43b8-9618-37d128ad301c"
      },
      "outputs": [
        {
          "output_type": "stream",
          "name": "stdout",
          "text": [
            "Looking in indexes: https://pypi.org/simple, https://us-python.pkg.dev/colab-wheels/public/simple/\n",
            "Requirement already satisfied: pyspark in /usr/local/lib/python3.8/dist-packages (3.3.2)\n",
            "Requirement already satisfied: findspark in /usr/local/lib/python3.8/dist-packages (2.0.1)\n",
            "Requirement already satisfied: nltk in /usr/local/lib/python3.8/dist-packages (3.7)\n",
            "Requirement already satisfied: py4j==0.10.9.5 in /usr/local/lib/python3.8/dist-packages (from pyspark) (0.10.9.5)\n",
            "Requirement already satisfied: joblib in /usr/local/lib/python3.8/dist-packages (from nltk) (1.2.0)\n",
            "Requirement already satisfied: tqdm in /usr/local/lib/python3.8/dist-packages (from nltk) (4.64.1)\n",
            "Requirement already satisfied: regex>=2021.8.3 in /usr/local/lib/python3.8/dist-packages (from nltk) (2022.6.2)\n",
            "Requirement already satisfied: click in /usr/local/lib/python3.8/dist-packages (from nltk) (8.1.3)\n"
          ]
        }
      ],
      "source": [
        "!pip install pyspark findspark nltk"
      ]
    },
    {
      "cell_type": "code",
      "execution_count": 2,
      "metadata": {
        "id": "vQJQt0g6e_Cj",
        "colab": {
          "base_uri": "https://localhost:8080/"
        },
        "outputId": "b35e11dd-0b64-424d-c38d-3fac6912b4ee"
      },
      "outputs": [
        {
          "output_type": "stream",
          "name": "stderr",
          "text": [
            "[nltk_data] Downloading package punkt to /root/nltk_data...\n",
            "[nltk_data]   Package punkt is already up-to-date!\n",
            "[nltk_data] Downloading package stopwords to /root/nltk_data...\n",
            "[nltk_data]   Package stopwords is already up-to-date!\n"
          ]
        }
      ],
      "source": [
        "import nltk\n",
        "nltk.download('punkt')\n",
        "nltk.download('stopwords')\n",
        "from nltk.corpus import stopwords\n",
        "import re \n",
        "import string"
      ]
    },
    {
      "cell_type": "code",
      "execution_count": 3,
      "metadata": {
        "id": "hvkEEKu5e-Th"
      },
      "outputs": [],
      "source": [
        "from pyspark.sql import SparkSession\n",
        "from pyspark import SparkContext, SparkConf\n",
        "\n",
        "conf = SparkConf().set('spark.ui.port', '4050').set('spark.serializer', 'org.apache.spark.serializer.KryoSerializer')\\\n",
        "                  .set('spark.dynamicAllocation.enabled', 'true')\\\n",
        "                  .set('spark.shuffle.service.enabled', 'true') #трекер, чтобы возвращать ресурсы\n",
        "sc = SparkContext(conf=conf)\n",
        "spark = SparkSession.builder.master('local[*]').getOrCreate()"
      ]
    },
    {
      "cell_type": "markdown",
      "metadata": {
        "id": "ysb-yADyseDE"
      },
      "source": [
        "Как проще всего создать RDD? Вызвать метод и передать ему нужный объект"
      ]
    },
    {
      "cell_type": "code",
      "execution_count": 4,
      "metadata": {
        "id": "459H4QvujHKR"
      },
      "outputs": [],
      "source": [
        "first_rdd  = sc.parallelize(range(1000000))"
      ]
    },
    {
      "cell_type": "code",
      "execution_count": 5,
      "metadata": {
        "id": "CRhiwucq51Sl",
        "colab": {
          "base_uri": "https://localhost:8080/"
        },
        "outputId": "99ec2afd-a25c-42e5-dc1a-21b4357e5c8d"
      },
      "outputs": [
        {
          "output_type": "execute_result",
          "data": {
            "text/plain": [
              "2"
            ]
          },
          "metadata": {},
          "execution_count": 5
        }
      ],
      "source": [
        "first_rdd.getNumPartitions()"
      ]
    },
    {
      "cell_type": "markdown",
      "metadata": {
        "id": "cmi41EwXy1gI"
      },
      "source": [
        "А можно ли менять количество партиций? Да, для этого есть два метода: repartition() и coalesce(). Первый используется для увеличения и уменьшения количества партиций, второй только для снижения, прчем coalesce будет работать эффективнее. Много партиций - дольше будет считаться, но если данных много, то обязательно нужно"
      ]
    },
    {
      "cell_type": "markdown",
      "metadata": {
        "id": "ajdioFzEsgZB"
      },
      "source": [
        "repartition()` всегда приводит к равномерному перераспределению данных, что ведет к shuffle. Если Вы уменьшаете число партиций, то стоит использовать `coalesce()`, который может избежать shuffle"
      ]
    },
    {
      "cell_type": "code",
      "execution_count": 6,
      "metadata": {
        "id": "rTL0MygY593s",
        "colab": {
          "base_uri": "https://localhost:8080/"
        },
        "outputId": "e8f960e4-d917-4a10-edfb-3bbf709a2dc7"
      },
      "outputs": [
        {
          "output_type": "stream",
          "name": "stdout",
          "text": [
            "5\n"
          ]
        }
      ],
      "source": [
        "first_rdd = first_rdd.repartition(5)\n",
        "print(first_rdd.getNumPartitions())"
      ]
    },
    {
      "cell_type": "code",
      "execution_count": 7,
      "metadata": {
        "id": "S72uRYdGtz6i",
        "colab": {
          "base_uri": "https://localhost:8080/"
        },
        "outputId": "d6d803ba-9a73-494c-82a5-2109fa51f384"
      },
      "outputs": [
        {
          "output_type": "stream",
          "name": "stdout",
          "text": [
            "2\n"
          ]
        }
      ],
      "source": [
        "first_rdd = first_rdd.repartition(2)\n",
        "print(first_rdd.getNumPartitions())"
      ]
    },
    {
      "cell_type": "code",
      "execution_count": 8,
      "metadata": {
        "id": "6k45ZdHFt1uU",
        "colab": {
          "base_uri": "https://localhost:8080/"
        },
        "outputId": "96755b4d-d05d-46fa-c5d1-c38db3e400dd"
      },
      "outputs": [
        {
          "output_type": "stream",
          "name": "stdout",
          "text": [
            "1\n"
          ]
        }
      ],
      "source": [
        "first_rdd = first_rdd.coalesce(1)\n",
        "print(first_rdd.getNumPartitions())"
      ]
    },
    {
      "cell_type": "code",
      "execution_count": 9,
      "metadata": {
        "id": "VOjksB0guT4k",
        "colab": {
          "base_uri": "https://localhost:8080/"
        },
        "outputId": "9c168164-5b04-45e2-be72-a76816dacbab"
      },
      "outputs": [
        {
          "output_type": "stream",
          "name": "stdout",
          "text": [
            "CPU times: user 64.2 ms, sys: 15.1 ms, total: 79.3 ms\n",
            "Wall time: 7.09 s\n"
          ]
        }
      ],
      "source": [
        "a = %time first_rdd.sum()"
      ]
    },
    {
      "cell_type": "markdown",
      "metadata": {
        "id": "i63A8-0uuDJ2"
      },
      "source": [
        "Посмотрим на время выполнения для разного числа партиций"
      ]
    },
    {
      "cell_type": "code",
      "execution_count": 10,
      "metadata": {
        "id": "Os4QBpNTuBvk",
        "colab": {
          "base_uri": "https://localhost:8080/"
        },
        "outputId": "d4a2ad2b-d769-4dd9-c351-169cb26a4059"
      },
      "outputs": [
        {
          "output_type": "stream",
          "name": "stdout",
          "text": [
            "6.01 s ± 0 ns per loop (mean ± std. dev. of 1 run, 1 loop each)\n",
            "2.12 s ± 0 ns per loop (mean ± std. dev. of 1 run, 1 loop each)\n",
            "3.94 s ± 0 ns per loop (mean ± std. dev. of 1 run, 1 loop each)\n",
            "2.44 s ± 0 ns per loop (mean ± std. dev. of 1 run, 1 loop each)\n",
            "2.59 s ± 0 ns per loop (mean ± std. dev. of 1 run, 1 loop each)\n",
            "3.04 s ± 0 ns per loop (mean ± std. dev. of 1 run, 1 loop each)\n",
            "4.18 s ± 0 ns per loop (mean ± std. dev. of 1 run, 1 loop each)\n",
            "3.23 s ± 0 ns per loop (mean ± std. dev. of 1 run, 1 loop each)\n",
            "2.78 s ± 0 ns per loop (mean ± std. dev. of 1 run, 1 loop each)\n",
            "2.55 s ± 0 ns per loop (mean ± std. dev. of 1 run, 1 loop each)\n",
            "2.55 s ± 0 ns per loop (mean ± std. dev. of 1 run, 1 loop each)\n",
            "4.03 s ± 0 ns per loop (mean ± std. dev. of 1 run, 1 loop each)\n",
            "2.49 s ± 0 ns per loop (mean ± std. dev. of 1 run, 1 loop each)\n",
            "2.53 s ± 0 ns per loop (mean ± std. dev. of 1 run, 1 loop each)\n",
            "2.77 s ± 0 ns per loop (mean ± std. dev. of 1 run, 1 loop each)\n",
            "3.08 s ± 0 ns per loop (mean ± std. dev. of 1 run, 1 loop each)\n",
            "3.98 s ± 0 ns per loop (mean ± std. dev. of 1 run, 1 loop each)\n",
            "2.9 s ± 0 ns per loop (mean ± std. dev. of 1 run, 1 loop each)\n",
            "2.63 s ± 0 ns per loop (mean ± std. dev. of 1 run, 1 loop each)\n",
            "2.71 s ± 0 ns per loop (mean ± std. dev. of 1 run, 1 loop each)\n",
            "4.56 s ± 0 ns per loop (mean ± std. dev. of 1 run, 1 loop each)\n",
            "2.81 s ± 0 ns per loop (mean ± std. dev. of 1 run, 1 loop each)\n",
            "3.2 s ± 0 ns per loop (mean ± std. dev. of 1 run, 1 loop each)\n",
            "2.92 s ± 0 ns per loop (mean ± std. dev. of 1 run, 1 loop each)\n",
            "4.96 s ± 0 ns per loop (mean ± std. dev. of 1 run, 1 loop each)\n",
            "3.18 s ± 0 ns per loop (mean ± std. dev. of 1 run, 1 loop each)\n",
            "3.43 s ± 0 ns per loop (mean ± std. dev. of 1 run, 1 loop each)\n",
            "3.14 s ± 0 ns per loop (mean ± std. dev. of 1 run, 1 loop each)\n",
            "6.83 s ± 0 ns per loop (mean ± std. dev. of 1 run, 1 loop each)\n"
          ]
        }
      ],
      "source": [
        "result = []\n",
        "first_rdd  = sc.parallelize(range(5000000))\n",
        "for partition in range(1, 30):\n",
        "    first_rdd = first_rdd.repartition(partition)\n",
        "    time = %timeit -o  -n 1 -r 1 first_rdd.sum()\n",
        "    time = time.best\n",
        "    result.append((partition, time))"
      ]
    },
    {
      "cell_type": "code",
      "execution_count": 11,
      "metadata": {
        "id": "tICS1hZBxAYT"
      },
      "outputs": [],
      "source": [
        "import matplotlib.pyplot as plt\n",
        "import os\n",
        "%matplotlib inline"
      ]
    },
    {
      "cell_type": "code",
      "execution_count": 12,
      "metadata": {
        "id": "aMfCB5CLxFWP",
        "colab": {
          "base_uri": "https://localhost:8080/",
          "height": 285
        },
        "outputId": "94d0cb39-d971-48a2-aede-68192f7c35e4"
      },
      "outputs": [
        {
          "output_type": "execute_result",
          "data": {
            "text/plain": [
              "[<matplotlib.lines.Line2D at 0x7fcf4118a580>]"
            ]
          },
          "metadata": {},
          "execution_count": 12
        },
        {
          "output_type": "display_data",
          "data": {
            "text/plain": [
              "<Figure size 432x288 with 1 Axes>"
            ],
            "image/png": "[encoded data removed]"
          },
          "metadata": {
            "needs_background": "light"
          }
        }
      ],
      "source": [
        "plt.plot([res[1] for res in result])"
      ]
    },
    {
      "cell_type": "markdown",
      "metadata": {
        "id": "KKB8WZZ3z1if"
      },
      "source": [
        "А почему лучший результат при небольшом количестве партиций?"
      ]
    },
    {
      "cell_type": "code",
      "execution_count": 13,
      "metadata": {
        "id": "kuiJd2Oqz0yY",
        "colab": {
          "base_uri": "https://localhost:8080/"
        },
        "outputId": "b0a5fde7-9254-4794-b0bd-0253bd56d9bc"
      },
      "outputs": [
        {
          "output_type": "execute_result",
          "data": {
            "text/plain": [
              "2"
            ]
          },
          "metadata": {},
          "execution_count": 13
        }
      ],
      "source": [
        "import multiprocessing\n",
        "\n",
        "multiprocessing.cpu_count()"
      ]
    },
    {
      "cell_type": "markdown",
      "metadata": {
        "id": "2s8tP7e-y_ib"
      },
      "source": [
        "Из list также можно создавать RDD"
      ]
    },
    {
      "cell_type": "code",
      "execution_count": 14,
      "metadata": {
        "id": "Xo5auCMsy7aH"
      },
      "outputs": [],
      "source": [
        "bad_list = [1, 2, 3, 'a', 10, 'b']"
      ]
    },
    {
      "cell_type": "code",
      "execution_count": 15,
      "metadata": {
        "id": "VCpu1vIWzHYT"
      },
      "outputs": [],
      "source": [
        "bad_list_rdd = sc.parallelize(bad_list)"
      ]
    },
    {
      "cell_type": "code",
      "execution_count": 16,
      "metadata": {
        "id": "gFHIC38GzbAT",
        "colab": {
          "base_uri": "https://localhost:8080/"
        },
        "outputId": "8d9ac857-10f2-4682-b775-d0db440cff53"
      },
      "outputs": [
        {
          "output_type": "execute_result",
          "data": {
            "text/plain": [
              "[1, 2, 3, 'a', 10, 'b']"
            ]
          },
          "metadata": {},
          "execution_count": 16
        }
      ],
      "source": [
        "bad_list_rdd.collect()"
      ]
    },
    {
      "cell_type": "markdown",
      "metadata": {
        "id": "6gQxsxLd0UTH"
      },
      "source": [
        "Еще можно создать RDD через textFile и wholeTextFiles"
      ]
    },
    {
      "cell_type": "code",
      "execution_count": 17,
      "metadata": {
        "id": "0l5oE92a1q2z"
      },
      "outputs": [],
      "source": [
        "text_rdd = sc.textFile('spark_text.txt')"
      ]
    },
    {
      "cell_type": "code",
      "execution_count": 18,
      "metadata": {
        "id": "2FKzdhuh10Z2",
        "colab": {
          "base_uri": "https://localhost:8080/"
        },
        "outputId": "862fc556-521b-4000-d35e-d0078ed53c1a"
      },
      "outputs": [
        {
          "output_type": "execute_result",
          "data": {
            "text/plain": [
              "['Apache Spark is an open-source unified analytics engine for large-scale data processing. Spark provides an interface for programming entire clusters with implicit data parallelism and fault tolerance. Originally developed at the University of California, Berkeley AMPLab, the Spark codebase was later donated to the Apache Software Foundation, which has maintained it since.']"
            ]
          },
          "metadata": {},
          "execution_count": 18
        }
      ],
      "source": [
        "text_rdd.take(1)"
      ]
    },
    {
      "cell_type": "markdown",
      "metadata": {
        "id": "065n4emo2Kuf"
      },
      "source": [
        "wholeTextFiles создает PairRDD в формате key-value, где ключ - имя файла, а значения - то, что находистя в файле. Имена файлов считываются из папки через wholeTextFiles"
      ]
    },
    {
      "cell_type": "code",
      "execution_count": 21,
      "metadata": {
        "id": "cTGV-Tk42nNT"
      },
      "outputs": [],
      "source": [
        "dirPath = 'files'\n",
        "os.mkdir(dirPath)\n",
        "with open(os.path.join(dirPath, \"1.txt\"), \"w\") as file1:\n",
        "    _ = file1.write(\"[1 2 3]\")\n",
        "with open(os.path.join(dirPath, \"2.txt\"), \"w\") as file2:\n",
        "    _ = file2.write(\"[4 5 6]\")\n",
        "textFiles = sc.wholeTextFiles(dirPath)"
      ]
    },
    {
      "cell_type": "code",
      "execution_count": 22,
      "metadata": {
        "id": "2odeXS186wbv",
        "colab": {
          "base_uri": "https://localhost:8080/"
        },
        "outputId": "e04d7dae-2887-4bd1-cfff-ef4ef9ebc75c"
      },
      "outputs": [
        {
          "output_type": "execute_result",
          "data": {
            "text/plain": [
              "org.apache.spark.api.java.JavaPairRDD@3691f3cf"
            ]
          },
          "metadata": {},
          "execution_count": 22
        }
      ],
      "source": [
        "textFiles"
      ]
    },
    {
      "cell_type": "code",
      "execution_count": 23,
      "metadata": {
        "id": "Q49V_P0M6fV-",
        "colab": {
          "base_uri": "https://localhost:8080/"
        },
        "outputId": "3375ae3b-22cf-4211-b7a9-6325a94f5e68"
      },
      "outputs": [
        {
          "output_type": "execute_result",
          "data": {
            "text/plain": [
              "[('file:/content/files/1.txt', '[1 2 3]'),\n",
              " ('file:/content/files/2.txt', '[4 5 6]')]"
            ]
          },
          "metadata": {},
          "execution_count": 23
        }
      ],
      "source": [
        "textFiles.collect()"
      ]
    },
    {
      "cell_type": "markdown",
      "metadata": {
        "id": "AUEQ7fTh7KIg"
      },
      "source": [
        "У RDD есть стандартно 2 типа методов - actions и transformations"
      ]
    },
    {
      "cell_type": "markdown",
      "metadata": {
        "id": "S9xpZ-Ns7b-b"
      },
      "source": [
        "**Actions**\n",
        "\n",
        "Начнем с actions, то есть того, что заставит посчитать"
      ]
    },
    {
      "cell_type": "code",
      "execution_count": 24,
      "metadata": {
        "id": "xn4EpCXJ7WWo"
      },
      "outputs": [],
      "source": [
        "first_rdd = first_rdd.coalesce(2)"
      ]
    },
    {
      "cell_type": "code",
      "execution_count": 25,
      "metadata": {
        "id": "TMUv2tyh7ob4",
        "colab": {
          "base_uri": "https://localhost:8080/"
        },
        "outputId": "96c7d9e6-2453-4705-9782-6416aab69820"
      },
      "outputs": [
        {
          "output_type": "execute_result",
          "data": {
            "text/plain": [
              "12499997500000"
            ]
          },
          "metadata": {},
          "execution_count": 25
        }
      ],
      "source": [
        "first_rdd.sum()"
      ]
    },
    {
      "cell_type": "code",
      "execution_count": 26,
      "metadata": {
        "id": "DUDdK1co7qQc",
        "colab": {
          "base_uri": "https://localhost:8080/"
        },
        "outputId": "9373e40d-ac18-46c2-b7e8-213d60879f34"
      },
      "outputs": [
        {
          "output_type": "execute_result",
          "data": {
            "text/plain": [
              "(0, 4999999)"
            ]
          },
          "metadata": {},
          "execution_count": 26
        }
      ],
      "source": [
        "first_rdd.min(), first_rdd.max()"
      ]
    },
    {
      "cell_type": "code",
      "execution_count": 27,
      "metadata": {
        "id": "gKijZqmp8uir",
        "colab": {
          "base_uri": "https://localhost:8080/"
        },
        "outputId": "75e67e02-f5f9-452c-bb85-a26c7ec51017"
      },
      "outputs": [
        {
          "output_type": "execute_result",
          "data": {
            "text/plain": [
              "406740"
            ]
          },
          "metadata": {},
          "execution_count": 27
        }
      ],
      "source": [
        "first_rdd.first()"
      ]
    },
    {
      "cell_type": "code",
      "execution_count": 28,
      "metadata": {
        "id": "xUnqk-QI7wqE",
        "colab": {
          "base_uri": "https://localhost:8080/"
        },
        "outputId": "faca3f5b-e197-4cad-8df3-de4cb76738b8"
      },
      "outputs": [
        {
          "output_type": "execute_result",
          "data": {
            "text/plain": [
              "[406740, 406741]"
            ]
          },
          "metadata": {},
          "execution_count": 28
        }
      ],
      "source": [
        "first_rdd.take(2)"
      ]
    },
    {
      "cell_type": "code",
      "execution_count": 29,
      "metadata": {
        "id": "aUZk1eg87zky",
        "colab": {
          "base_uri": "https://localhost:8080/"
        },
        "outputId": "f64c86d4-4d26-402b-9614-eefc0b668835"
      },
      "outputs": [
        {
          "output_type": "execute_result",
          "data": {
            "text/plain": [
              "5000000"
            ]
          },
          "metadata": {},
          "execution_count": 29
        }
      ],
      "source": [
        "first_rdd.count()"
      ]
    },
    {
      "cell_type": "code",
      "execution_count": 30,
      "metadata": {
        "id": "CMCFnJjG76Q-"
      },
      "outputs": [],
      "source": [
        "a = first_rdd.collect()"
      ]
    },
    {
      "cell_type": "code",
      "execution_count": 31,
      "metadata": {
        "id": "oh1IT2cP8BPj",
        "colab": {
          "base_uri": "https://localhost:8080/"
        },
        "outputId": "10d821e8-67fa-4bfb-f1b8-e6cfe9dc956a"
      },
      "outputs": [
        {
          "output_type": "execute_result",
          "data": {
            "text/plain": [
              "(<bound method RDD.saveAsTextFile of CoalescedRDD[165] at coalesce at <unknown>:0>,\n",
              " <bound method RDD.saveAsPickleFile of CoalescedRDD[165] at coalesce at <unknown>:0>)"
            ]
          },
          "metadata": {},
          "execution_count": 31
        }
      ],
      "source": [
        "first_rdd.saveAsTextFile, first_rdd.saveAsPickleFile"
      ]
    },
    {
      "cell_type": "code",
      "execution_count": 32,
      "metadata": {
        "id": "TFXlzHqA8T1M",
        "colab": {
          "base_uri": "https://localhost:8080/"
        },
        "outputId": "4eebc4fa-7a53-4fd2-d0b7-4fee7dc48294"
      },
      "outputs": [
        {
          "output_type": "execute_result",
          "data": {
            "text/plain": [
              "12499997500000"
            ]
          },
          "metadata": {},
          "execution_count": 32
        }
      ],
      "source": [
        "first_rdd.reduce(lambda x, y: x + y)"
      ]
    },
    {
      "cell_type": "markdown",
      "metadata": {
        "id": "Ev48GQfDqnrS"
      },
      "source": [
        "Если нужно получить небольшое число записей на драйвер и, при этом, сохранить распределение, то лучше сделать выборку"
      ]
    },
    {
      "cell_type": "code",
      "execution_count": 33,
      "metadata": {
        "id": "pDHNH3H19Pib",
        "colab": {
          "base_uri": "https://localhost:8080/"
        },
        "outputId": "f2662c83-3f55-46b2-dd8f-033c1e1b58a5"
      },
      "outputs": [
        {
          "output_type": "execute_result",
          "data": {
            "text/plain": [
              "[140278, 3814479, 4519432, 580019, 2341229]"
            ]
          },
          "metadata": {},
          "execution_count": 33
        }
      ],
      "source": [
        "first_rdd.takeSample(withReplacement=False, num=5, seed=5757)"
      ]
    },
    {
      "cell_type": "markdown",
      "metadata": {
        "id": "Aiad4-a8ejvL"
      },
      "source": [
        "**Transformations**\n",
        "\n",
        "Это просто трансформации, которые не будут вычисляться до вызова actions"
      ]
    },
    {
      "cell_type": "code",
      "execution_count": 34,
      "metadata": {
        "id": "BMpdFk3W9P-E"
      },
      "outputs": [],
      "source": [
        "a = sc.parallelize([1, 2, 3])\n",
        "b = sc.parallelize([2, 3, 4])"
      ]
    },
    {
      "cell_type": "code",
      "execution_count": 35,
      "metadata": {
        "id": "SmJMLmCO9Xi2"
      },
      "outputs": [],
      "source": [
        "c = a + b"
      ]
    },
    {
      "cell_type": "code",
      "execution_count": 36,
      "metadata": {
        "id": "X196_-ZQ9arZ",
        "colab": {
          "base_uri": "https://localhost:8080/"
        },
        "outputId": "9f706b52-bf1b-4f06-fb24-d37a6994a4fc"
      },
      "outputs": [
        {
          "output_type": "execute_result",
          "data": {
            "text/plain": [
              "[1, 2, 3, 2, 3, 4]"
            ]
          },
          "metadata": {},
          "execution_count": 36
        }
      ],
      "source": [
        "c.collect()"
      ]
    },
    {
      "cell_type": "markdown",
      "metadata": {
        "id": "tQNtnHNtfzEC"
      },
      "source": [
        "filter"
      ]
    },
    {
      "cell_type": "code",
      "execution_count": 37,
      "metadata": {
        "id": "M7qMFVREfxv8",
        "colab": {
          "base_uri": "https://localhost:8080/"
        },
        "outputId": "bd6bd557-84cf-4665-c911-a2543b48dcde"
      },
      "outputs": [
        {
          "output_type": "execute_result",
          "data": {
            "text/plain": [
              "100"
            ]
          },
          "metadata": {},
          "execution_count": 37
        }
      ],
      "source": [
        "text_rdd.count()"
      ]
    },
    {
      "cell_type": "code",
      "execution_count": 38,
      "metadata": {
        "id": "3wiJ08Frf-Jz",
        "colab": {
          "base_uri": "https://localhost:8080/"
        },
        "outputId": "c22bc1a1-4629-4bf8-9032-459ef18b2977"
      },
      "outputs": [
        {
          "output_type": "execute_result",
          "data": {
            "text/plain": [
              "60"
            ]
          },
          "metadata": {},
          "execution_count": 38
        }
      ],
      "source": [
        "text_rdd.filter(lambda x: x != '').count()"
      ]
    },
    {
      "cell_type": "code",
      "execution_count": 39,
      "metadata": {
        "id": "wYQT0S4ugRRp"
      },
      "outputs": [],
      "source": [
        "text_rdd = text_rdd.filter(lambda x: x != '')"
      ]
    },
    {
      "cell_type": "markdown",
      "metadata": {
        "id": "E41esva9ex2j"
      },
      "source": [
        "map"
      ]
    },
    {
      "cell_type": "code",
      "execution_count": 40,
      "metadata": {
        "id": "JQ5yWa7yfUVv"
      },
      "outputs": [],
      "source": [
        "stop_words = stopwords.words(\"english\")\n",
        "stop_words = set(stop_words)"
      ]
    },
    {
      "cell_type": "code",
      "execution_count": 41,
      "metadata": {
        "id": "gny7-CMYgkQQ"
      },
      "outputs": [],
      "source": [
        "def mapper_text(text):\n",
        "    clean_text = re.sub(rf\"[{string.punctuation}]\", \"\", text)\n",
        "    words = nltk.word_tokenize(clean_text)\n",
        "    words_with_value = [(word.lower(), 1) for word in words \n",
        "                        if word not in stop_words]\n",
        "    return words_with_value"
      ]
    },
    {
      "cell_type": "code",
      "execution_count": 42,
      "metadata": {
        "id": "-C7K6V3Sgw4-",
        "colab": {
          "base_uri": "https://localhost:8080/"
        },
        "outputId": "0ec70504-7aec-443b-a3fd-cab01661e32d"
      },
      "outputs": [
        {
          "output_type": "execute_result",
          "data": {
            "text/plain": [
              "[[('apache', 1),\n",
              "  ('spark', 1),\n",
              "  ('opensource', 1),\n",
              "  ('unified', 1),\n",
              "  ('analytics', 1),\n",
              "  ('engine', 1),\n",
              "  ('largescale', 1),\n",
              "  ('data', 1),\n",
              "  ('processing', 1),\n",
              "  ('spark', 1),\n",
              "  ('provides', 1),\n",
              "  ('interface', 1),\n",
              "  ('programming', 1),\n",
              "  ('entire', 1),\n",
              "  ('clusters', 1),\n",
              "  ('implicit', 1),\n",
              "  ('data', 1),\n",
              "  ('parallelism', 1),\n",
              "  ('fault', 1),\n",
              "  ('tolerance', 1),\n",
              "  ('originally', 1),\n",
              "  ('developed', 1),\n",
              "  ('university', 1),\n",
              "  ('california', 1),\n",
              "  ('berkeley', 1),\n",
              "  ('amplab', 1),\n",
              "  ('spark', 1),\n",
              "  ('codebase', 1),\n",
              "  ('later', 1),\n",
              "  ('donated', 1),\n",
              "  ('apache', 1),\n",
              "  ('software', 1),\n",
              "  ('foundation', 1),\n",
              "  ('maintained', 1),\n",
              "  ('since', 1)]]"
            ]
          },
          "metadata": {},
          "execution_count": 42
        }
      ],
      "source": [
        "text_rdd.map(mapper_text).take(1)"
      ]
    },
    {
      "cell_type": "markdown",
      "metadata": {
        "id": "bw6eE6BnhC4G"
      },
      "source": [
        "flatMap"
      ]
    },
    {
      "cell_type": "markdown",
      "metadata": {
        "id": "eTUOQWrZhS89"
      },
      "source": [
        "Попробуем применить map и flatMap"
      ]
    },
    {
      "cell_type": "code",
      "execution_count": 43,
      "metadata": {
        "id": "7Zi_fYGfhEza",
        "colab": {
          "base_uri": "https://localhost:8080/"
        },
        "outputId": "fd450da1-cc79-4bd1-fc14-b90ae8c56340"
      },
      "outputs": [
        {
          "output_type": "execute_result",
          "data": {
            "text/plain": [
              "60"
            ]
          },
          "metadata": {},
          "execution_count": 43
        }
      ],
      "source": [
        "text_rdd.map(mapper_text).count()"
      ]
    },
    {
      "cell_type": "code",
      "execution_count": 44,
      "metadata": {
        "id": "XUp5kQAnhMsW",
        "colab": {
          "base_uri": "https://localhost:8080/"
        },
        "outputId": "7de90314-d1cc-4c06-9918-03300ac6e848"
      },
      "outputs": [
        {
          "output_type": "execute_result",
          "data": {
            "text/plain": [
              "1921"
            ]
          },
          "metadata": {},
          "execution_count": 44
        }
      ],
      "source": [
        "text_rdd.flatMap(mapper_text).count()"
      ]
    },
    {
      "cell_type": "markdown",
      "metadata": {
        "id": "tWVR-ueohXQ-"
      },
      "source": [
        "Как так?"
      ]
    },
    {
      "cell_type": "code",
      "execution_count": 45,
      "metadata": {
        "id": "jKf-8WfLhscS",
        "colab": {
          "base_uri": "https://localhost:8080/"
        },
        "outputId": "4fb3a8f3-3b6f-4957-90d4-210185325310"
      },
      "outputs": [
        {
          "output_type": "execute_result",
          "data": {
            "text/plain": [
              "1921"
            ]
          },
          "metadata": {},
          "execution_count": 45
        }
      ],
      "source": [
        "text_rdd.map(mapper_text).map(len).sum()"
      ]
    },
    {
      "cell_type": "markdown",
      "metadata": {
        "id": "tm1g9-0EiN2x"
      },
      "source": [
        "вроде понятно что случилось, но давайте на игрушечном примере"
      ]
    },
    {
      "cell_type": "code",
      "execution_count": 46,
      "metadata": {
        "id": "ZwUcamJHiNJa"
      },
      "outputs": [],
      "source": [
        "simple_example = sc.parallelize([[1, 2, 3], [2, 3, 4], [4, 5, 6]])"
      ]
    },
    {
      "cell_type": "code",
      "execution_count": 47,
      "metadata": {
        "id": "4e95UYZri0P1"
      },
      "outputs": [],
      "source": [
        "def pow_elements(elements):\n",
        "    return [x**2 for x in elements]"
      ]
    },
    {
      "cell_type": "code",
      "execution_count": 48,
      "metadata": {
        "id": "oRuQNwphilD7",
        "colab": {
          "base_uri": "https://localhost:8080/"
        },
        "outputId": "75f01a56-77df-44fb-d5b3-03792f736218"
      },
      "outputs": [
        {
          "output_type": "execute_result",
          "data": {
            "text/plain": [
              "[[1, 4, 9], [4, 9, 16], [16, 25, 36]]"
            ]
          },
          "metadata": {},
          "execution_count": 48
        }
      ],
      "source": [
        "simple_example.map(pow_elements).collect()"
      ]
    },
    {
      "cell_type": "code",
      "execution_count": 49,
      "metadata": {
        "id": "9JQ0zRRmjC6Y",
        "colab": {
          "base_uri": "https://localhost:8080/"
        },
        "outputId": "e207c2fb-bf9c-4763-8b80-406d6eb8ab8a"
      },
      "outputs": [
        {
          "output_type": "execute_result",
          "data": {
            "text/plain": [
              "[1, 4, 9, 4, 9, 16, 16, 25, 36]"
            ]
          },
          "metadata": {},
          "execution_count": 49
        }
      ],
      "source": [
        "simple_example.flatMap(pow_elements).collect()"
      ]
    },
    {
      "cell_type": "markdown",
      "metadata": {
        "id": "GYbF8PgtkA5U"
      },
      "source": [
        "groupByKey"
      ]
    },
    {
      "cell_type": "code",
      "execution_count": 50,
      "metadata": {
        "id": "NbY1SU54j_Ln"
      },
      "outputs": [],
      "source": [
        "text_rdd = text_rdd.flatMap(mapper_text)"
      ]
    },
    {
      "cell_type": "code",
      "execution_count": 51,
      "metadata": {
        "id": "OSAVshc5jVlO",
        "colab": {
          "base_uri": "https://localhost:8080/"
        },
        "outputId": "96a34de8-39b5-49f3-8936-f3ea75315db9"
      },
      "outputs": [
        {
          "output_type": "execute_result",
          "data": {
            "text/plain": [
              "[('opensource', 1),\n",
              " ('unified', 2),\n",
              " ('analytics', 5),\n",
              " ('engine', 4),\n",
              " ('provides', 10),\n",
              " ('programming', 9),\n",
              " ('entire', 1),\n",
              " ('clusters', 2),\n",
              " ('implicit', 1),\n",
              " ('fault', 1),\n",
              " ('tolerance', 1),\n",
              " ('originally', 3),\n",
              " ('developed', 2),\n",
              " ('university', 1),\n",
              " ('codebase', 1),\n",
              " ('readonly', 2),\n",
              " ('multiset', 1),\n",
              " ('items', 2),\n",
              " ('faulttolerant', 1),\n",
              " ('way2', 1),\n",
              " ('api', 14),\n",
              " ('in', 7),\n",
              " ('primary', 1),\n",
              " ('use', 9),\n",
              " ('encouraged3', 1),\n",
              " ('even', 5),\n",
              " ('though', 1),\n",
              " ('technology', 2),\n",
              " ('2012', 1),\n",
              " ('response', 2),\n",
              " ('limitations', 1),\n",
              " ('forces', 1),\n",
              " ('particular', 1),\n",
              " ('programs', 3),\n",
              " ('read', 1),\n",
              " ('input', 2),\n",
              " ('disk', 3),\n",
              " ('reduce', 3),\n",
              " ('results', 2),\n",
              " ('store', 1),\n",
              " ('working', 1),\n",
              " ('set', 5),\n",
              " ('offers', 3),\n",
              " ('deliberately', 1),\n",
              " ('form', 2),\n",
              " ('memory8', 1),\n",
              " ('facilitates', 1),\n",
              " ('iterative', 2),\n",
              " ('algorithm', 1),\n",
              " ('visit', 1),\n",
              " ('multiple', 4),\n",
              " ('ie', 1),\n",
              " ('databasestyle', 1),\n",
              " ('querying', 2),\n",
              " ('latency', 2),\n",
              " ('may', 2),\n",
              " ('several', 1),\n",
              " ('orders', 1),\n",
              " ('magnitude', 1),\n",
              " ('compared', 2),\n",
              " ('hadoop', 11),\n",
              " ('class', 1),\n",
              " ('algorithms', 7),\n",
              " ('training', 2),\n",
              " ('machine', 12),\n",
              " ('learning', 15),\n",
              " ('systems', 1),\n",
              " ('formed', 1),\n",
              " ('initial', 1),\n",
              " ('impetus', 1),\n",
              " ('developing', 1),\n",
              " ('manager', 2),\n",
              " ('storage', 3),\n",
              " ('management', 2),\n",
              " ('supports', 5),\n",
              " ('native', 2),\n",
              " ('scripts', 1),\n",
              " ('install', 1),\n",
              " ('possible', 1),\n",
              " ('run', 7),\n",
              " ('single', 3),\n",
              " ('yarn', 2),\n",
              " ('maprfs13', 1),\n",
              " ('cassandra14', 1),\n",
              " ('amazon', 3),\n",
              " ('s3', 2),\n",
              " ('kudu', 1),\n",
              " ('lustre', 1),\n",
              " ('solution', 2),\n",
              " ('pseudodistributed', 1),\n",
              " ('mode', 3),\n",
              " ('used', 8),\n",
              " ('development', 2),\n",
              " ('purposes', 1),\n",
              " ('instead', 1),\n",
              " ('executor', 2),\n",
              " ('overall', 1),\n",
              " ('project', 5),\n",
              " ('task', 1),\n",
              " ('dispatching', 1),\n",
              " ('scheduling', 3),\n",
              " ('basic', 2),\n",
              " ('functionalities', 1),\n",
              " ('exposed', 1),\n",
              " ('java', 5),\n",
              " ('python', 8),\n",
              " ('scala', 6),\n",
              " ('r', 4),\n",
              " ('centered', 1),\n",
              " ('connect', 1),\n",
              " ('this', 3),\n",
              " ('mirrors', 1),\n",
              " ('functionalhigherorder', 1),\n",
              " ('model', 1),\n",
              " ('driver', 3),\n",
              " ('invokes', 1),\n",
              " ('parallel', 5),\n",
              " ('operations', 7),\n",
              " ('functions', 2),\n",
              " ('execution', 2),\n",
              " ('cluster2', 1),\n",
              " ('these', 5),\n",
              " ('additional', 1),\n",
              " ('take', 3),\n",
              " ('produce', 1),\n",
              " ('new', 5),\n",
              " ('immutable', 4),\n",
              " ('faulttolerance', 1),\n",
              " ('sequence', 2),\n",
              " ('produced', 1),\n",
              " ('reconstructed', 1),\n",
              " ('loss', 1),\n",
              " ('type', 1),\n",
              " ('functional', 2),\n",
              " ('style', 1),\n",
              " ('two', 6),\n",
              " ('broadcast', 1),\n",
              " ('reference', 1),\n",
              " ('needs', 3),\n",
              " ('nodes', 4),\n",
              " ('accumulators', 1),\n",
              " ('imperative', 1),\n",
              " ('typical', 1),\n",
              " ('following', 1),\n",
              " ('files', 2),\n",
              " ('common', 2),\n",
              " ('flatmap', 1),\n",
              " ('variant', 1),\n",
              " ('anonymous', 1),\n",
              " ('performs', 2),\n",
              " ('simple', 6),\n",
              " ('item', 1),\n",
              " ('applies', 1),\n",
              " ('introduced', 1),\n",
              " ('dataframesa', 1),\n",
              " ('support', 8),\n",
              " ('semistructured', 1),\n",
              " ('domainspecific', 1),\n",
              " ('language', 2),\n",
              " ('dataframes', 4),\n",
              " ('interfaces', 1),\n",
              " ('although', 1),\n",
              " ('lack', 1),\n",
              " ('20', 1),\n",
              " ('strongly', 1),\n",
              " ('typed', 1),\n",
              " ('streaming', 36),\n",
              " ('uses', 1),\n",
              " ('perform', 4),\n",
              " ('ingests', 1),\n",
              " ('transformations', 2),\n",
              " ('design', 1),\n",
              " ('thus', 3),\n",
              " ('however', 3),\n",
              " ('convenience', 1),\n",
              " ('penalty', 1),\n",
              " ('equal', 1),\n",
              " ('minibatch', 1),\n",
              " ('other', 2),\n",
              " ('process', 4),\n",
              " ('event', 2),\n",
              " ('rather', 2),\n",
              " ('include', 2),\n",
              " ('storm', 3),\n",
              " ('builtin', 2),\n",
              " ('zeromq', 1),\n",
              " ('sockets22', 1),\n",
              " ('based', 3),\n",
              " ('datasets', 2),\n",
              " ('deployed', 2),\n",
              " ('traditional', 2),\n",
              " ('onpremises', 1),\n",
              " ('center', 1),\n",
              " ('cloud', 3),\n",
              " ('machinelearning', 1),\n",
              " ('framework', 9),\n",
              " ('due', 2),\n",
              " ('large', 4),\n",
              " ('diskbased', 2),\n",
              " ('mahout', 2),\n",
              " ('developers', 6),\n",
              " ('alternating', 1),\n",
              " ('squares', 1),\n",
              " ('scales', 1),\n",
              " ('wabbit24', 1),\n",
              " ('statistical', 1),\n",
              " ('pipelines', 6),\n",
              " ('unsuitable', 1),\n",
              " ('let', 1),\n",
              " ('like', 4),\n",
              " ('graph', 9),\n",
              " ('database26', 1),\n",
              " ('predecessor', 1),\n",
              " ('formally', 1),\n",
              " ('16', 1),\n",
              " ('full', 1),\n",
              " ('vertices28', 1),\n",
              " ('version', 1),\n",
              " ('started', 1),\n",
              " ('research', 1),\n",
              " ('uc', 2),\n",
              " ('quickly', 1),\n",
              " ('tasks', 8),\n",
              " ('sets', 2),\n",
              " ('computers', 1),\n",
              " ('tandem', 1),\n",
              " ('tools', 1),\n",
              " ('worlds', 1),\n",
              " ('marshalling', 1),\n",
              " ('massive', 1),\n",
              " ('power', 2),\n",
              " ('stores', 3),\n",
              " ('shoulders', 1),\n",
              " ('abstracts', 1),\n",
              " ('away', 1),\n",
              " ('grunt', 1),\n",
              " ('work', 2),\n",
              " ('become', 3),\n",
              " ('frameworks', 3),\n",
              " ('world', 3),\n",
              " ('bindings', 1),\n",
              " ('telecommunications', 1),\n",
              " ('companies', 2),\n",
              " ('games', 1),\n",
              " ('governments', 1),\n",
              " ('major', 1),\n",
              " ('facebook', 1),\n",
              " ('ibm', 1),\n",
              " ('microsoft', 2),\n",
              " ('at', 2),\n",
              " ('fundamental', 1),\n",
              " ('components', 2),\n",
              " ('converts', 1),\n",
              " ('worker', 1),\n",
              " ('execute', 1),\n",
              " ('mediate', 1),\n",
              " ('out', 1),\n",
              " ('likely', 2),\n",
              " ('robust', 1),\n",
              " ('resource', 1),\n",
              " ('demand', 1),\n",
              " ('enterprise', 2),\n",
              " ('normally', 1),\n",
              " ('mean', 1),\n",
              " ('distributions', 2),\n",
              " ('docker', 1),\n",
              " ('swarm', 1),\n",
              " ('managed', 2),\n",
              " ('emr', 1),\n",
              " ('google', 2),\n",
              " ('azure', 1),\n",
              " ('platform', 2),\n",
              " ('comprehensive', 1),\n",
              " ('service', 1),\n",
              " ('integrated', 1),\n",
              " ('webbased', 1),\n",
              " ('optimized', 1),\n",
              " ('performance', 2),\n",
              " ('distribution', 1),\n",
              " ('commands', 1),\n",
              " ('acyclic', 1),\n",
              " ('dag', 3),\n",
              " ('layer', 1),\n",
              " ('determines', 1),\n",
              " ('executed', 2),\n",
              " ('why', 1),\n",
              " ('worth', 1),\n",
              " ('pointing', 1),\n",
              " ('days', 1),\n",
              " ('but', 3),\n",
              " ('advantages', 1),\n",
              " ('overtaking', 1),\n",
              " ('roadmap', 1),\n",
              " ('speed', 1),\n",
              " ('means', 1),\n",
              " ('certain', 1),\n",
              " ('situations', 1),\n",
              " ('particularly', 1),\n",
              " ('multistage', 1),\n",
              " ('writing', 5),\n",
              " ('state', 1),\n",
              " ('stages', 2),\n",
              " ('essence', 1),\n",
              " ('consisting', 1),\n",
              " ('reducing', 2),\n",
              " ('whereas', 1),\n",
              " ('around', 1),\n",
              " ('10', 1),\n",
              " ('as', 2),\n",
              " ('speedup', 1),\n",
              " ('friendly', 1),\n",
              " ('hiding', 1),\n",
              " ('calls', 1),\n",
              " ('50', 1),\n",
              " ('count', 1),\n",
              " ('heart', 1),\n",
              " ('collection', 1),\n",
              " ('leading', 1),\n",
              " ('scalable', 1),\n",
              " ('created', 1),\n",
              " ('nosql', 1),\n",
              " ('cassandra', 2),\n",
              " ('buckets', 1),\n",
              " ('providing', 1),\n",
              " ('filtering', 2),\n",
              " ('sampling', 1),\n",
              " ('combining', 1),\n",
              " ('distributes', 1),\n",
              " ('processes', 1),\n",
              " ('known', 1),\n",
              " ('creating', 2),\n",
              " ('focused', 1),\n",
              " ('using', 5),\n",
              " ('approach', 3),\n",
              " ('pandas', 1),\n",
              " ('name', 1),\n",
              " ('sql2003compliant', 1),\n",
              " ('bringing', 1),\n",
              " ('alongside', 1),\n",
              " ('json', 1),\n",
              " ('hdfs', 1),\n",
              " ('hive', 1),\n",
              " ('parquet', 1),\n",
              " ('others', 1),\n",
              " ('columns', 1),\n",
              " ('line', 1),\n",
              " ('applying', 1),\n",
              " ('techniques', 1),\n",
              " ('allowing', 3),\n",
              " ('feature', 1),\n",
              " ('extraction', 1),\n",
              " ('selections', 1),\n",
              " ('classification', 2),\n",
              " ('forests', 1),\n",
              " ('swapped', 1),\n",
              " ('scientists', 1),\n",
              " ('imported', 1),\n",
              " ('scalabased', 1),\n",
              " ('pipeline', 2),\n",
              " ('production', 1),\n",
              " ('covers', 1),\n",
              " ('regression', 1),\n",
              " ('neural', 1),\n",
              " ('networks', 1),\n",
              " ('details', 1),\n",
              " ('infoworld', 1),\n",
              " ('structures', 1),\n",
              " ('graphframes', 1),\n",
              " ('catalyst', 2),\n",
              " ('environments', 1),\n",
              " ('near', 1),\n",
              " ('things', 1),\n",
              " ('would', 1),\n",
              " ('something', 1),\n",
              " ('requirements', 1),\n",
              " ('codebases', 1),\n",
              " ('kept', 1),\n",
              " ('sync', 1),\n",
              " ('domain', 1),\n",
              " ('despite', 1),\n",
              " ('different', 3),\n",
              " ('requiring', 1),\n",
              " ('resources', 1),\n",
              " ('involving', 1),\n",
              " ('concerns', 1),\n",
              " ('continuous', 4),\n",
              " ('series', 1),\n",
              " ('way', 1),\n",
              " ('share', 1),\n",
              " ('overhead', 1),\n",
              " ('microbatching', 2),\n",
              " ('lowlatency', 2),\n",
              " ('able', 1),\n",
              " ('match', 1),\n",
              " ('streamingcapable', 1),\n",
              " ('added', 2),\n",
              " ('essentially', 1),\n",
              " ('infinite', 1),\n",
              " ('solves', 1),\n",
              " ('pain', 1),\n",
              " ('points', 1),\n",
              " ('especially', 1),\n",
              " ('eventtime', 1),\n",
              " ('aggregations', 1),\n",
              " ('late', 1),\n",
              " ('delivery', 1),\n",
              " ('messages', 1),\n",
              " ('streams', 1),\n",
              " ('go', 1),\n",
              " ('query', 1),\n",
              " ('live', 1),\n",
              " ('relied', 1),\n",
              " ('team', 1),\n",
              " ('handle', 1),\n",
              " ('responses', 1),\n",
              " ('low', 1),\n",
              " ('impressive', 1),\n",
              " ('24', 1),\n",
              " ('considered', 1),\n",
              " ('legacy', 1),\n",
              " ('maintaining', 1),\n",
              " ('via', 1),\n",
              " ('call', 1),\n",
              " ('lowerlevel', 1),\n",
              " ('construct', 1),\n",
              " ('classifiers', 1),\n",
              " ('keras', 1),\n",
              " ('registered', 1),\n",
              " ('udfs', 1),\n",
              " ('userdefined', 1),\n",
              " ('applied', 1),\n",
              " ('tutorials', 1),\n",
              " ('ready', 1),\n",
              " ('dive', 1),\n",
              " ('we', 1),\n",
              " ('recommend', 1),\n",
              " ('guide', 1),\n",
              " ('basics', 1),\n",
              " ('science', 1),\n",
              " ('increasingly', 1),\n",
              " ('apache', 56),\n",
              " ('spark', 110),\n",
              " ('largescale', 1),\n",
              " ('data', 44),\n",
              " ('processing', 19),\n",
              " ('interface', 10),\n",
              " ('parallelism', 1),\n",
              " ('california', 1),\n",
              " ('berkeley', 2),\n",
              " ('amplab', 3),\n",
              " ('later', 2),\n",
              " ('donated', 2),\n",
              " ('software', 2),\n",
              " ('foundation', 4),\n",
              " ('maintained', 2),\n",
              " ('since', 1),\n",
              " ('architectural', 1),\n",
              " ('resilient', 2),\n",
              " ('distributed', 23),\n",
              " ('dataset', 7),\n",
              " ('rdd', 15),\n",
              " ('cluster', 12),\n",
              " ('machines', 1),\n",
              " ('the', 9),\n",
              " ('dataframe', 3),\n",
              " ('released', 1),\n",
              " ('abstraction', 6),\n",
              " ('top', 5),\n",
              " ('followed', 1),\n",
              " ('1x', 1),\n",
              " ('application', 8),\n",
              " ('2x', 3),\n",
              " ('deprecated45', 1),\n",
              " ('still', 2),\n",
              " ('underlies', 1),\n",
              " ('api67', 1),\n",
              " ('rdds', 10),\n",
              " ('mapreduce', 10),\n",
              " ('computing', 5),\n",
              " ('paradigm', 2),\n",
              " ('linear', 1),\n",
              " ('dataflow', 1),\n",
              " ('structure', 3),\n",
              " ('map', 6),\n",
              " ('function', 4),\n",
              " ('across', 5),\n",
              " ('reduction', 1),\n",
              " ('restricted', 3),\n",
              " ('shared', 2),\n",
              " ('implementation', 6),\n",
              " ('ms', 1),\n",
              " ('times', 4),\n",
              " ('loop', 1),\n",
              " ('interactiveexploratory', 1),\n",
              " ('analysis', 2),\n",
              " ('repeated', 1),\n",
              " ('applications', 5),\n",
              " ('reduced', 2),\n",
              " ('implementation29', 1),\n",
              " ('among', 2),\n",
              " ('spark10', 1),\n",
              " ('requires', 2),\n",
              " ('system', 5),\n",
              " ('for', 2),\n",
              " ('standalone', 2),\n",
              " ('launch', 2),\n",
              " ('either', 2),\n",
              " ('manually', 1),\n",
              " ('provided', 2),\n",
              " ('package', 2),\n",
              " ('it', 7),\n",
              " ('also', 15),\n",
              " ('daemons', 1),\n",
              " ('testing', 2),\n",
              " ('mesos', 2),\n",
              " ('kubernetes', 2),\n",
              " ('11', 1),\n",
              " ('wide', 1),\n",
              " ('variety', 2),\n",
              " ('including', 6),\n",
              " ('alluxio', 1),\n",
              " ('file', 4),\n",
              " ('hdfs12', 1),\n",
              " ('mapr', 1),\n",
              " ('openstack', 1),\n",
              " ('swift', 1),\n",
              " ('system15', 1),\n",
              " ('custom', 4),\n",
              " ('implemented', 2),\n",
              " ('local', 2),\n",
              " ('usually', 1),\n",
              " ('required', 4),\n",
              " ('scenario', 1),\n",
              " ('one', 4),\n",
              " ('per', 1),\n",
              " ('cpu', 1),\n",
              " ('core', 9),\n",
              " ('io', 2),\n",
              " ('net16', 2),\n",
              " ('available', 2),\n",
              " ('jvm', 3),\n",
              " ('languages', 3),\n",
              " ('usable', 1),\n",
              " ('nonjvm', 1),\n",
              " ('julia17', 1),\n",
              " ('program', 3),\n",
              " ('filter', 1),\n",
              " ('passing', 1),\n",
              " ('schedules', 1),\n",
              " ('ones', 2),\n",
              " ('joins', 1),\n",
              " ('lazy', 1),\n",
              " ('achieved', 1),\n",
              " ('keeping', 1),\n",
              " ('track', 1),\n",
              " ('lineage', 1),\n",
              " ('case', 2),\n",
              " ('contain', 1),\n",
              " ('net', 1),\n",
              " ('objects', 2),\n",
              " ('besides', 2),\n",
              " ('rddoriented', 1),\n",
              " ('forms', 1),\n",
              " ('variables', 2),\n",
              " ('reductions', 1),\n",
              " ('style2', 1),\n",
              " ('a', 4),\n",
              " ('example', 2),\n",
              " ('rddcentric', 1),\n",
              " ('computes', 1),\n",
              " ('frequencies', 1),\n",
              " ('words', 2),\n",
              " ('occurring', 1),\n",
              " ('text', 2),\n",
              " ('prints', 1),\n",
              " ('each', 1),\n",
              " ('reducebykey', 1),\n",
              " ('takes', 2),\n",
              " ('operation', 1),\n",
              " ('pair', 1),\n",
              " ('argument', 1),\n",
              " ('transform', 1),\n",
              " ('sql', 17),\n",
              " ('component', 2),\n",
              " ('called', 2),\n",
              " ('structured', 13),\n",
              " ('dsl', 1),\n",
              " ('manipulate', 1),\n",
              " ('commandline', 1),\n",
              " ('odbcjdbc', 1),\n",
              " ('server', 1),\n",
              " ('compiletime', 1),\n",
              " ('typechecking', 1),\n",
              " ('afforded', 1),\n",
              " ('fully', 1),\n",
              " ('supported', 3),\n",
              " ('well', 4),\n",
              " ('cores', 1),\n",
              " ('fast', 3),\n",
              " ('capability', 1),\n",
              " ('minibatches', 3),\n",
              " ('enables', 1),\n",
              " ('code', 8),\n",
              " ('written', 2),\n",
              " ('batch', 6),\n",
              " ('facilitating', 1),\n",
              " ('easy', 2),\n",
              " ('lambda', 1),\n",
              " ('architecture1920', 1),\n",
              " ('comes', 3),\n",
              " ('duration', 1),\n",
              " ('engines', 1),\n",
              " ('flink21', 1),\n",
              " ('consume', 1),\n",
              " ('kafka', 1),\n",
              " ('flume', 1),\n",
              " ('twitter', 1),\n",
              " ('kinesis', 1),\n",
              " ('tcpip', 1),\n",
              " ('separate', 4),\n",
              " ('higherlevel', 3),\n",
              " ('streaming23', 1),\n",
              " ('mllib', 9),\n",
              " ('part', 3),\n",
              " ('memorybased', 1),\n",
              " ('architecture', 1),\n",
              " ('much', 5),\n",
              " ('nine', 1),\n",
              " ('according', 1),\n",
              " ('benchmarks', 1),\n",
              " ('done', 1),\n",
              " ('least', 1),\n",
              " ('als', 1),\n",
              " ('implementations', 2),\n",
              " ('gained', 1),\n",
              " ('better', 1),\n",
              " ('vowpal', 1),\n",
              " ('many', 3),\n",
              " ('shipped', 1),\n",
              " ('simplifies', 1),\n",
              " ('scale', 2),\n",
              " ('graphx', 7),\n",
              " ('graphprocessing', 1),\n",
              " ('because', 1),\n",
              " ('graphs', 6),\n",
              " ('need', 2),\n",
              " ('updated', 1),\n",
              " ('alone', 1),\n",
              " ('transactional', 1),\n",
              " ('manner', 2),\n",
              " ('apis', 3),\n",
              " ('massively', 1),\n",
              " ('pagerank', 2),\n",
              " ('pregel', 1),\n",
              " ('general', 1),\n",
              " ('mapreducestyle', 1),\n",
              " ('api27', 1),\n",
              " ('unlike', 1),\n",
              " ('bagel', 1),\n",
              " ('deprecated', 1),\n",
              " ('property', 1),\n",
              " ('properties', 1),\n",
              " ('attached', 1),\n",
              " ('edges', 1),\n",
              " ('viewed', 1),\n",
              " ('inmemory', 2),\n",
              " ('giraph', 1),\n",
              " ('utilized', 1),\n",
              " ('mapreduce29', 1),\n",
              " ('initially', 1),\n",
              " ('berkeleys', 1),\n",
              " ('databricks', 3),\n",
              " ('distribute', 1),\n",
              " ('qualities', 1),\n",
              " ('key', 2),\n",
              " ('big', 6),\n",
              " ('require', 2),\n",
              " ('crunch', 1),\n",
              " ('burdens', 1),\n",
              " ('easytouse', 1),\n",
              " ('from', 1),\n",
              " ('humble', 1),\n",
              " ('beginnings', 1),\n",
              " ('2009', 1),\n",
              " ('ways', 1),\n",
              " ('you', 3),\n",
              " ('find', 2),\n",
              " ('banks', 1),\n",
              " ('tech', 1),\n",
              " ('giants', 1),\n",
              " ('apple', 1),\n",
              " ('level', 1),\n",
              " ('consists', 1),\n",
              " ('main', 1),\n",
              " ('users', 3),\n",
              " ('executors', 2),\n",
              " ('assigned', 1),\n",
              " ('some', 1),\n",
              " ('necessary', 1),\n",
              " ('box', 2),\n",
              " ('simply', 1),\n",
              " ('want', 1),\n",
              " ('advantage', 4),\n",
              " ('care', 1),\n",
              " ('allocating', 1),\n",
              " ('workers', 1),\n",
              " ('running', 3),\n",
              " ('cloudera', 1),\n",
              " ('hortonworks', 1),\n",
              " ('jobs', 3),\n",
              " ('if', 1),\n",
              " ('seek', 1),\n",
              " ('found', 1),\n",
              " ('dataproc', 1),\n",
              " ('hdinsight', 1),\n",
              " ('company', 1),\n",
              " ('employs', 1),\n",
              " ('founders', 1),\n",
              " ('notebook', 1),\n",
              " ('standard', 3),\n",
              " ('builds', 1),\n",
              " ('user', 1),\n",
              " ('directed', 1),\n",
              " ('vs', 2),\n",
              " ('bit', 1),\n",
              " ('misnomer', 1),\n",
              " ('included', 1),\n",
              " ('choice', 1),\n",
              " ('old', 1),\n",
              " ('brought', 1),\n",
              " ('prominence', 1),\n",
              " ('download', 1),\n",
              " ('cio', 1),\n",
              " ('report', 1),\n",
              " ('5g', 1),\n",
              " ('first', 1),\n",
              " ('hundred', 1),\n",
              " ('faster', 2),\n",
              " ('back', 1),\n",
              " ('creates', 1),\n",
              " ('twostage', 1),\n",
              " ('mapping', 1),\n",
              " ('efficiently', 1),\n",
              " ('completely', 2),\n",
              " ('contained', 1),\n",
              " ('within', 1),\n",
              " ('memory', 1),\n",
              " ('tend', 1),\n",
              " ('counterpart', 1),\n",
              " ('second', 1),\n",
              " ('developerfriendly', 1),\n",
              " ('important', 3),\n",
              " ('could', 2),\n",
              " ('argue', 1),\n",
              " ('friendliness', 1),\n",
              " ('comparison', 1),\n",
              " ('complexity', 1),\n",
              " ('behind', 1),\n",
              " ('method', 3),\n",
              " ('canonical', 1),\n",
              " ('almost', 1),\n",
              " ('lines', 3),\n",
              " ('document', 1),\n",
              " ('shown', 1),\n",
              " ('concept', 3),\n",
              " ('represents', 1),\n",
              " ('split', 2),\n",
              " ('databases', 1),\n",
              " ('mongodb', 2),\n",
              " ('built', 2),\n",
              " ('enabling', 1),\n",
              " ('functionality', 1),\n",
              " ('joining', 1),\n",
              " ('aggregation', 1),\n",
              " ('runs', 1),\n",
              " ('fashion', 1),\n",
              " ('splits', 1),\n",
              " ('scaled', 1),\n",
              " ('shark', 1),\n",
              " ('commonly', 1),\n",
              " ('today', 1),\n",
              " ('borrowed', 1),\n",
              " ('suggests', 1),\n",
              " ('analysts', 1),\n",
              " ('reading', 1),\n",
              " ('datastores', 1),\n",
              " ('jdbc', 1),\n",
              " ('orc', 1),\n",
              " ('popular', 1),\n",
              " ('hbase', 1),\n",
              " ('pulling', 1),\n",
              " ('connectors', 1),\n",
              " ('packages', 1),\n",
              " ('ecosystem', 1),\n",
              " ('selecting', 1),\n",
              " ('bundles', 1),\n",
              " ('libraries', 2),\n",
              " ('includes', 1),\n",
              " ('clustering', 3),\n",
              " ('kmeans', 1),\n",
              " ('random', 1),\n",
              " ('ease', 1),\n",
              " ('models', 4),\n",
              " ('trained', 1),\n",
              " ('saved', 1),\n",
              " ('javabased', 1),\n",
              " ('note', 1),\n",
              " ('facilities', 1),\n",
              " ('modeling', 2),\n",
              " ('deep', 7),\n",
              " ('see', 1),\n",
              " ('review', 1),\n",
              " ('works', 2),\n",
              " ('selection', 1),\n",
              " ('allows', 2),\n",
              " ('taking', 1),\n",
              " ('optimizer', 2),\n",
              " ('queries', 4),\n",
              " ('early', 1),\n",
              " ('addition', 1),\n",
              " ('helped', 1),\n",
              " ('gain', 1),\n",
              " ('traction', 1),\n",
              " ('realtime', 3),\n",
              " ('previously', 1),\n",
              " ('stream', 2),\n",
              " ('write', 1),\n",
              " ('obviously', 1),\n",
              " ('leads', 1),\n",
              " ('disparate', 1),\n",
              " ('operational', 1),\n",
              " ('extended', 1),\n",
              " ('breaking', 1),\n",
              " ('microbatches', 2),\n",
              " ('manipulated', 1),\n",
              " ('mostly', 1),\n",
              " ('developer', 1),\n",
              " ('operator', 1),\n",
              " ('everybody', 1),\n",
              " ('wins', 1),\n",
              " ('criticism', 1),\n",
              " ('scenarios', 1),\n",
              " ('incoming', 2),\n",
              " ('flink', 1),\n",
              " ('apex', 1),\n",
              " ('pure', 1),\n",
              " ('easier', 1),\n",
              " ('create', 1),\n",
              " ('real', 1),\n",
              " ('struggled', 1),\n",
              " ('earlier', 1),\n",
              " ('concerning', 1),\n",
              " ('dealing', 1),\n",
              " ('all', 1),\n",
              " ('interactive', 1),\n",
              " ('scheme', 1),\n",
              " ('handling', 1),\n",
              " ('23', 1),\n",
              " ('latencies', 1),\n",
              " ('1ms', 1),\n",
              " ('experimental', 1),\n",
              " ('while', 1),\n",
              " ('future', 1),\n",
              " ('building', 1),\n",
              " ('continue', 1),\n",
              " ('recommends', 1),\n",
              " ('porting', 1),\n",
              " ('makes', 3),\n",
              " ('lot', 1),\n",
              " ('bearable', 1),\n",
              " ('existing', 1),\n",
              " ('apply', 1),\n",
              " ('tensorflow', 1),\n",
              " ('statements', 1),\n",
              " ('learn', 1),\n",
              " ('highly', 1),\n",
              " ('evan', 1),\n",
              " ('heitman', 1),\n",
              " ('neanderthal', 1),\n",
              " ('lays', 1),\n",
              " ('relatively', 1),\n",
              " ('terms', 1),\n",
              " ('guides', 1),\n",
              " ('article', 1),\n",
              " ('scientist', 1),\n",
              " ('perspective', 1),\n",
              " ('sense', 1),\n",
              " ('critical', 1)]"
            ]
          },
          "metadata": {},
          "execution_count": 51
        }
      ],
      "source": [
        "text_rdd.groupByKey().mapValues(len).collect()"
      ]
    },
    {
      "cell_type": "markdown",
      "metadata": {
        "id": "NGHXTxQElEki"
      },
      "source": [
        "sortByKey"
      ]
    },
    {
      "cell_type": "code",
      "execution_count": 52,
      "metadata": {
        "id": "ZS4CyLFVlGWe",
        "colab": {
          "base_uri": "https://localhost:8080/"
        },
        "outputId": "540f2fb7-591d-414c-bdbc-abb63f08b3e2"
      },
      "outputs": [
        {
          "output_type": "execute_result",
          "data": {
            "text/plain": [
              "[('10', 1),\n",
              " ('11', 1),\n",
              " ('16', 1),\n",
              " ('1ms', 1),\n",
              " ('1x', 1),\n",
              " ('20', 1),\n",
              " ('2009', 1),\n",
              " ('2012', 1),\n",
              " ('23', 1),\n",
              " ('24', 1),\n",
              " ('2x', 3),\n",
              " ('50', 1),\n",
              " ('5g', 1),\n",
              " ('a', 4),\n",
              " ('able', 1),\n",
              " ('abstraction', 6),\n",
              " ('abstracts', 1),\n",
              " ('according', 1),\n",
              " ('accumulators', 1),\n",
              " ('achieved', 1),\n",
              " ('across', 5),\n",
              " ('acyclic', 1),\n",
              " ('added', 2),\n",
              " ('addition', 1),\n",
              " ('additional', 1),\n",
              " ('advantage', 4),\n",
              " ('advantages', 1),\n",
              " ('afforded', 1),\n",
              " ('aggregation', 1),\n",
              " ('aggregations', 1),\n",
              " ('algorithm', 1),\n",
              " ('algorithms', 7),\n",
              " ('all', 1),\n",
              " ('allocating', 1),\n",
              " ('allowing', 3),\n",
              " ('allows', 2),\n",
              " ('alluxio', 1),\n",
              " ('almost', 1),\n",
              " ('alone', 1),\n",
              " ('alongside', 1),\n",
              " ('als', 1),\n",
              " ('also', 15),\n",
              " ('alternating', 1),\n",
              " ('although', 1),\n",
              " ('amazon', 3),\n",
              " ('among', 2),\n",
              " ('amplab', 3),\n",
              " ('analysis', 2),\n",
              " ('analysts', 1),\n",
              " ('analytics', 5),\n",
              " ('anonymous', 1),\n",
              " ('apache', 56),\n",
              " ('apex', 1),\n",
              " ('api', 14),\n",
              " ('api27', 1),\n",
              " ('api67', 1),\n",
              " ('apis', 3),\n",
              " ('apple', 1),\n",
              " ('application', 8),\n",
              " ('applications', 5),\n",
              " ('applied', 1),\n",
              " ('applies', 1),\n",
              " ('apply', 1),\n",
              " ('applying', 1),\n",
              " ('approach', 3),\n",
              " ('architectural', 1),\n",
              " ('architecture', 1),\n",
              " ('architecture1920', 1),\n",
              " ('argue', 1),\n",
              " ('argument', 1),\n",
              " ('around', 1),\n",
              " ('article', 1),\n",
              " ('as', 2),\n",
              " ('assigned', 1),\n",
              " ('at', 2),\n",
              " ('attached', 1),\n",
              " ('available', 2),\n",
              " ('away', 1),\n",
              " ('azure', 1),\n",
              " ('back', 1),\n",
              " ('bagel', 1),\n",
              " ('banks', 1),\n",
              " ('based', 3),\n",
              " ('basic', 2),\n",
              " ('basics', 1),\n",
              " ('batch', 6),\n",
              " ('bearable', 1),\n",
              " ('because', 1),\n",
              " ('become', 3),\n",
              " ('beginnings', 1),\n",
              " ('behind', 1),\n",
              " ('benchmarks', 1),\n",
              " ('berkeley', 2),\n",
              " ('berkeleys', 1),\n",
              " ('besides', 2),\n",
              " ('better', 1),\n",
              " ('big', 6),\n",
              " ('bindings', 1),\n",
              " ('bit', 1),\n",
              " ('borrowed', 1),\n",
              " ('box', 2),\n",
              " ('breaking', 1),\n",
              " ('bringing', 1),\n",
              " ('broadcast', 1),\n",
              " ('brought', 1),\n",
              " ('buckets', 1),\n",
              " ('building', 1),\n",
              " ('builds', 1),\n",
              " ('built', 2),\n",
              " ('builtin', 2),\n",
              " ('bundles', 1),\n",
              " ('burdens', 1),\n",
              " ('but', 3),\n",
              " ('california', 1),\n",
              " ('call', 1),\n",
              " ('called', 2),\n",
              " ('calls', 1),\n",
              " ('canonical', 1),\n",
              " ('capability', 1),\n",
              " ('care', 1),\n",
              " ('case', 2),\n",
              " ('cassandra', 2),\n",
              " ('cassandra14', 1),\n",
              " ('catalyst', 2),\n",
              " ('center', 1),\n",
              " ('centered', 1),\n",
              " ('certain', 1),\n",
              " ('choice', 1),\n",
              " ('cio', 1),\n",
              " ('class', 1),\n",
              " ('classification', 2),\n",
              " ('classifiers', 1),\n",
              " ('cloud', 3),\n",
              " ('cloudera', 1),\n",
              " ('cluster', 12),\n",
              " ('cluster2', 1),\n",
              " ('clustering', 3),\n",
              " ('clusters', 2),\n",
              " ('code', 8),\n",
              " ('codebase', 1),\n",
              " ('codebases', 1),\n",
              " ('collection', 1),\n",
              " ('columns', 1),\n",
              " ('combining', 1),\n",
              " ('comes', 3),\n",
              " ('commandline', 1),\n",
              " ('commands', 1),\n",
              " ('common', 2),\n",
              " ('commonly', 1),\n",
              " ('companies', 2),\n",
              " ('company', 1),\n",
              " ('compared', 2),\n",
              " ('comparison', 1),\n",
              " ('compiletime', 1),\n",
              " ('completely', 2),\n",
              " ('complexity', 1),\n",
              " ('component', 2),\n",
              " ('components', 2),\n",
              " ('comprehensive', 1),\n",
              " ('computers', 1),\n",
              " ('computes', 1),\n",
              " ('computing', 5),\n",
              " ('concept', 3),\n",
              " ('concerning', 1),\n",
              " ('concerns', 1),\n",
              " ('connect', 1),\n",
              " ('connectors', 1),\n",
              " ('considered', 1),\n",
              " ('consisting', 1),\n",
              " ('consists', 1),\n",
              " ('construct', 1),\n",
              " ('consume', 1),\n",
              " ('contain', 1),\n",
              " ('contained', 1),\n",
              " ('continue', 1),\n",
              " ('continuous', 4),\n",
              " ('convenience', 1),\n",
              " ('converts', 1),\n",
              " ('core', 9),\n",
              " ('cores', 1),\n",
              " ('could', 2),\n",
              " ('count', 1),\n",
              " ('counterpart', 1),\n",
              " ('covers', 1),\n",
              " ('cpu', 1),\n",
              " ('create', 1),\n",
              " ('created', 1),\n",
              " ('creates', 1),\n",
              " ('creating', 2),\n",
              " ('critical', 1),\n",
              " ('criticism', 1),\n",
              " ('crunch', 1),\n",
              " ('custom', 4),\n",
              " ('daemons', 1),\n",
              " ('dag', 3),\n",
              " ('data', 44),\n",
              " ('database26', 1),\n",
              " ('databases', 1),\n",
              " ('databasestyle', 1),\n",
              " ('databricks', 3),\n",
              " ('dataflow', 1),\n",
              " ('dataframe', 3),\n",
              " ('dataframes', 4),\n",
              " ('dataframesa', 1),\n",
              " ('dataproc', 1),\n",
              " ('dataset', 7),\n",
              " ('datasets', 2),\n",
              " ('datastores', 1),\n",
              " ('days', 1),\n",
              " ('dealing', 1),\n",
              " ('deep', 7),\n",
              " ('deliberately', 1),\n",
              " ('delivery', 1),\n",
              " ('demand', 1),\n",
              " ('deployed', 2),\n",
              " ('deprecated', 1),\n",
              " ('deprecated45', 1),\n",
              " ('design', 1),\n",
              " ('despite', 1),\n",
              " ('details', 1),\n",
              " ('determines', 1),\n",
              " ('developed', 2),\n",
              " ('developer', 1),\n",
              " ('developerfriendly', 1),\n",
              " ('developers', 6),\n",
              " ('developing', 1),\n",
              " ('development', 2),\n",
              " ('different', 3),\n",
              " ('directed', 1),\n",
              " ('disk', 3),\n",
              " ('diskbased', 2),\n",
              " ('disparate', 1),\n",
              " ('dispatching', 1),\n",
              " ('distribute', 1),\n",
              " ('distributed', 23),\n",
              " ('distributes', 1),\n",
              " ('distribution', 1),\n",
              " ('distributions', 2),\n",
              " ('dive', 1),\n",
              " ('docker', 1),\n",
              " ('document', 1),\n",
              " ('domain', 1),\n",
              " ('domainspecific', 1),\n",
              " ('donated', 2),\n",
              " ('done', 1),\n",
              " ('download', 1),\n",
              " ('driver', 3),\n",
              " ('dsl', 1),\n",
              " ('due', 2),\n",
              " ('duration', 1),\n",
              " ('each', 1),\n",
              " ('earlier', 1),\n",
              " ('early', 1),\n",
              " ('ease', 1),\n",
              " ('easier', 1),\n",
              " ('easy', 2),\n",
              " ('easytouse', 1),\n",
              " ('ecosystem', 1),\n",
              " ('edges', 1),\n",
              " ('efficiently', 1),\n",
              " ('either', 2),\n",
              " ('employs', 1),\n",
              " ('emr', 1),\n",
              " ('enables', 1),\n",
              " ('enabling', 1),\n",
              " ('encouraged3', 1),\n",
              " ('engine', 4),\n",
              " ('engines', 1),\n",
              " ('enterprise', 2),\n",
              " ('entire', 1),\n",
              " ('environments', 1),\n",
              " ('equal', 1),\n",
              " ('especially', 1),\n",
              " ('essence', 1),\n",
              " ('essentially', 1),\n",
              " ('evan', 1),\n",
              " ('even', 5),\n",
              " ('event', 2),\n",
              " ('eventtime', 1),\n",
              " ('everybody', 1),\n",
              " ('example', 2),\n",
              " ('execute', 1),\n",
              " ('executed', 2),\n",
              " ('execution', 2),\n",
              " ('executor', 2),\n",
              " ('executors', 2),\n",
              " ('existing', 1),\n",
              " ('experimental', 1),\n",
              " ('exposed', 1),\n",
              " ('extended', 1),\n",
              " ('extraction', 1),\n",
              " ('facebook', 1),\n",
              " ('facilitates', 1),\n",
              " ('facilitating', 1),\n",
              " ('facilities', 1),\n",
              " ('fashion', 1),\n",
              " ('fast', 3),\n",
              " ('faster', 2),\n",
              " ('fault', 1),\n",
              " ('faulttolerance', 1),\n",
              " ('faulttolerant', 1),\n",
              " ('feature', 1),\n",
              " ('file', 4),\n",
              " ('files', 2),\n",
              " ('filter', 1),\n",
              " ('filtering', 2),\n",
              " ('find', 2),\n",
              " ('first', 1),\n",
              " ('flatmap', 1),\n",
              " ('flink', 1),\n",
              " ('flink21', 1),\n",
              " ('flume', 1),\n",
              " ('focused', 1),\n",
              " ('followed', 1),\n",
              " ('following', 1),\n",
              " ('for', 2),\n",
              " ('forces', 1),\n",
              " ('forests', 1),\n",
              " ('form', 2),\n",
              " ('formally', 1),\n",
              " ('formed', 1),\n",
              " ('forms', 1),\n",
              " ('found', 1),\n",
              " ('foundation', 4),\n",
              " ('founders', 1),\n",
              " ('framework', 9),\n",
              " ('frameworks', 3),\n",
              " ('frequencies', 1),\n",
              " ('friendliness', 1),\n",
              " ('friendly', 1),\n",
              " ('from', 1),\n",
              " ('full', 1),\n",
              " ('fully', 1),\n",
              " ('function', 4),\n",
              " ('functional', 2),\n",
              " ('functionalhigherorder', 1),\n",
              " ('functionalities', 1),\n",
              " ('functionality', 1),\n",
              " ('functions', 2),\n",
              " ('fundamental', 1),\n",
              " ('future', 1),\n",
              " ('gain', 1),\n",
              " ('gained', 1),\n",
              " ('games', 1),\n",
              " ('general', 1),\n",
              " ('giants', 1),\n",
              " ('giraph', 1),\n",
              " ('go', 1),\n",
              " ('google', 2),\n",
              " ('governments', 1),\n",
              " ('graph', 9),\n",
              " ('graphframes', 1),\n",
              " ('graphprocessing', 1),\n",
              " ('graphs', 6),\n",
              " ('graphx', 7),\n",
              " ('grunt', 1),\n",
              " ('guide', 1),\n",
              " ('guides', 1),\n",
              " ('hadoop', 11),\n",
              " ('handle', 1),\n",
              " ('handling', 1),\n",
              " ('hbase', 1),\n",
              " ('hdfs', 1),\n",
              " ('hdfs12', 1),\n",
              " ('hdinsight', 1),\n",
              " ('heart', 1),\n",
              " ('heitman', 1),\n",
              " ('helped', 1),\n",
              " ('hiding', 1),\n",
              " ('higherlevel', 3),\n",
              " ('highly', 1),\n",
              " ('hive', 1),\n",
              " ('hortonworks', 1),\n",
              " ('however', 3),\n",
              " ('humble', 1),\n",
              " ('hundred', 1),\n",
              " ('ibm', 1),\n",
              " ('ie', 1),\n",
              " ('if', 1),\n",
              " ('immutable', 4),\n",
              " ('imperative', 1),\n",
              " ('impetus', 1),\n",
              " ('implementation', 6),\n",
              " ('implementation29', 1),\n",
              " ('implementations', 2),\n",
              " ('implemented', 2),\n",
              " ('implicit', 1),\n",
              " ('important', 3),\n",
              " ('imported', 1),\n",
              " ('impressive', 1),\n",
              " ('in', 7),\n",
              " ('include', 2),\n",
              " ('included', 1),\n",
              " ('includes', 1),\n",
              " ('including', 6),\n",
              " ('incoming', 2),\n",
              " ('increasingly', 1),\n",
              " ('infinite', 1),\n",
              " ('infoworld', 1),\n",
              " ('ingests', 1),\n",
              " ('initial', 1),\n",
              " ('initially', 1),\n",
              " ('inmemory', 2),\n",
              " ('input', 2),\n",
              " ('install', 1),\n",
              " ('instead', 1),\n",
              " ('integrated', 1),\n",
              " ('interactive', 1),\n",
              " ('interactiveexploratory', 1),\n",
              " ('interface', 10),\n",
              " ('interfaces', 1),\n",
              " ('introduced', 1),\n",
              " ('invokes', 1),\n",
              " ('involving', 1),\n",
              " ('io', 2),\n",
              " ('it', 7),\n",
              " ('item', 1),\n",
              " ('items', 2),\n",
              " ('iterative', 2),\n",
              " ('java', 5),\n",
              " ('javabased', 1),\n",
              " ('jdbc', 1),\n",
              " ('jobs', 3),\n",
              " ('joining', 1),\n",
              " ('joins', 1),\n",
              " ('json', 1),\n",
              " ('julia17', 1),\n",
              " ('jvm', 3),\n",
              " ('kafka', 1),\n",
              " ('keeping', 1),\n",
              " ('kept', 1),\n",
              " ('keras', 1),\n",
              " ('key', 2),\n",
              " ('kinesis', 1),\n",
              " ('kmeans', 1),\n",
              " ('known', 1),\n",
              " ('kubernetes', 2),\n",
              " ('kudu', 1),\n",
              " ('lack', 1),\n",
              " ('lambda', 1),\n",
              " ('language', 2),\n",
              " ('languages', 3),\n",
              " ('large', 4),\n",
              " ('largescale', 1),\n",
              " ('late', 1),\n",
              " ('latencies', 1),\n",
              " ('latency', 2),\n",
              " ('later', 2),\n",
              " ('launch', 2),\n",
              " ('layer', 1),\n",
              " ('lays', 1),\n",
              " ('lazy', 1),\n",
              " ('leading', 1),\n",
              " ('leads', 1),\n",
              " ('learn', 1),\n",
              " ('learning', 15),\n",
              " ('least', 1),\n",
              " ('legacy', 1),\n",
              " ('let', 1),\n",
              " ('level', 1),\n",
              " ('libraries', 2),\n",
              " ('like', 4),\n",
              " ('likely', 2),\n",
              " ('limitations', 1),\n",
              " ('line', 1),\n",
              " ('lineage', 1),\n",
              " ('linear', 1),\n",
              " ('lines', 3),\n",
              " ('live', 1),\n",
              " ('local', 2),\n",
              " ('loop', 1),\n",
              " ('loss', 1),\n",
              " ('lot', 1),\n",
              " ('low', 1),\n",
              " ('lowerlevel', 1),\n",
              " ('lowlatency', 2),\n",
              " ('lustre', 1),\n",
              " ('machine', 12),\n",
              " ('machinelearning', 1),\n",
              " ('machines', 1),\n",
              " ('magnitude', 1),\n",
              " ('mahout', 2),\n",
              " ('main', 1),\n",
              " ('maintained', 2),\n",
              " ('maintaining', 1),\n",
              " ('major', 1),\n",
              " ('makes', 3),\n",
              " ('managed', 2),\n",
              " ('management', 2),\n",
              " ('manager', 2),\n",
              " ('manipulate', 1),\n",
              " ('manipulated', 1),\n",
              " ('manner', 2),\n",
              " ('manually', 1),\n",
              " ('many', 3),\n",
              " ('map', 6),\n",
              " ('mapping', 1),\n",
              " ('mapr', 1),\n",
              " ('mapreduce', 10),\n",
              " ('mapreduce29', 1),\n",
              " ('mapreducestyle', 1),\n",
              " ('maprfs13', 1),\n",
              " ('marshalling', 1),\n",
              " ('massive', 1),\n",
              " ('massively', 1),\n",
              " ('match', 1),\n",
              " ('may', 2),\n",
              " ('mean', 1),\n",
              " ('means', 1),\n",
              " ('mediate', 1),\n",
              " ('memory', 1),\n",
              " ('memory8', 1),\n",
              " ('memorybased', 1),\n",
              " ('mesos', 2),\n",
              " ('messages', 1),\n",
              " ('method', 3),\n",
              " ('microbatches', 2),\n",
              " ('microbatching', 2),\n",
              " ('microsoft', 2),\n",
              " ('minibatch', 1),\n",
              " ('minibatches', 3),\n",
              " ('mirrors', 1),\n",
              " ('misnomer', 1),\n",
              " ('mllib', 9),\n",
              " ('mode', 3),\n",
              " ('model', 1),\n",
              " ('modeling', 2),\n",
              " ('models', 4),\n",
              " ('mongodb', 2),\n",
              " ('mostly', 1),\n",
              " ('ms', 1),\n",
              " ('much', 5),\n",
              " ('multiple', 4),\n",
              " ('multiset', 1),\n",
              " ('multistage', 1),\n",
              " ('name', 1),\n",
              " ('native', 2),\n",
              " ('neanderthal', 1),\n",
              " ('near', 1),\n",
              " ('necessary', 1),\n",
              " ('need', 2),\n",
              " ('needs', 3),\n",
              " ('net', 1),\n",
              " ('net16', 2),\n",
              " ('networks', 1),\n",
              " ('neural', 1),\n",
              " ('new', 5),\n",
              " ('nine', 1),\n",
              " ('nodes', 4),\n",
              " ('nonjvm', 1),\n",
              " ('normally', 1),\n",
              " ('nosql', 1),\n",
              " ('note', 1),\n",
              " ('notebook', 1),\n",
              " ('objects', 2),\n",
              " ('obviously', 1),\n",
              " ('occurring', 1),\n",
              " ('odbcjdbc', 1),\n",
              " ('offers', 3),\n",
              " ('old', 1),\n",
              " ('one', 4),\n",
              " ('ones', 2),\n",
              " ('onpremises', 1),\n",
              " ('opensource', 1),\n",
              " ('openstack', 1),\n",
              " ('operation', 1),\n",
              " ('operational', 1),\n",
              " ('operations', 7),\n",
              " ('operator', 1),\n",
              " ('optimized', 1),\n",
              " ('optimizer', 2),\n",
              " ('orc', 1),\n",
              " ('orders', 1),\n",
              " ('originally', 3),\n",
              " ('other', 2),\n",
              " ('others', 1),\n",
              " ('out', 1),\n",
              " ('overall', 1),\n",
              " ('overhead', 1),\n",
              " ('overtaking', 1),\n",
              " ('package', 2),\n",
              " ('packages', 1),\n",
              " ('pagerank', 2),\n",
              " ('pain', 1),\n",
              " ('pair', 1),\n",
              " ('pandas', 1),\n",
              " ('paradigm', 2),\n",
              " ('parallel', 5),\n",
              " ('parallelism', 1),\n",
              " ('parquet', 1),\n",
              " ('part', 3),\n",
              " ('particular', 1),\n",
              " ('particularly', 1),\n",
              " ('passing', 1),\n",
              " ('penalty', 1),\n",
              " ('per', 1),\n",
              " ('perform', 4),\n",
              " ('performance', 2),\n",
              " ('performs', 2),\n",
              " ('perspective', 1),\n",
              " ('pipeline', 2),\n",
              " ('pipelines', 6),\n",
              " ('platform', 2),\n",
              " ('pointing', 1),\n",
              " ('points', 1),\n",
              " ('popular', 1),\n",
              " ('porting', 1),\n",
              " ('possible', 1),\n",
              " ('power', 2),\n",
              " ('predecessor', 1),\n",
              " ('pregel', 1),\n",
              " ('previously', 1),\n",
              " ('primary', 1),\n",
              " ('prints', 1),\n",
              " ('process', 4),\n",
              " ('processes', 1),\n",
              " ('processing', 19),\n",
              " ('produce', 1),\n",
              " ('produced', 1),\n",
              " ('production', 1),\n",
              " ('program', 3),\n",
              " ('programming', 9),\n",
              " ('programs', 3),\n",
              " ('project', 5),\n",
              " ('prominence', 1),\n",
              " ('properties', 1),\n",
              " ('property', 1),\n",
              " ('provided', 2),\n",
              " ('provides', 10),\n",
              " ('providing', 1),\n",
              " ('pseudodistributed', 1),\n",
              " ('pulling', 1),\n",
              " ('pure', 1),\n",
              " ('purposes', 1),\n",
              " ('python', 8),\n",
              " ('qualities', 1),\n",
              " ('queries', 4),\n",
              " ('query', 1),\n",
              " ('querying', 2),\n",
              " ('quickly', 1),\n",
              " ('r', 4),\n",
              " ('random', 1),\n",
              " ('rather', 2),\n",
              " ('rdd', 15),\n",
              " ('rddcentric', 1),\n",
              " ('rddoriented', 1),\n",
              " ('rdds', 10),\n",
              " ('read', 1),\n",
              " ('reading', 1),\n",
              " ('readonly', 2),\n",
              " ('ready', 1),\n",
              " ('real', 1),\n",
              " ('realtime', 3),\n",
              " ('recommend', 1),\n",
              " ('recommends', 1),\n",
              " ('reconstructed', 1),\n",
              " ('reduce', 3),\n",
              " ('reducebykey', 1),\n",
              " ('reduced', 2),\n",
              " ('reducing', 2),\n",
              " ('reduction', 1),\n",
              " ('reductions', 1),\n",
              " ('reference', 1),\n",
              " ('registered', 1),\n",
              " ('regression', 1),\n",
              " ('relatively', 1),\n",
              " ('released', 1),\n",
              " ('relied', 1),\n",
              " ('repeated', 1),\n",
              " ('report', 1),\n",
              " ('represents', 1),\n",
              " ('require', 2),\n",
              " ('required', 4),\n",
              " ('requirements', 1),\n",
              " ('requires', 2),\n",
              " ('requiring', 1),\n",
              " ('research', 1),\n",
              " ('resilient', 2),\n",
              " ('resource', 1),\n",
              " ('resources', 1),\n",
              " ('response', 2),\n",
              " ('responses', 1),\n",
              " ('restricted', 3),\n",
              " ('results', 2),\n",
              " ('review', 1),\n",
              " ('roadmap', 1),\n",
              " ('robust', 1),\n",
              " ('run', 7),\n",
              " ('running', 3),\n",
              " ('runs', 1),\n",
              " ('s3', 2),\n",
              " ('sampling', 1),\n",
              " ('saved', 1),\n",
              " ('scala', 6),\n",
              " ('scalabased', 1),\n",
              " ('scalable', 1),\n",
              " ('scale', 2),\n",
              " ('scaled', 1),\n",
              " ('scales', 1),\n",
              " ('scenario', 1),\n",
              " ('scenarios', 1),\n",
              " ('schedules', 1),\n",
              " ('scheduling', 3),\n",
              " ('scheme', 1),\n",
              " ('science', 1),\n",
              " ('scientist', 1),\n",
              " ('scientists', 1),\n",
              " ('scripts', 1),\n",
              " ('second', 1),\n",
              " ('see', 1),\n",
              " ('seek', 1),\n",
              " ('selecting', 1),\n",
              " ('selection', 1),\n",
              " ('selections', 1),\n",
              " ('semistructured', 1),\n",
              " ('sense', 1),\n",
              " ('separate', 4),\n",
              " ('sequence', 2),\n",
              " ('series', 1),\n",
              " ('server', 1),\n",
              " ('service', 1),\n",
              " ('set', 5),\n",
              " ('sets', 2),\n",
              " ('several', 1),\n",
              " ('share', 1),\n",
              " ('shared', 2),\n",
              " ('shark', 1),\n",
              " ('shipped', 1),\n",
              " ('shoulders', 1),\n",
              " ('shown', 1),\n",
              " ('simple', 6),\n",
              " ('simplifies', 1),\n",
              " ('simply', 1),\n",
              " ('since', 1),\n",
              " ('single', 3),\n",
              " ('situations', 1),\n",
              " ('sockets22', 1),\n",
              " ('software', 2),\n",
              " ('solution', 2),\n",
              " ('solves', 1),\n",
              " ('some', 1),\n",
              " ('something', 1),\n",
              " ('spark', 110),\n",
              " ('spark10', 1),\n",
              " ('speed', 1),\n",
              " ('speedup', 1),\n",
              " ('split', 2),\n",
              " ('splits', 1),\n",
              " ('sql', 17),\n",
              " ('sql2003compliant', 1),\n",
              " ('squares', 1),\n",
              " ('stages', 2),\n",
              " ('standalone', 2),\n",
              " ('standard', 3),\n",
              " ('started', 1),\n",
              " ('state', 1),\n",
              " ('statements', 1),\n",
              " ('statistical', 1),\n",
              " ('still', 2),\n",
              " ('storage', 3),\n",
              " ('store', 1),\n",
              " ('stores', 3),\n",
              " ('storm', 3),\n",
              " ('stream', 2),\n",
              " ('streaming', 36),\n",
              " ('streaming23', 1),\n",
              " ('streamingcapable', 1),\n",
              " ('streams', 1),\n",
              " ('strongly', 1),\n",
              " ('structure', 3),\n",
              " ('structured', 13),\n",
              " ('structures', 1),\n",
              " ('struggled', 1),\n",
              " ('style', 1),\n",
              " ('style2', 1),\n",
              " ('suggests', 1),\n",
              " ('support', 8),\n",
              " ('supported', 3),\n",
              " ('supports', 5),\n",
              " ('swapped', 1),\n",
              " ('swarm', 1),\n",
              " ('swift', 1),\n",
              " ('sync', 1),\n",
              " ('system', 5),\n",
              " ('system15', 1),\n",
              " ('systems', 1),\n",
              " ('take', 3),\n",
              " ('takes', 2),\n",
              " ('taking', 1),\n",
              " ('tandem', 1),\n",
              " ('task', 1),\n",
              " ('tasks', 8),\n",
              " ('tcpip', 1),\n",
              " ('team', 1),\n",
              " ('tech', 1),\n",
              " ('techniques', 1),\n",
              " ('technology', 2),\n",
              " ('telecommunications', 1),\n",
              " ('tend', 1),\n",
              " ('tensorflow', 1),\n",
              " ('terms', 1),\n",
              " ('testing', 2),\n",
              " ('text', 2),\n",
              " ('the', 9),\n",
              " ('these', 5),\n",
              " ('things', 1),\n",
              " ('this', 3),\n",
              " ('though', 1),\n",
              " ('thus', 3),\n",
              " ('times', 4),\n",
              " ('today', 1),\n",
              " ('tolerance', 1),\n",
              " ('tools', 1),\n",
              " ('top', 5),\n",
              " ('track', 1),\n",
              " ('traction', 1),\n",
              " ('traditional', 2),\n",
              " ('trained', 1),\n",
              " ('training', 2),\n",
              " ('transactional', 1),\n",
              " ('transform', 1),\n",
              " ('transformations', 2),\n",
              " ('tutorials', 1),\n",
              " ('twitter', 1),\n",
              " ('two', 6),\n",
              " ('twostage', 1),\n",
              " ('type', 1),\n",
              " ('typechecking', 1),\n",
              " ('typed', 1),\n",
              " ('typical', 1),\n",
              " ('uc', 2),\n",
              " ('udfs', 1),\n",
              " ('underlies', 1),\n",
              " ('unified', 2),\n",
              " ('university', 1),\n",
              " ('unlike', 1),\n",
              " ('unsuitable', 1),\n",
              " ('updated', 1),\n",
              " ('usable', 1),\n",
              " ('use', 9),\n",
              " ('used', 8),\n",
              " ('user', 1),\n",
              " ('userdefined', 1),\n",
              " ('users', 3),\n",
              " ('uses', 1),\n",
              " ('using', 5),\n",
              " ('usually', 1),\n",
              " ('utilized', 1),\n",
              " ('variables', 2),\n",
              " ('variant', 1),\n",
              " ('variety', 2),\n",
              " ('version', 1),\n",
              " ('vertices28', 1),\n",
              " ('via', 1),\n",
              " ('viewed', 1),\n",
              " ('visit', 1),\n",
              " ('vowpal', 1),\n",
              " ('vs', 2),\n",
              " ('wabbit24', 1),\n",
              " ('want', 1),\n",
              " ('way', 1),\n",
              " ('way2', 1),\n",
              " ('ways', 1),\n",
              " ('we', 1),\n",
              " ('webbased', 1),\n",
              " ('well', 4),\n",
              " ('whereas', 1),\n",
              " ('while', 1),\n",
              " ('why', 1),\n",
              " ('wide', 1),\n",
              " ('wins', 1),\n",
              " ('within', 1),\n",
              " ('words', 2),\n",
              " ('work', 2),\n",
              " ('worker', 1),\n",
              " ('workers', 1),\n",
              " ('working', 1),\n",
              " ('works', 2),\n",
              " ('world', 3),\n",
              " ('worlds', 1),\n",
              " ('worth', 1),\n",
              " ('would', 1),\n",
              " ('write', 1),\n",
              " ('writing', 5),\n",
              " ('written', 2),\n",
              " ('yarn', 2),\n",
              " ('you', 3),\n",
              " ('zeromq', 1)]"
            ]
          },
          "metadata": {},
          "execution_count": 52
        }
      ],
      "source": [
        "text_rdd.groupByKey().mapValues(len).sortByKey().collect()"
      ]
    },
    {
      "cell_type": "markdown",
      "metadata": {
        "id": "XfqBo3xRlYbA"
      },
      "source": [
        "И так на самом деле много методов, но предалагаю написать подсчет частоты слов и сделаем это в стиле программ на java"
      ]
    },
    {
      "cell_type": "code",
      "execution_count": 53,
      "metadata": {
        "id": "SpcSn6-hllUm"
      },
      "outputs": [],
      "source": [
        "text_rdd = sc.textFile('spark_text.txt')"
      ]
    },
    {
      "cell_type": "code",
      "execution_count": 54,
      "metadata": {
        "id": "PNKk3doilxe3"
      },
      "outputs": [],
      "source": [
        "result = text_rdd.filter(lambda x: x != '')\\\n",
        "                 .flatMap(mapper_text)\\\n",
        "                 .groupByKey()\\\n",
        "                 .mapValues(len)\\\n",
        "                 .sortBy(lambda x: x[1], ascending=False)\\\n",
        "                 .collect()"
      ]
    },
    {
      "cell_type": "code",
      "execution_count": 55,
      "metadata": {
        "id": "j1tJ2dCcmh8z",
        "colab": {
          "base_uri": "https://localhost:8080/"
        },
        "outputId": "22d71789-d395-4064-a399-7c4db758d631"
      },
      "outputs": [
        {
          "output_type": "execute_result",
          "data": {
            "text/plain": [
              "[('spark', 110),\n",
              " ('apache', 56),\n",
              " ('data', 44),\n",
              " ('streaming', 36),\n",
              " ('distributed', 23),\n",
              " ('processing', 19),\n",
              " ('sql', 17),\n",
              " ('learning', 15),\n",
              " ('rdd', 15),\n",
              " ('also', 15)]"
            ]
          },
          "metadata": {},
          "execution_count": 55
        }
      ],
      "source": [
        "result[:10]"
      ]
    },
    {
      "cell_type": "markdown",
      "metadata": {
        "id": "MDSTE1oloeOq"
      },
      "source": [
        "Забыли про reduceByKey"
      ]
    },
    {
      "cell_type": "code",
      "execution_count": 56,
      "metadata": {
        "id": "gpv46Uxiobm8",
        "colab": {
          "base_uri": "https://localhost:8080/"
        },
        "outputId": "570d38d2-9664-4301-8004-bda1a9bd0dbb"
      },
      "outputs": [
        {
          "output_type": "execute_result",
          "data": {
            "text/plain": [
              "[('spark', 110),\n",
              " ('apache', 56),\n",
              " ('data', 44),\n",
              " ('streaming', 36),\n",
              " ('distributed', 23),\n",
              " ('processing', 19),\n",
              " ('sql', 17),\n",
              " ('learning', 15),\n",
              " ('rdd', 15),\n",
              " ('also', 15)]"
            ]
          },
          "metadata": {},
          "execution_count": 56
        }
      ],
      "source": [
        "text_rdd.filter(lambda x: x != '')\\\n",
        "        .flatMap(mapper_text)\\\n",
        "        .reduceByKey(lambda x, y: x + y)\\\n",
        "        .sortBy(lambda x: x[1], ascending=False)\\\n",
        "        .collect()[:10]"
      ]
    },
    {
      "cell_type": "markdown",
      "metadata": {
        "id": "-PxSwc7QrVk7"
      },
      "source": [
        "Стоит заметить, что `groupByKey()` предполагает перемещение всех записей с одним ключом на один экзекьютор. В случае очень скошенных распределений это может привести к падению экзекьютора с OOM. Поэтому всегда при группировках стоит подумать об использовании `reduceByKey()`."
      ]
    },
    {
      "cell_type": "markdown",
      "metadata": {
        "id": "hlu6iY8qGYlw"
      },
      "source": [
        "Так, на лекции было что-то про count, который не делает shuffle да и вообще можно проще написать?"
      ]
    },
    {
      "cell_type": "code",
      "execution_count": 57,
      "metadata": {
        "id": "L-esll2IFI3M"
      },
      "outputs": [],
      "source": [
        "def mapper_text_simple(text):\n",
        "    clean_text = re.sub(rf\"[{string.punctuation}]\", \"\", text)\n",
        "    words = nltk.word_tokenize(clean_text)\n",
        "    words = [word.lower() for word in words \n",
        "                        if word not in stop_words]\n",
        "    return words"
      ]
    },
    {
      "cell_type": "code",
      "execution_count": 58,
      "metadata": {
        "id": "9gs_zfIJsT3f",
        "colab": {
          "base_uri": "https://localhost:8080/"
        },
        "outputId": "5bf206d0-0e14-4197-b45c-f8141fd45434"
      },
      "outputs": [
        {
          "output_type": "stream",
          "name": "stdout",
          "text": [
            "[('spark', 110), ('apache', 56), ('data', 44), ('streaming', 36), ('distributed', 23), ('processing', 19), ('sql', 17), ('rdd', 15), ('learning', 15), ('also', 15)]\n"
          ]
        }
      ],
      "source": [
        "result = text_rdd.filter(lambda x: x != '')\\\n",
        "                 .flatMap(mapper_text_simple)\\\n",
        "                 .countByValue()\n",
        "result = sorted(result.items(), key=lambda x: x[1], reverse=True)\n",
        "print(result[:10])"
      ]
    },
    {
      "cell_type": "markdown",
      "metadata": {
        "id": "P7FoUF1mqImQ"
      },
      "source": [
        "Замеры"
      ]
    },
    {
      "cell_type": "code",
      "execution_count": 59,
      "metadata": {
        "id": "iBdtooISqQ8U",
        "colab": {
          "base_uri": "https://localhost:8080/"
        },
        "outputId": "9e38a916-02d8-40f8-81ae-24c6d0fad154"
      },
      "outputs": [
        {
          "output_type": "stream",
          "name": "stdout",
          "text": [
            "1.12 s ± 232 ms per loop (mean ± std. dev. of 7 runs, 1 loop each)\n"
          ]
        }
      ],
      "source": [
        "%%timeit\n",
        "\n",
        "text_rdd.filter(lambda x: x != '')\\\n",
        "        .flatMap(mapper_text)\\\n",
        "        .groupByKey()\\\n",
        "        .mapValues(len)\\\n",
        "        .sortBy(lambda x: x[1], ascending=False)\\\n",
        "        .collect()[:10]"
      ]
    },
    {
      "cell_type": "code",
      "execution_count": 60,
      "metadata": {
        "id": "BdAdFM-rqHxX",
        "colab": {
          "base_uri": "https://localhost:8080/"
        },
        "outputId": "84e108fa-8b63-4690-a08e-378858218397"
      },
      "outputs": [
        {
          "output_type": "stream",
          "name": "stdout",
          "text": [
            "1.08 s ± 256 ms per loop (mean ± std. dev. of 7 runs, 1 loop each)\n"
          ]
        }
      ],
      "source": [
        "%%timeit\n",
        "\n",
        "text_rdd.filter(lambda x: x != '')\\\n",
        "        .flatMap(mapper_text)\\\n",
        "        .reduceByKey(lambda x, y: x + y)\\\n",
        "        .sortBy(lambda x: x[1], ascending=False)\\\n",
        "        .collect()[:10]"
      ]
    },
    {
      "cell_type": "code",
      "execution_count": 61,
      "metadata": {
        "id": "xD4ne4tmqfAI",
        "colab": {
          "base_uri": "https://localhost:8080/"
        },
        "outputId": "308550c4-e1dc-48eb-8667-e4a2e6423b72"
      },
      "outputs": [
        {
          "output_type": "stream",
          "name": "stdout",
          "text": [
            "177 ms ± 37.2 ms per loop (mean ± std. dev. of 7 runs, 1 loop each)\n"
          ]
        }
      ],
      "source": [
        "%%timeit\n",
        "\n",
        "result = text_rdd.filter(lambda x: x != '')\\\n",
        "                 .flatMap(mapper_text_simple)\\\n",
        "                 .countByValue()\n",
        "result = sorted(result.items(), key=lambda x: x[1], reverse=True)[:10]"
      ]
    },
    {
      "cell_type": "markdown",
      "metadata": {
        "id": "iNLF_SEaG_Mr"
      },
      "source": [
        "**Join'ы**"
      ]
    },
    {
      "cell_type": "markdown",
      "metadata": {
        "id": "At9Da6ZlHIcs"
      },
      "source": [
        "Тут просто на игрушечном примере пощупаем данную операцию"
      ]
    },
    {
      "cell_type": "code",
      "execution_count": 62,
      "metadata": {
        "id": "-HQ4wqICHPNK"
      },
      "outputs": [],
      "source": [
        "rdd_a = sc.parallelize([\n",
        "                        ('a', [1, 2]),\n",
        "                        ('b', [2, 4])])\n",
        "\n",
        "rdd_b = sc.parallelize([\n",
        "                        ('a', [10]),\n",
        "                        ('c', [11])])"
      ]
    },
    {
      "cell_type": "code",
      "execution_count": 63,
      "metadata": {
        "id": "FOCGK6dVHqCG",
        "colab": {
          "base_uri": "https://localhost:8080/"
        },
        "outputId": "0f5a3198-1de4-437a-a149-a359f96bd3c9"
      },
      "outputs": [
        {
          "output_type": "execute_result",
          "data": {
            "text/plain": [
              "[('a', ([1, 2], [10]))]"
            ]
          },
          "metadata": {},
          "execution_count": 63
        }
      ],
      "source": [
        "rdd_a.join(rdd_b).collect()"
      ]
    },
    {
      "cell_type": "code",
      "execution_count": 64,
      "metadata": {
        "id": "EmnzobldH68k",
        "colab": {
          "base_uri": "https://localhost:8080/"
        },
        "outputId": "1e75471d-f84c-4ea2-c839-4d1aae8d8bca"
      },
      "outputs": [
        {
          "output_type": "execute_result",
          "data": {
            "text/plain": [
              "[('b', ([2, 4], None)), ('a', ([1, 2], [10]))]"
            ]
          },
          "metadata": {},
          "execution_count": 64
        }
      ],
      "source": [
        "rdd_a.leftOuterJoin(rdd_b).collect()"
      ]
    },
    {
      "cell_type": "code",
      "execution_count": 65,
      "metadata": {
        "id": "nS-DcoMEH-Mq",
        "colab": {
          "base_uri": "https://localhost:8080/"
        },
        "outputId": "d9e7d27b-38c3-4bda-ceac-654a2c85f8f7"
      },
      "outputs": [
        {
          "output_type": "execute_result",
          "data": {
            "text/plain": [
              "[('b', ([2, 4], None)), ('c', (None, [11])), ('a', ([1, 2], [10]))]"
            ]
          },
          "metadata": {},
          "execution_count": 65
        }
      ],
      "source": [
        "rdd_a.fullOuterJoin(rdd_b).collect()"
      ]
    },
    {
      "cell_type": "markdown",
      "metadata": {
        "id": "7_cvDn0sI6lS"
      },
      "source": [
        "**Домашнее задание 1**\n",
        "\n",
        "Посчитать количество рейтингов больше 4 для каждого фильма и вывести фильмы в порядке убывания количества этих оценок (можно вывести топ 10)\n",
        "\n",
        "Файл можете взять из прошлого домашнего задания + сохраните результат на диск"
      ]
    },
    {
      "cell_type": "code",
      "source": [
        "with open('user_ratedmovies.dat', 'rb') as f:\n",
        "    data = f.readlines()\n",
        "headers = data[0].decode().split('\\t')[:3]\n",
        "data = [row.decode().split('\\t')[:3] for row in data[1:]]"
      ],
      "metadata": {
        "id": "1AcawAXtRsVY"
      },
      "execution_count": 66,
      "outputs": []
    },
    {
      "cell_type": "code",
      "source": [
        "import pandas as pd\n",
        "import numpy as np\n",
        "pd.DataFrame(columns=headers, data=np.array(data).astype(np.float)).query(\"rating>4\")\\\n",
        "                                    .groupby('movieID').count()\\\n",
        "                                    .sort_values(by='rating', ascending=False)\\\n",
        "                                    .head(10)"
      ],
      "metadata": {
        "colab": {
          "base_uri": "https://localhost:8080/",
          "height": 470
        },
        "id": "fFRBRiofasj1",
        "outputId": "fd443901-6b6f-41a9-db19-3ac8c049b7e3"
      },
      "execution_count": 77,
      "outputs": [
        {
          "output_type": "stream",
          "name": "stderr",
          "text": [
            "<ipython-input-77-8a6dd900f7cc>:3: DeprecationWarning: `np.float` is a deprecated alias for the builtin `float`. To silence this warning, use `float` by itself. Doing this will not modify any behavior and is safe. If you specifically wanted the numpy scalar type, use `np.float64` here.\n",
            "Deprecated in NumPy 1.20; for more details and guidance: https://numpy.org/devdocs/release/1.20.0-notes.html#deprecations\n",
            "  pd.DataFrame(columns=headers, data=np.array(data).astype(np.float)).query(\"rating>4\")\\\n"
          ]
        },
        {
          "output_type": "execute_result",
          "data": {
            "text/plain": [
              "         userID  rating\n",
              "movieID                \n",
              "2571.0      900     900\n",
              "318.0       887     887\n",
              "296.0       878     878\n",
              "2959.0      828     828\n",
              "4993.0      756     756\n",
              "7153.0      719     719\n",
              "5952.0      697     697\n",
              "858.0       690     690\n",
              "50.0        688     688\n",
              "2858.0      680     680"
            ],
            "text/html": [
              "\n",
              "  <div id=\"df-804584db-12a2-4efe-93dc-2afbb7aa1e51\">\n",
              "    <div class=\"colab-df-container\">\n",
              "      <div>\n",
              "<style scoped>\n",
              "    .dataframe tbody tr th:only-of-type {\n",
              "        vertical-align: middle;\n",
              "    }\n",
              "\n",
              "    .dataframe tbody tr th {\n",
              "        vertical-align: top;\n",
              "    }\n",
              "\n",
              "    .dataframe thead th {\n",
              "        text-align: right;\n",
              "    }\n",
              "</style>\n",
              "<table border=\"1\" class=\"dataframe\">\n",
              "  <thead>\n",
              "    <tr style=\"text-align: right;\">\n",
              "      <th></th>\n",
              "      <th>userID</th>\n",
              "      <th>rating</th>\n",
              "    </tr>\n",
              "    <tr>\n",
              "      <th>movieID</th>\n",
              "      <th></th>\n",
              "      <th></th>\n",
              "    </tr>\n",
              "  </thead>\n",
              "  <tbody>\n",
              "    <tr>\n",
              "      <th>2571.0</th>\n",
              "      <td>900</td>\n",
              "      <td>900</td>\n",
              "    </tr>\n",
              "    <tr>\n",
              "      <th>318.0</th>\n",
              "      <td>887</td>\n",
              "      <td>887</td>\n",
              "    </tr>\n",
              "    <tr>\n",
              "      <th>296.0</th>\n",
              "      <td>878</td>\n",
              "      <td>878</td>\n",
              "    </tr>\n",
              "    <tr>\n",
              "      <th>2959.0</th>\n",
              "      <td>828</td>\n",
              "      <td>828</td>\n",
              "    </tr>\n",
              "    <tr>\n",
              "      <th>4993.0</th>\n",
              "      <td>756</td>\n",
              "      <td>756</td>\n",
              "    </tr>\n",
              "    <tr>\n",
              "      <th>7153.0</th>\n",
              "      <td>719</td>\n",
              "      <td>719</td>\n",
              "    </tr>\n",
              "    <tr>\n",
              "      <th>5952.0</th>\n",
              "      <td>697</td>\n",
              "      <td>697</td>\n",
              "    </tr>\n",
              "    <tr>\n",
              "      <th>858.0</th>\n",
              "      <td>690</td>\n",
              "      <td>690</td>\n",
              "    </tr>\n",
              "    <tr>\n",
              "      <th>50.0</th>\n",
              "      <td>688</td>\n",
              "      <td>688</td>\n",
              "    </tr>\n",
              "    <tr>\n",
              "      <th>2858.0</th>\n",
              "      <td>680</td>\n",
              "      <td>680</td>\n",
              "    </tr>\n",
              "  </tbody>\n",
              "</table>\n",
              "</div>\n",
              "      <button class=\"colab-df-convert\" onclick=\"convertToInteractive('df-804584db-12a2-4efe-93dc-2afbb7aa1e51')\"\n",
              "              title=\"Convert this dataframe to an interactive table.\"\n",
              "              style=\"display:none;\">\n",
              "        \n",
              "  <svg xmlns=\"http://www.w3.org/2000/svg\" height=\"24px\"viewBox=\"0 0 24 24\"\n",
              "       width=\"24px\">\n",
              "    <path d=\"M0 0h24v24H0V0z\" fill=\"none\"/>\n",
              "    <path d=\"M18.56 5.44l.94 2.06.94-2.06 2.06-.94-2.06-.94-.94-2.06-.94 2.06-2.06.94zm-11 1L8.5 8.5l.94-2.06 2.06-.94-2.06-.94L8.5 2.5l-.94 2.06-2.06.94zm10 10l.94 2.06.94-2.06 2.06-.94-2.06-.94-.94-2.06-.94 2.06-2.06.94z\"/><path d=\"M17.41 7.96l-1.37-1.37c-.4-.4-.92-.59-1.43-.59-.52 0-1.04.2-1.43.59L10.3 9.45l-7.72 7.72c-.78.78-.78 2.05 0 2.83L4 21.41c.39.39.9.59 1.41.59.51 0 1.02-.2 1.41-.59l7.78-7.78 2.81-2.81c.8-.78.8-2.07 0-2.86zM5.41 20L4 18.59l7.72-7.72 1.47 1.35L5.41 20z\"/>\n",
              "  </svg>\n",
              "      </button>\n",
              "      \n",
              "  <style>\n",
              "    .colab-df-container {\n",
              "      display:flex;\n",
              "      flex-wrap:wrap;\n",
              "      gap: 12px;\n",
              "    }\n",
              "\n",
              "    .colab-df-convert {\n",
              "      background-color: #E8F0FE;\n",
              "      border: none;\n",
              "      border-radius: 50%;\n",
              "      cursor: pointer;\n",
              "      display: none;\n",
              "      fill: #1967D2;\n",
              "      height: 32px;\n",
              "      padding: 0 0 0 0;\n",
              "      width: 32px;\n",
              "    }\n",
              "\n",
              "    .colab-df-convert:hover {\n",
              "      background-color: #E2EBFA;\n",
              "      box-shadow: 0px 1px 2px rgba(60, 64, 67, 0.3), 0px 1px 3px 1px rgba(60, 64, 67, 0.15);\n",
              "      fill: #174EA6;\n",
              "    }\n",
              "\n",
              "    [theme=dark] .colab-df-convert {\n",
              "      background-color: #3B4455;\n",
              "      fill: #D2E3FC;\n",
              "    }\n",
              "\n",
              "    [theme=dark] .colab-df-convert:hover {\n",
              "      background-color: #434B5C;\n",
              "      box-shadow: 0px 1px 3px 1px rgba(0, 0, 0, 0.15);\n",
              "      filter: drop-shadow(0px 1px 2px rgba(0, 0, 0, 0.3));\n",
              "      fill: #FFFFFF;\n",
              "    }\n",
              "  </style>\n",
              "\n",
              "      <script>\n",
              "        const buttonEl =\n",
              "          document.querySelector('#df-804584db-12a2-4efe-93dc-2afbb7aa1e51 button.colab-df-convert');\n",
              "        buttonEl.style.display =\n",
              "          google.colab.kernel.accessAllowed ? 'block' : 'none';\n",
              "\n",
              "        async function convertToInteractive(key) {\n",
              "          const element = document.querySelector('#df-804584db-12a2-4efe-93dc-2afbb7aa1e51');\n",
              "          const dataTable =\n",
              "            await google.colab.kernel.invokeFunction('convertToInteractive',\n",
              "                                                     [key], {});\n",
              "          if (!dataTable) return;\n",
              "\n",
              "          const docLinkHtml = 'Like what you see? Visit the ' +\n",
              "            '<a target=\"_blank\" href=https://colab.research.google.com/notebooks/data_table.ipynb>data table notebook</a>'\n",
              "            + ' to learn more about interactive tables.';\n",
              "          element.innerHTML = '';\n",
              "          dataTable['output_type'] = 'display_data';\n",
              "          await google.colab.output.renderOutput(dataTable, element);\n",
              "          const docLink = document.createElement('div');\n",
              "          docLink.innerHTML = docLinkHtml;\n",
              "          element.appendChild(docLink);\n",
              "        }\n",
              "      </script>\n",
              "    </div>\n",
              "  </div>\n",
              "  "
            ]
          },
          "metadata": {},
          "execution_count": 77
        }
      ]
    },
    {
      "cell_type": "code",
      "source": [
        "mov_rdd = sc.parallelize(data)\n",
        "type(mov_rdd)"
      ],
      "metadata": {
        "colab": {
          "base_uri": "https://localhost:8080/"
        },
        "id": "nnP-vOKQR43M",
        "outputId": "4b0823e1-ddea-45a6-d776-b418faab6bc1"
      },
      "execution_count": 67,
      "outputs": [
        {
          "output_type": "execute_result",
          "data": {
            "text/plain": [
              "pyspark.rdd.RDD"
            ]
          },
          "metadata": {},
          "execution_count": 67
        }
      ]
    },
    {
      "cell_type": "code",
      "source": [
        "headers"
      ],
      "metadata": {
        "colab": {
          "base_uri": "https://localhost:8080/"
        },
        "id": "ZjowzH4iSOZT",
        "outputId": "09ab2c42-1950-4ac8-8b89-56ea8f8d1e88"
      },
      "execution_count": 68,
      "outputs": [
        {
          "output_type": "execute_result",
          "data": {
            "text/plain": [
              "['userID', 'movieID', 'rating']"
            ]
          },
          "metadata": {},
          "execution_count": 68
        }
      ]
    },
    {
      "cell_type": "code",
      "source": [
        "def mapper(x):\n",
        "    return (int(x[1]), float(x[2]))"
      ],
      "metadata": {
        "id": "UdjNsTfdSbO7"
      },
      "execution_count": 69,
      "outputs": []
    },
    {
      "cell_type": "code",
      "source": [
        "res = mov_rdd.map(mapper)\\\n",
        "       .filter(lambda x: x[1] > 4)\\\n",
        "       .groupByKey()\\\n",
        "       .mapValues(len)\\\n",
        "       .sortBy(lambda x: x[1], ascending=False)"
      ],
      "metadata": {
        "id": "60tMue5HSFmj"
      },
      "execution_count": 80,
      "outputs": []
    },
    {
      "cell_type": "code",
      "source": [
        "res.collect()[:10]"
      ],
      "metadata": {
        "colab": {
          "base_uri": "https://localhost:8080/"
        },
        "id": "wkk2AjYoebxB",
        "outputId": "f485b2bc-d9c1-45db-b83d-c4a4c8ccdcdd"
      },
      "execution_count": 81,
      "outputs": [
        {
          "output_type": "execute_result",
          "data": {
            "text/plain": [
              "[(2571, 900),\n",
              " (318, 887),\n",
              " (296, 878),\n",
              " (2959, 828),\n",
              " (4993, 756),\n",
              " (7153, 719),\n",
              " (5952, 697),\n",
              " (858, 690),\n",
              " (50, 688),\n",
              " (2858, 680)]"
            ]
          },
          "metadata": {},
          "execution_count": 81
        }
      ]
    },
    {
      "cell_type": "code",
      "source": [
        "res.saveAsPickleFile('mov_res')"
      ],
      "metadata": {
        "id": "JKrLBZ1CefeR"
      },
      "execution_count": 82,
      "outputs": []
    },
    {
      "cell_type": "markdown",
      "metadata": {
        "id": "3BpNsZDmJQm2"
      },
      "source": [
        "**Домашнее задание 2**\n",
        "\n",
        "В этом задании у вас есть файл с обученным word2vec на произведении Достоевского Преступление и наказание. Файл - list, каждый элемент которого слово и его вектор в формате ('word', [vector]). Необходимо для каждого слова собрать список его top 10 похожих слов по косинусной метрике\n",
        "Результат также сохраните на диск и выведите синонимы для слова 'топор' и 'деньга'.\n",
        "Файл в пикле, так что для считывания воспользуйтесь не spark, можете взять любимый pandas\n",
        "\n",
        "Файл не очень уж и маленький, рекомендую сначала написать код на кошках/собачках, а потом уже на всем, так как ядра 2, считаться будет очень долго.\n",
        "В качестве одного из вариантов можете рассмотреть метод cartesian"
      ]
    },
    {
      "cell_type": "code",
      "source": [
        "from numpy import dot\n",
        "from numpy.linalg import norm\n",
        "\n",
        "def cos_sim(a, b):\n",
        "  return dot(a, b)/(norm(a)*norm(b))"
      ],
      "metadata": {
        "id": "Fpbz4Sg_gZ5L"
      },
      "execution_count": 97,
      "outputs": []
    },
    {
      "cell_type": "code",
      "source": [
        "import pickle\n",
        "\n",
        "data = pd.read_pickle('w2v_vectors.pickle')\n",
        "data[0]"
      ],
      "metadata": {
        "colab": {
          "base_uri": "https://localhost:8080/"
        },
        "id": "KekI93iySFND",
        "outputId": "9a11de18-2ead-4b75-a417-8d30e4f630e8"
      },
      "execution_count": 103,
      "outputs": [
        {
          "output_type": "execute_result",
          "data": {
            "text/plain": [
              "('это',\n",
              " [0.14321378,\n",
              "  -0.80575335,\n",
              "  -0.49581036,\n",
              "  -0.06394294,\n",
              "  -1.2238435,\n",
              "  -0.44410643,\n",
              "  0.49273458,\n",
              "  0.17389631,\n",
              "  -0.27776885,\n",
              "  0.50880307,\n",
              "  -0.07283105,\n",
              "  0.72964376,\n",
              "  1.1526197,\n",
              "  0.94315845,\n",
              "  -1.0720603,\n",
              "  -0.235505,\n",
              "  1.2034348,\n",
              "  -0.3744024,\n",
              "  -0.36203885,\n",
              "  -0.07914155,\n",
              "  0.3772516,\n",
              "  -0.878622,\n",
              "  -0.927112,\n",
              "  0.73365724,\n",
              "  0.107223585,\n",
              "  -0.39829564,\n",
              "  0.61899257,\n",
              "  0.29151887,\n",
              "  1.013499,\n",
              "  0.03111156])"
            ]
          },
          "metadata": {},
          "execution_count": 103
        }
      ]
    },
    {
      "cell_type": "code",
      "source": [
        "vec_rdd = sc.parallelize(data)"
      ],
      "metadata": {
        "id": "XoGwWPuGeycm"
      },
      "execution_count": 113,
      "outputs": []
    },
    {
      "cell_type": "code",
      "source": [
        "vec_rdd = vec_rdd.cartesian(vec_rdd)\\\n",
        "                  .map(lambda x: (x[0][0], (x[1][0], cos_sim(x[0][1], x[1][1]))))\\\n",
        "                  .filter(lambda x: x[0] != x[1][0])\\\n",
        "                  .groupByKey()\\\n",
        "                  .mapValues(list)\\\n",
        "                  .map(lambda x: (x[0], sorted(x[1], key=lambda x: x[1], reverse=True)[:10]))"
      ],
      "metadata": {
        "id": "xDejIKulf3uN"
      },
      "execution_count": 116,
      "outputs": []
    },
    {
      "cell_type": "code",
      "source": [
        "vec_rdd.filter(lambda x: x[0] in ('топор', 'деньга')).collect()"
      ],
      "metadata": {
        "colab": {
          "base_uri": "https://localhost:8080/"
        },
        "id": "izd7xRrnhhQR",
        "outputId": "37fa32ca-454b-4bda-a823-aab2f4554868"
      },
      "execution_count": 117,
      "outputs": [
        {
          "output_type": "execute_result",
          "data": {
            "text/plain": [
              "[('топор',\n",
              "  [('левый', 0.92365247),\n",
              "   ('старуха', 0.922432),\n",
              "   ('колено', 0.920666),\n",
              "   ('побежать', 0.9120595),\n",
              "   ('ломать', 0.91023904),\n",
              "   ('бросить', 0.90634286),\n",
              "   ('схватить', 0.902411),\n",
              "   ('обнять', 0.89990807),\n",
              "   ('бить', 0.89854604),\n",
              "   ('положить', 0.89723605)]),\n",
              " ('деньга',\n",
              "  [('вещь', 0.9063148),\n",
              "   ('отдать', 0.8706483),\n",
              "   ('убить', 0.842027),\n",
              "   ('значит', 0.83862835),\n",
              "   ('известно', 0.8266707),\n",
              "   ('отец', 0.81461805),\n",
              "   ('получить', 0.8137906),\n",
              "   ('ограбить', 0.8044243),\n",
              "   ('копейка', 0.8012078),\n",
              "   ('полечка', 0.78048515)])]"
            ]
          },
          "metadata": {},
          "execution_count": 117
        }
      ]
    },
    {
      "cell_type": "code",
      "source": [
        "vec_rdd.saveAsPickleFile('w2v_res')"
      ],
      "metadata": {
        "id": "qkrIw5ubiwR6"
      },
      "execution_count": 118,
      "outputs": []
    }
  ],
  "metadata": {
    "colab": {
      "provenance": []
    },
    "kernelspec": {
      "display_name": "Python 3",
      "language": "python",
      "name": "python3"
    },
    "language_info": {
      "codemirror_mode": {
        "name": "ipython",
        "version": 3
      },
      "file_extension": ".py",
      "mimetype": "text/x-python",
      "name": "python",
      "nbconvert_exporter": "python",
      "pygments_lexer": "ipython3",
      "version": "3.8.8"
    }
  },
  "nbformat": 4,
  "nbformat_minor": 0
}